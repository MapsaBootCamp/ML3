{
  "nbformat": 4,
  "nbformat_minor": 0,
  "metadata": {
    "colab": {
      "provenance": []
    },
    "kernelspec": {
      "name": "python3",
      "display_name": "Python 3"
    },
    "language_info": {
      "name": "python"
    }
  },
  "cells": [
    {
      "cell_type": "code",
      "source": [
        "from tensorflow import keras"
      ],
      "metadata": {
        "id": "5Wie7UYSVc74"
      },
      "execution_count": null,
      "outputs": []
    },
    {
      "cell_type": "code",
      "execution_count": null,
      "metadata": {
        "id": "O8D7dGmaTsql"
      },
      "outputs": [],
      "source": [
        "from sklearn.datasets import fetch_california_housing\n",
        "from sklearn.model_selection import train_test_split\n",
        "import matplotlib.pyplot as plt"
      ]
    },
    {
      "cell_type": "code",
      "source": [
        "housing = fetch_california_housing()\n",
        "X_train_full, X_test, y_train_full, y_test = train_test_split(housing.data, housing.target, random_state=42)\n",
        "X_train, X_valid, y_train, y_valid = train_test_split(X_train_full, y_train_full, random_state=42)"
      ],
      "metadata": {
        "id": "RAuTDAtkUJVc"
      },
      "execution_count": null,
      "outputs": []
    },
    {
      "cell_type": "code",
      "source": [
        "print(y_train_full.mean())\n",
        "print(y_train_full.max())"
      ],
      "metadata": {
        "id": "xJQq1PkWnfQq"
      },
      "execution_count": null,
      "outputs": []
    },
    {
      "cell_type": "code",
      "source": [
        "def build_model(norm_layer):\n",
        "  input = keras.layers.Input(shape=[8])y_ta\n",
        "  norm_data = norm_layer(input)\n",
        "  hidden1 = keras.layers.Dense(200, activation=\"relu\")(norm_data)\n",
        "  out_put = keras.layers.Dense(1)(hidden1)\n",
        "  model = keras.Model(inputs=[input], outputs=[out_put])\n",
        "\n",
        "  model.compile(loss=\"mse\", optimizer=\"adam\", metrics=[\"RootMeanSquaredError\"])\n",
        "\n",
        "  return model"
      ],
      "metadata": {
        "id": "1h6-XOOSVhBt"
      },
      "execution_count": null,
      "outputs": []
    },
    {
      "cell_type": "code",
      "source": [
        "norm_layer = keras.layers.Normalization()\n",
        "\n",
        "model = build_model(norm_layer)\n",
        "check_point = keras.callbacks.ModelCheckpoint(\"check_point_house.h5\", save_weights_only=True, save_best_only=True)\n",
        "early_stop = keras.callbacks.EarlyStopping(patience=5, restore_best_weights=True)\n",
        "norm_layer.adapt(X_train)\n",
        "model.fit(X_train, y_train, epochs=20, validation_data=(X_valid, y_valid), callbacks=[check_point, early_stop])"
      ],
      "metadata": {
        "id": "Noxg4y7_VpqL"
      },
      "execution_count": null,
      "outputs": []
    },
    {
      "cell_type": "code",
      "source": [
        "model = build_model(norm_layer)\n",
        "model_1 = model.load_weights(\"/content/check_point_house.h5\")"
      ],
      "metadata": {
        "id": "MffMJ2WLYu0w"
      },
      "execution_count": null,
      "outputs": []
    },
    {
      "cell_type": "code",
      "source": [
        "def build_model2(norm_layer):\n",
        "  input = keras.layers.Input(shape=[8])\n",
        "  norm_data = norm_layer(input)\n",
        "  hidden1 = keras.layers.Dense(300, activation=\"relu\")(norm_data)\n",
        "  hidden2 = keras.layers.Dense(200, activation=\"relu\")(hidden1)\n",
        "  out_put = keras.layers.Dense(1)(hidden2)\n",
        "  model = keras.Model(inputs=[input], outputs=[out_put])\n",
        "\n",
        "  model.compile(loss=\"mse\", optimizer=\"adam\", metrics=[\"RootMeanSquaredError\"])\n",
        "\n",
        "  return model"
      ],
      "metadata": {
        "id": "MZDrgdhyk9h-"
      },
      "execution_count": null,
      "outputs": []
    },
    {
      "cell_type": "code",
      "source": [
        "norm_layer = keras.layers.Normalization()\n",
        "\n",
        "model = build_model2(norm_layer)\n",
        "check_point = keras.callbacks.ModelCheckpoint(\"check_point_house.h5\", save_weights_only=True, save_best_only=True)\n",
        "early_stop = keras.callbacks.EarlyStopping(patience=5, restore_best_weights=True)\n",
        "norm_layer.adapt(X_train)\n",
        "history = model.fit(X_train, y_train, epochs=20, validation_data=(X_valid, y_valid), callbacks=[check_point, early_stop])"
      ],
      "metadata": {
        "id": "_NCqOZIIlDWb"
      },
      "execution_count": null,
      "outputs": []
    },
    {
      "cell_type": "code",
      "source": [
        "import pandas as pd\n",
        "pd.DataFrame(history.history).plot()"
      ],
      "metadata": {
        "id": "5e04G4sOlNPA"
      },
      "execution_count": null,
      "outputs": []
    },
    {
      "cell_type": "code",
      "source": [
        "def build_model3(norm_layer):\n",
        "  input = keras.layers.Input(shape=[8])\n",
        "  norm_data = norm_layer(input)\n",
        "  hidden1 = keras.layers.Dense(300, activation=\"relu\", kernel_regularizer= keras.regularizers.l2(0.01))(norm_data)\n",
        "  hidden2 = keras.layers.Dense(200, activation=\"relu\", kernel_regularizer= keras.regularizers.l2(0.01))(hidden1)\n",
        "  concat = keras.layers.Concatenate()([norm_data, hidden2])\n",
        "  model = keras.Model(inputs=[input], outputs=[concat])\n",
        "\n",
        "  model.compile(loss=\"mse\", optimizer=\"adam\", metrics=[\"RootMeanSquaredError\"])\n",
        "\n",
        "  return model"
      ],
      "metadata": {
        "id": "1uo01o0jlwiF"
      },
      "execution_count": null,
      "outputs": []
    },
    {
      "cell_type": "code",
      "source": [
        "norm_layer = keras.layers.Normalization()\n",
        "\n",
        "model = build_model3(norm_layer)\n",
        "check_point = keras.callbacks.ModelCheckpoint(\"check_point_house.h5\", save_weights_only=True, save_best_only=True)\n",
        "early_stop = keras.callbacks.EarlyStopping(patience=5, restore_best_weights=True)\n",
        "norm_layer.adapt(X_train)\n",
        "history = model.fit(X_train, y_train, epochs=20, validation_data=(X_valid, y_valid), callbacks=[check_point, early_stop])"
      ],
      "metadata": {
        "id": "PEbpEa8ZotEg"
      },
      "execution_count": null,
      "outputs": []
    },
    {
      "cell_type": "markdown",
      "source": [
        "##### Keras Subclassing"
      ],
      "metadata": {
        "id": "VfBJXTKTsG5b"
      }
    },
    {
      "cell_type": "code",
      "source": [
        "class MyModel(keras.Model):\n",
        "  def __init__(self, activation=\"relu\", **kwargs):\n",
        "    super().__init__(**kwargs)\n",
        "    self.norm_layer = keras.layers.Normalization()\n",
        "    self.hidden1 = keras.layers.Dense(300, activation=activation, kernel_regularizer= keras.regularizers.l2(0.01))\n",
        "    self.hidden2 = keras.layers.Dense(200, activation=activation, kernel_regularizer= keras.regularizers.l2(0.01))\n",
        "    self.concat = keras.layers.Concatenate()\n",
        "    self.out_put = keras.layers.Dense(1)\n",
        "\n",
        "  def adapt_norm_layer(self, input):\n",
        "    self.norm_layer.adapt(input)\n",
        "\n",
        "  def call(self, input):\n",
        "    self.adapt_layer(input)\n",
        "    input_ = self.norm_layer(input)\n",
        "    hidden1_ = self.hidden1(input_)\n",
        "    hidden2_ = self.hidden2(hidden1_)\n",
        "    concat = self.concat([input_, hidden2_])\n",
        "    return self.out_put(concat)"
      ],
      "metadata": {
        "id": "iVgPFdL6sI8M"
      },
      "execution_count": null,
      "outputs": []
    },
    {
      "cell_type": "code",
      "source": [
        "def build_model4():\n",
        "  model_dynamic = MyModel(name=\"Mapsa_Model\")\n",
        "\n",
        "  model_dynamic.compile(loss=\"mse\", optimizer=\"adam\", metrics=[\"RootMeanSquaredError\"])\n",
        "\n",
        "  return model_dynamic"
      ],
      "metadata": {
        "id": "-RMgWdbRuall"
      },
      "execution_count": null,
      "outputs": []
    },
    {
      "cell_type": "code",
      "source": [
        "model = build_model4()\n",
        "check_point = keras.callbacks.ModelCheckpoint(\"check_point_house.h5\", save_weights_only=True, save_best_only=True)\n",
        "early_stop = keras.callbacks.EarlyStopping(patience=5, restore_best_weights=True)\n",
        "history = model.fit(X_train, y_train, epochs=20, validation_data=(X_valid, y_valid), callbacks=[check_point, early_stop])"
      ],
      "metadata": {
        "id": "czULa1-buxWf"
      },
      "execution_count": null,
      "outputs": []
    },
    {
      "cell_type": "code",
      "source": [
        "model.summary()"
      ],
      "metadata": {
        "id": "LSW1fgJQvT4N"
      },
      "execution_count": null,
      "outputs": []
    },
    {
      "cell_type": "code",
      "source": [
        "from pathlib import Path\n",
        "from time import strftime\n",
        "import os\n",
        "\n",
        "def get_run_logdir(root_logdir=\"my_logs\"):\n",
        "  return Path(root_logdir) / strftime(\"run_%Y_%m_%d_%H_%M_%S\")\n",
        "\n",
        "run_logdir = get_run_logdir()"
      ],
      "metadata": {
        "id": "2LfePyaOv36s"
      },
      "execution_count": null,
      "outputs": []
    },
    {
      "cell_type": "code",
      "source": [
        "%pip install -q -U tensorboard-plugin-profile"
      ],
      "metadata": {
        "colab": {
          "base_uri": "https://localhost:8080/"
        },
        "id": "1qNUaqPD2zC7",
        "outputId": "8c3fcec1-6de1-438d-9f96-10786169aa83"
      },
      "execution_count": null,
      "outputs": [
        {
          "output_type": "stream",
          "name": "stdout",
          "text": [
            "\u001b[?25l     \u001b[90m━━━━━━━━━━━━━━━━━━━━━━━━━━━━━━━━━━━━━━━━\u001b[0m \u001b[32m0.0/5.4 MB\u001b[0m \u001b[31m?\u001b[0m eta \u001b[36m-:--:--\u001b[0m\r\u001b[2K     \u001b[91m━━━━━━━━━━━━━━━━━━━━━━━━━━━━━━━━━━━\u001b[0m\u001b[90m╺\u001b[0m\u001b[90m━━━━\u001b[0m \u001b[32m4.7/5.4 MB\u001b[0m \u001b[31m142.6 MB/s\u001b[0m eta \u001b[36m0:00:01\u001b[0m\r\u001b[2K     \u001b[91m━━━━━━━━━━━━━━━━━━━━━━━━━━━━━━━━━━━━━━━\u001b[0m\u001b[91m╸\u001b[0m \u001b[32m5.4/5.4 MB\u001b[0m \u001b[31m137.2 MB/s\u001b[0m eta \u001b[36m0:00:01\u001b[0m\r\u001b[2K     \u001b[90m━━━━━━━━━━━━━━━━━━━━━━━━━━━━━━━━━━━━━━━━\u001b[0m \u001b[32m5.4/5.4 MB\u001b[0m \u001b[31m71.3 MB/s\u001b[0m eta \u001b[36m0:00:00\u001b[0m\n",
            "\u001b[?25h"
          ]
        }
      ]
    },
    {
      "cell_type": "code",
      "source": [
        "model = build_model4()\n",
        "check_point = keras.callbacks.ModelCheckpoint(\"check_point_house.h5\", save_weights_only=True, save_best_only=True)\n",
        "early_stop = keras.callbacks.EarlyStopping(patience=5, restore_best_weights=True)\n",
        "tensorboard_cb = keras.callbacks.TensorBoard(run_logdir, profile_batch=(100, 200))\n",
        "history = model.fit(X_train, y_train, epochs=20, validation_data=(X_valid, y_valid), callbacks=[check_point, early_stop, tensorboard_cb])"
      ],
      "metadata": {
        "id": "RvmdAWr7xg9c"
      },
      "execution_count": null,
      "outputs": []
    },
    {
      "cell_type": "code",
      "source": [
        "%load_ext tensorboard\n",
        "%tensorboard --logdir=./my_logs"
      ],
      "metadata": {
        "id": "vmP1U89i3Obm"
      },
      "execution_count": null,
      "outputs": []
    },
    {
      "cell_type": "code",
      "source": [
        "%pip install keras-tuner"
      ],
      "metadata": {
        "id": "-wI3kVtG3i_2"
      },
      "execution_count": null,
      "outputs": []
    },
    {
      "cell_type": "code",
      "source": [
        "import keras_tuner as kt\n",
        "\n",
        "def build_model(hp):\n",
        "  n_hidden = hp.Int(\"n_hidden\", min_value=0, max_value=8,default=2)\n",
        "  n_neurons = hp.Int(\"n_neurons\", min_value=16, max_value=256)\n",
        "  learning_rate = hp.Float(\"learning_rate\", min_value=1e-4,max_value=1e-2, sampling=\"log\")\n",
        "  optimizer = hp.Choice(\"optimizer\", values=[\"sgd\", \"adam\"])\n",
        "\n",
        "\n",
        "  if optimizer == \"sgd\":\n",
        "    optimizer = keras.optimizers.SGD(learning_rate=learning_rate)\n",
        "  else:\n",
        "    optimizer = keras.optimizers.Adam(learning_rate=learning_rate)\n",
        "\n",
        "  model = keras.Sequential()\n",
        "  model.add(keras.layers.Flatten())\n",
        "  for _ in range(n_hidden):\n",
        "    model.add(keras.layers.Dense(n_neurons,activation=\"relu\"))\n",
        "  model.add(keras.layers.Dense(10, activation=\"softmax\"))\n",
        "  model.compile(loss=\"sparse_categorical_crossentropy\", optimizer=optimizer, metrics=[\"accuracy\"])\n",
        "  return model"
      ],
      "metadata": {
        "id": "Ct5jq8iu4Yme"
      },
      "execution_count": null,
      "outputs": []
    },
    {
      "cell_type": "code",
      "source": [
        "fashion_mnist = keras.datasets.fashion_mnist.load_data()\n",
        "(X_train_full, y_train_full), (X_test, y_test) = fashion_mnist"
      ],
      "metadata": {
        "id": "iba6se6t6jz3"
      },
      "execution_count": null,
      "outputs": []
    },
    {
      "cell_type": "code",
      "source": [
        "random_search_tuner = kt.RandomSearch(build_model, objective=\"val_accuracy\", max_trials=5, overwrite=True, directory=\"my_fashion_mnist\", project_name=\"my_rnd_search\", seed=42)\n",
        "random_search_tuner.search(X_train_full, y_train_full, epochs=10,validation_data=(X_test, y_test))"
      ],
      "metadata": {
        "id": "nJ4lvI5W7A8E"
      },
      "execution_count": null,
      "outputs": []
    }
  ]
}