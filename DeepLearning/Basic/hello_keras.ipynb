{
 "cells": [
  {
   "cell_type": "code",
   "execution_count": null,
   "metadata": {
    "id": "G_8ROjjG1G0m"
   },
   "outputs": [],
   "source": [
    "import tensorflow as tf"
   ]
  },
  {
   "cell_type": "code",
   "execution_count": null,
   "metadata": {
    "colab": {
     "base_uri": "https://localhost:8080/"
    },
    "id": "4f7nEWLa1mab",
    "outputId": "1bf96bd9-7e8d-401d-80ef-5f9d72237081"
   },
   "outputs": [],
   "source": [
    "fashion_mnist = tf.keras.datasets.fashion_mnist.load_data()"
   ]
  },
  {
   "cell_type": "code",
   "execution_count": null,
   "metadata": {
    "id": "a_iOenrl2FVm"
   },
   "outputs": [],
   "source": [
    "(X_train_full, y_train_full), (X_test, y_test) = fashion_mnist"
   ]
  },
  {
   "cell_type": "code",
   "execution_count": null,
   "metadata": {
    "id": "IxbQWqwT2H-z"
   },
   "outputs": [],
   "source": [
    "X_train, y_train = X_train_full[:-5000], y_train_full[:-5000]\n",
    "X_valid, y_valid = X_train_full[-5000:], y_train_full[-5000:]"
   ]
  },
  {
   "cell_type": "code",
   "execution_count": null,
   "metadata": {
    "id": "Zief8iKl5x3K"
   },
   "outputs": [],
   "source": [
    "X_train, X_valid, X_test = X_train / 255., X_valid / 255., X_test/ 255."
   ]
  },
  {
   "cell_type": "code",
   "execution_count": null,
   "metadata": {
    "id": "nZJj-3Qi6isD"
   },
   "outputs": [],
   "source": [
    "class_names = [\"T-shirt/top\", \"Trouser\", \"Pullover\", \"Dress\",\n",
    "\"Coat\",\n",
    "\"Sandal\", \"Shirt\", \"Sneaker\", \"Bag\", \"Ankle boot\"]"
   ]
  },
  {
   "cell_type": "code",
   "execution_count": null,
   "metadata": {
    "id": "6rovS3F46o3V"
   },
   "outputs": [],
   "source": [
    "tf.random.set_seed(42)\n",
    "model = tf.keras.Sequential()\n",
    "model.add(tf.keras.layers.InputLayer(input_shape=[28, 28]))\n",
    "model.add(tf.keras.layers.Flatten())\n",
    "model.add(tf.keras.layers.Dense(300, activation=\"relu\"))\n",
    "model.add(tf.keras.layers.Dense(100, activation=\"relu\"))\n",
    "model.add(tf.keras.layers.Dense(10, activation=\"softmax\"))"
   ]
  },
  {
   "cell_type": "code",
   "execution_count": null,
   "metadata": {
    "colab": {
     "base_uri": "https://localhost:8080/"
    },
    "id": "ZeWuxxxJ8OX3",
    "outputId": "df2cbd59-be40-4bad-f436-5aa84119c75d"
   },
   "outputs": [],
   "source": [
    "model.summary()"
   ]
  },
  {
   "cell_type": "code",
   "execution_count": null,
   "metadata": {
    "id": "ipFEyGeO8usi"
   },
   "outputs": [],
   "source": [
    "model.compile(loss=\"sparse_categorical_crossentropy\",\n",
    "optimizer=\"adam\",\n",
    "metrics=[\"accuracy\"])"
   ]
  },
  {
   "cell_type": "code",
   "execution_count": null,
   "metadata": {
    "colab": {
     "base_uri": "https://localhost:8080/"
    },
    "id": "FJnx_rLrX7So",
    "outputId": "d6e837e7-8db0-4b67-8eea-e0f74825d898"
   },
   "outputs": [],
   "source": [
    "history = model.fit(X_train, y_train, epochs=5, validation_data=(X_valid, y_valid))"
   ]
  },
  {
   "cell_type": "code",
   "execution_count": null,
   "metadata": {
    "id": "G4UHCIPjX94o"
   },
   "outputs": [],
   "source": [
    "model.evaluate(X_test, y_test)"
   ]
  },
  {
   "cell_type": "markdown",
   "metadata": {
    "id": "enUw64bvYAGY"
   },
   "source": [
    "## `Fine-Tune Hyperparameters`"
   ]
  },
  {
   "cell_type": "code",
   "execution_count": null,
   "metadata": {
    "id": "HwxTDBASEDsE"
   },
   "outputs": [],
   "source": [
    "%pip install keras-tuner"
   ]
  },
  {
   "cell_type": "code",
   "execution_count": null,
   "metadata": {
    "id": "9yRlJUuiDucf"
   },
   "outputs": [],
   "source": [
    "import keras_tuner as kt\n",
    "\n",
    "def build_model(hp):\n",
    "  n_hidden = hp.Int(\"n_hidden\", min_value=0, max_value=8,\n",
    "  default=2)\n",
    "  n_neurons = hp.Int(\"n_neurons\", min_value=16, max_value=256)\n",
    "  learning_rate = hp.Float(\"learning_rate\", min_value=1e-4,max_value=1e-2,\n",
    "  sampling=\"log\")\n",
    "  optimizer = hp.Choice(\"optimizer\", values=[\"sgd\", \"adam\"])\n",
    "  if optimizer == \"sgd\":\n",
    "    optimizer = tf.keras.optimizers.SGD(learning_rate=learning_rate)\n",
    "  else:\n",
    "    optimizer = tf.keras.optimizers.Adam(learning_rate=learning_rate)\n",
    "  model = tf.keras.Sequential()\n",
    "  model.add(tf.keras.layers.Flatten())\n",
    "  for _ in range(n_hidden):\n",
    "    model.add(tf.keras.layers.Dense(n_neurons, activation=\"relu\"))\n",
    "\n",
    "  model.add(tf.keras.layers.Dense(10, activation=\"softmax\"))\n",
    "  model.compile(loss=\"sparse_categorical_crossentropy\", optimizer=optimizer, \n",
    "                metrics=[\"accuracy\"])\n",
    "  return model"
   ]
  },
  {
   "cell_type": "code",
   "execution_count": null,
   "metadata": {
    "id": "vMWpXgHNljhm"
   },
   "outputs": [],
   "source": [
    "class MyClassificationHyperModel(kt.HyperModel):\n",
    "  def build(self, hp):\n",
    "    return build_model(hp)\n",
    "  def fit(self, hp, model, X, y, **kwargs):\n",
    "    batch_size = hp.Int(\"batch_size\", 32, 128, step=32, default=64)\n",
    "  \n",
    "    return model.fit(X, y, batch_size, **kwargs)"
   ]
  },
  {
   "cell_type": "code",
   "execution_count": null,
   "metadata": {
    "id": "hCJE9O_IFCyH"
   },
   "outputs": [],
   "source": [
    "hb_search_tuner = kt.Hyperband(MyClassificationHyperModel(), \n",
    "                                   factor=3, hyperband_iterations=2, \n",
    "                                   overwrite=True, directory=\"my_fashion_mnist\",\n",
    "                                   project_name=\"hyperband\",\n",
    "                                   max_epochs=10, objective=\"val_accuracy\", \n",
    "                                   seed=42)\n",
    "hb_search_tuner.search(X_train, y_train, epochs=10, validation_data=(X_valid, y_valid))"
   ]
  },
  {
   "cell_type": "code",
   "execution_count": null,
   "metadata": {
    "colab": {
     "background_save": true,
     "base_uri": "https://localhost:8080/"
    },
    "id": "GivkbwBdvk7k",
    "outputId": "c9ca6524-4af0-4c6d-d7ab-2f79c0d1cffc"
   },
   "outputs": [],
   "source": [
    "bayesian_opt_tuner = kt.BayesianOptimization(\n",
    "                                MyClassificationHyperModel(), objective=\"val_accuracy\",\n",
    "                                seed=42,\n",
    "                                max_trials=10, alpha=1e-4, beta=2.6,\n",
    "                                overwrite=True, directory=\"my_fashion_mnist\",\n",
    "                                project_name=\"bayesian_opt\")\n",
    "bayesian_opt_tuner.search(X_train, y_train, epochs=10, validation_data=(X_valid, y_valid))"
   ]
  },
  {
   "cell_type": "markdown",
   "metadata": {
    "id": "v_a9rp_doa9W"
   },
   "source": [
    "### *Functional* API, Bouston house"
   ]
  },
  {
   "cell_type": "code",
   "execution_count": null,
   "metadata": {
    "id": "fiqqLzHtB05L"
   },
   "outputs": [],
   "source": [
    "boston_house = tf.keras.datasets.boston_housing.load_data()"
   ]
  },
  {
   "cell_type": "code",
   "execution_count": null,
   "metadata": {
    "id": "I4Fdr3kJp3I2"
   },
   "outputs": [],
   "source": [
    "(X_train, y_train), (X_test, y_test) = boston_house"
   ]
  },
  {
   "cell_type": "code",
   "execution_count": null,
   "metadata": {
    "id": "wyELegzCqEok"
   },
   "outputs": [],
   "source": [
    "X_train.shape"
   ]
  },
  {
   "cell_type": "code",
   "execution_count": null,
   "metadata": {
    "id": "BK11PPweopjo"
   },
   "outputs": [],
   "source": [
    "tf.random.set_seed(42)\n",
    "\n",
    "norm_layer = tf.keras.layers.Normalization(input_shape=X_train.shape[1:])\n",
    "hidden_layer1 = tf.keras.layers.Dense(50, activation=\"relu\")\n",
    "hidden_layer2 = tf.keras.layers.Dense(50, activation=\"relu\")\n",
    "hidden_layer3 = tf.keras.layers.Dense(50, activation=\"relu\")\n",
    "output_layer = tf.keras.layers.Dense(1)\n",
    "\n",
    "input_ = tf.keras.layers.Input(shape=X_train.shape[1:])\n",
    "normalized = norm_layer(input_)\n",
    "hidden1 = hidden_layer1(normalized)\n",
    "hidden2 = hidden_layer2(hidden1)\n",
    "hidden3 = hidden_layer2(hidden2)\n",
    "output = output_layer(hidden3)\n",
    "\n",
    "model = tf.keras.Model(inputs=[input_], outputs=[output])\n",
    "\n",
    "optimizer = tf.keras.optimizers.Adam(learning_rate=1e-3)\n",
    "model.compile(loss=\"mse\", optimizer=optimizer, metrics=[\"RootMeanSquaredError\"])\n",
    "norm_layer.adapt(X_train)\n",
    "history = model.fit(X_train, y_train, validation_split=0.1 ,epochs=20)\n",
    "mse_test, rmse_test = model.evaluate(X_test, y_test)\n",
    "X_new = X_test[:3]\n",
    "y_pred = model.predict(X_new)"
   ]
  },
  {
   "cell_type": "markdown",
   "metadata": {
    "id": "dRq-w7cGabT9"
   },
   "source": [
    "### *Subclassing* API, Bouston house "
   ]
  },
  {
   "cell_type": "code",
   "execution_count": null,
   "metadata": {
    "id": "t5vT8VDirJ7b"
   },
   "outputs": [],
   "source": [
    "class WideAndDeepModel(tf.keras.Model):\n",
    "  def __init__(self, units=30, activation=\"relu\", **kwargs):\n",
    "    super().__init__(**kwargs) # needed to support naming the model\n",
    "    self.norm_layer_wide = tf.keras.layers.Normalization()\n",
    "    self.norm_layer_deep = tf.keras.layers.Normalization()\n",
    "    self.hidden1 = tf.keras.layers.Dense(units, activation=activation)\n",
    "    self.hidden2 = tf.keras.layers.Dense(units, activation=activation)\n",
    "    self.main_output = tf.keras.layers.Dense(1)\n",
    "    self.aux_output = tf.keras.layers.Dense(1)\n",
    "  def call(self, inputs):\n",
    "    input_wide, input_deep = inputs\n",
    "    norm_wide = self.norm_layer_wide(input_wide)\n",
    "    norm_deep = self.norm_layer_deep(input_deep)\n",
    "    hidden1 = self.hidden1(norm_deep)\n",
    "    hidden2 = self.hidden2(hidden1)\n",
    "    concat = tf.keras.layers.concatenate([norm_wide, hidden2])\n",
    "    output = self.main_output(concat)\n",
    "    aux_output = self.aux_output(hidden2)\n",
    "    return output, aux_output"
   ]
  },
  {
   "cell_type": "code",
   "execution_count": null,
   "metadata": {
    "id": "6e4d0WrCAgWJ"
   },
   "outputs": [],
   "source": [
    "class PrintValTrainRatioCallback(tf.keras.callbacks.Callback):\n",
    "  def on_epoch_end(self, epoch, logs):\n",
    "    print(logs)\n",
    "    ratio = logs[\"val_loss\"] / logs[\"loss\"]\n",
    "    print(f\"Epoch={epoch}, val/train={ratio:.2f}\")"
   ]
  },
  {
   "cell_type": "code",
   "execution_count": null,
   "metadata": {
    "id": "0kDgSZMcA8Bo"
   },
   "outputs": [],
   "source": [
    "test_callback = PrintValTrainRatioCallback()"
   ]
  },
  {
   "cell_type": "code",
   "execution_count": null,
   "metadata": {
    "id": "G1XRpfa2tnNw"
   },
   "outputs": [],
   "source": [
    "model = WideAndDeepModel()"
   ]
  },
  {
   "cell_type": "code",
   "execution_count": null,
   "metadata": {
    "id": "la4aoT0PtxxV"
   },
   "outputs": [],
   "source": [
    "X_train_wide, X_train_deep = X_train[:, :5], X_train[:, 2:]\n",
    "model.norm_layer_wide.adapt(X_train_wide)\n",
    "model.norm_layer_deep.adapt(X_train_deep)\n",
    "model.compile(loss=\"mse\", optimizer=\"Adam\", metrics=[\"RootMeanSquaredError\"])\n",
    "history = model.fit([X_train_wide, X_train_deep], y_train, validation_split=0.1 \n",
    "                    ,epochs=20, callbacks=[test_callback])\n",
    "X_test_wide, X_test_deep = X_test[:, :5], X_test[:, 2:]\n",
    "X_new_wide, X_new_deep = X_test_wide[:3], X_test_deep[:3]\n",
    "rmse_test = model.evaluate((X_test_wide, X_test_deep), y_test)\n",
    "X_new = X_test[:3]\n",
    "y_pred = model.predict((X_new_wide, X_new_deep))"
   ]
  }
 ],
 "metadata": {
  "colab": {
   "collapsed_sections": [],
   "name": "hello_keras.ipynb",
   "provenance": []
  },
  "gpuClass": "standard",
  "kernelspec": {
   "display_name": "Python 3 (ipykernel)",
   "language": "python",
   "name": "python3"
  },
  "language_info": {
   "codemirror_mode": {
    "name": "ipython",
    "version": 3
   },
   "file_extension": ".py",
   "mimetype": "text/x-python",
   "name": "python",
   "nbconvert_exporter": "python",
   "pygments_lexer": "ipython3",
   "version": "3.8.10"
  }
 },
 "nbformat": 4,
 "nbformat_minor": 4
}
