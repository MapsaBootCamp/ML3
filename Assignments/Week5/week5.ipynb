{
 "cells": [
  {
   "cell_type": "markdown",
   "id": "40697c1c-cc86-4f20-9d5d-1e6c2979bc13",
   "metadata": {},
   "source": [
    "<br><p style=\"margin-left: 25%; font-size:20px;\">Machine Learning Camp: HomeWork 5</p><br>"
   ]
  },
  {
   "cell_type": "markdown",
   "id": "42e988e2-b110-4fe2-bb40-212815474940",
   "metadata": {
    "tags": []
   },
   "source": [
    "##\n",
    "<span style=\"font-wight:bold;font-size:20px\">1. Text Data analysis:</span> using “lincoln-last-speech.txt” which contains Lincoln’s last public address. Now answer the following questions and include your codes."
   ]
  },
  {
   "cell_type": "markdown",
   "id": "282ec989-2848-4256-b6dc-a62e95125d6b",
   "metadata": {},
   "source": [
    "##### a) Read the text and store the text in lAddress. Show the first 70 characters from the first element of the text."
   ]
  },
  {
   "cell_type": "code",
   "execution_count": null,
   "id": "c76966b8-294e-4f78-8d0e-4be7b1523de1",
   "metadata": {},
   "outputs": [],
   "source": [
    "#TODO"
   ]
  },
  {
   "cell_type": "markdown",
   "id": "b25c28dc-6d9d-4bcd-b864-e90754485c7e",
   "metadata": {},
   "source": [
    "##### b) Now we are interested in the words used in his speech. Extract all the words from lAddress, convert all of them to lower case and store the result in vWord. Display first few words."
   ]
  },
  {
   "cell_type": "code",
   "execution_count": null,
   "id": "870b68f2-eeeb-4a98-817c-aca8beb28694",
   "metadata": {},
   "outputs": [],
   "source": [
    "#TODO"
   ]
  },
  {
   "cell_type": "markdown",
   "id": "ab02ba13-aecb-4c15-9f4b-a63e5ffadfd4",
   "metadata": {},
   "source": [
    "##### c) The words like am, is, my or through are not much of our interest and these types of words are called stop-words. Get all the English stop words and store them in sWord. Display few stop words in your report."
   ]
  },
  {
   "cell_type": "code",
   "execution_count": 1,
   "id": "d15a85b4-926b-4ecb-8b46-23b766865704",
   "metadata": {},
   "outputs": [],
   "source": [
    "#TODO"
   ]
  },
  {
   "cell_type": "markdown",
   "id": "00ab6e7e-d0cc-4ea3-bd77-e0a53b7d1fdf",
   "metadata": {},
   "source": [
    "##### d) Remove all the sWord from vWord and store the result in cleanWord. Display first few clean words."
   ]
  },
  {
   "cell_type": "code",
   "execution_count": 2,
   "id": "254af2d1-9fbf-4604-93f5-d0165054d07e",
   "metadata": {},
   "outputs": [],
   "source": [
    "#TODO"
   ]
  },
  {
   "cell_type": "markdown",
   "id": "3e6eb98b-5a5b-499d-9802-f266e39e2701",
   "metadata": {},
   "source": [
    "##### f) Construct a bar chart showing the count of each words for the 15 most frequently used words."
   ]
  },
  {
   "cell_type": "code",
   "execution_count": 3,
   "id": "4256b7dd-9680-4852-be6c-f1b4aa51cfb8",
   "metadata": {},
   "outputs": [],
   "source": [
    "#TODO"
   ]
  },
  {
   "cell_type": "markdown",
   "id": "5bc31d42-0a8b-42f1-8237-e26aff5a3dbd",
   "metadata": {},
   "source": [
    "##### h) The plot in question (1f) uses bar plot to display the data. Can you think of another plot that delivers the same information but looks much simpler? Demonstrate your answer by generating such a plot."
   ]
  },
  {
   "cell_type": "code",
   "execution_count": 4,
   "id": "f9be269c-45fa-46e7-b90a-4a7f6cf7ccf1",
   "metadata": {},
   "outputs": [],
   "source": [
    "#TODO"
   ]
  },
  {
   "cell_type": "markdown",
   "id": "c1312b9d-a0d5-43f6-94a6-5cd97c1b5455",
   "metadata": {
    "tags": []
   },
   "source": [
    "##\n",
    "<span style=\"font-wight:bold;font-size:20px\">2. Answering Questions from Data:</span> Download the data from [ \n",
    "https://github.com/MapsaBootCamp/useful_datasets/blob/master/structuralData/flights.csv ]. Answer the following questions using this data.\n"
   ]
  },
  {
   "cell_type": "markdown",
   "id": "92251706-a801-42d7-be40-9d00e46b31f7",
   "metadata": {},
   "source": [
    "##### a) What month had the highest proportion of cancelled flights? What month had the lowest? Interpretany seasonal patterns. Please produce a plot that illustrates the proportion of cancelled flights for each month."
   ]
  },
  {
   "cell_type": "code",
   "execution_count": 6,
   "id": "0d70561d-c2d1-49c2-82b2-841bc59b1db7",
   "metadata": {},
   "outputs": [],
   "source": [
    "#TODO"
   ]
  },
  {
   "cell_type": "markdown",
   "id": "1cda509a-5148-462d-a1af-b444de62308c",
   "metadata": {},
   "source": [
    "##### b) What plane (specified by the tailnum variable) traveled the most times from New York City airports in 2013? Plot the number of trips per week over the year."
   ]
  },
  {
   "cell_type": "code",
   "execution_count": 7,
   "id": "5026ef7a-2f39-49fa-a267-6818ddef4a0b",
   "metadata": {},
   "outputs": [],
   "source": [
    "#TODO"
   ]
  },
  {
   "cell_type": "markdown",
   "id": "8066f094-c423-4741-9205-fb955bb3e32a",
   "metadata": {},
   "source": [
    "##### c) Download the plane data from [ https://github.com/MapsaBootCamp/useful_datasets/blob/master/structuralData/planes.csv ]. Use the flights and planes tables to answer the following questions: What is the oldest plane (specified by the tailnum variable) that flew from New York City airports in 2013? How many airplanes that flew from New York City are included in the planes table?"
   ]
  },
  {
   "cell_type": "code",
   "execution_count": 8,
   "id": "783c8a6a-6f51-4d38-bc76-2b28454f88db",
   "metadata": {},
   "outputs": [],
   "source": [
    "#TODO"
   ]
  },
  {
   "cell_type": "markdown",
   "id": "20d6d704-57ad-403b-9b2b-99e6b21a3c0a",
   "metadata": {},
   "source": [
    "##### d) Use the flights and planes tables to answer the following questions: How many planes have a missing date of manufacture? What are the five most common manufacturers (Note: pay close attention to the same manufacturer being represented multiple times)? Has the distribution of manufacturer changed over time as reflected by the airplanes flying from NYC in 2013? Produce a plot that backs up your claim."
   ]
  },
  {
   "cell_type": "code",
   "execution_count": 9,
   "id": "239ffd7f-5106-4d69-bb9e-d7bd608827b9",
   "metadata": {},
   "outputs": [],
   "source": [
    "#TODO"
   ]
  },
  {
   "cell_type": "markdown",
   "id": "30cf6379-efa0-42fc-bf77-7b355c306f03",
   "metadata": {},
   "source": [
    "##\n",
    "<span style=\"font-wight:bold;font-size:20px\">3. Regular Expressions:</span> Write a regular expression to match patterns in the following strings. Demonstrate\n",
    "that your regular expression indeed matched that pattern by including codes and results."
   ]
  },
  {
   "cell_type": "markdown",
   "id": "dd803993-9326-4b85-b281-b444350f2380",
   "metadata": {},
   "source": [
    "##### a) We have a list vText as follows. Write a regular expression that matches g, og, go or ogo in vText and replace the matches with ‘.’."
   ]
  },
  {
   "cell_type": "code",
   "execution_count": 11,
   "id": "14e6e3e2-33a1-40cc-9d17-9fd9222bd865",
   "metadata": {},
   "outputs": [],
   "source": [
    "vText = ['google','logo','dig', 'blog', 'boogie']"
   ]
  },
  {
   "cell_type": "code",
   "execution_count": 12,
   "id": "991d0849-7fbd-4e56-a020-a783cd649d7e",
   "metadata": {},
   "outputs": [],
   "source": [
    "#TODO"
   ]
  },
  {
   "cell_type": "markdown",
   "id": "506dd8e8-b32b-42b3-897d-0fc574b6484c",
   "metadata": {},
   "source": [
    "##### b) Replace only the 5 or 6 digit numbers with the word “found” in the following list. Please make sure that 3, 4, or 7 digit numbers do not get changed."
   ]
  },
  {
   "cell_type": "code",
   "execution_count": 13,
   "id": "8b95b018-82e2-400d-a288-d68a1c019f2b",
   "metadata": {},
   "outputs": [],
   "source": [
    "vPhone = ['874','6783','345345', '32120', '468349', '8149674']"
   ]
  },
  {
   "cell_type": "code",
   "execution_count": 14,
   "id": "5ac59c7f-6687-466d-ad19-833f2e6da9c1",
   "metadata": {},
   "outputs": [],
   "source": [
    "#TODO"
   ]
  },
  {
   "cell_type": "markdown",
   "id": "dd7787da-c76a-46ce-839c-f31a0acbe1db",
   "metadata": {},
   "source": [
    "##### c) Replace all the characters that are not among the 26 English characters or a space. Please replace with an empty spring."
   ]
  },
  {
   "cell_type": "code",
   "execution_count": 15,
   "id": "772d5f4a-fd83-4bab-96c1-18f5f4c18e60",
   "metadata": {},
   "outputs": [],
   "source": [
    "myText = \"#y%o$u @g!o*t t9h(e) so#lu!tio$n c%or_r+e%ct\""
   ]
  },
  {
   "cell_type": "code",
   "execution_count": 16,
   "id": "d1372291-d85b-49a4-b919-e2b6d62cc607",
   "metadata": {},
   "outputs": [],
   "source": [
    "#TODO"
   ]
  },
  {
   "cell_type": "markdown",
   "id": "830d18d6-a556-4da1-ac68-76f2b268d08e",
   "metadata": {},
   "source": [
    "##### d) In the following text, replace all the words that are exactly 3 or 4 characters long with triple dots ‘. . . ’"
   ]
  },
  {
   "cell_type": "code",
   "execution_count": 17,
   "id": "676266d1-8ea0-4edd-b9df-6e2f46de6e26",
   "metadata": {},
   "outputs": [],
   "source": [
    "myText = \"Each of the three and four character words will be gone now\""
   ]
  },
  {
   "cell_type": "code",
   "execution_count": 18,
   "id": "0e2cce50-9269-4239-a064-e0f5de78c5f7",
   "metadata": {},
   "outputs": [],
   "source": [
    "#TODO"
   ]
  },
  {
   "cell_type": "markdown",
   "id": "9e069cf8-63ec-4fd5-8d01-3e000533881f",
   "metadata": {},
   "source": [
    "##### e) Extract all the three numbers embedded in the following text."
   ]
  },
  {
   "cell_type": "code",
   "execution_count": 19,
   "id": "391276cb-b8f3-406b-a017-8c4312f9253a",
   "metadata": {},
   "outputs": [],
   "source": [
    "bigText = 'There are four 20@14 numbers hid989den in the 500 texts'"
   ]
  },
  {
   "cell_type": "code",
   "execution_count": 20,
   "id": "f696810d-aff0-4c4b-a134-c91ce4d229f1",
   "metadata": {},
   "outputs": [],
   "source": [
    "#TODO"
   ]
  },
  {
   "cell_type": "markdown",
   "id": "9c2de3bc-7b9d-4292-a998-1a3c5594ec53",
   "metadata": {},
   "source": [
    "##### f) Extract all the words between parenthesis from the following string text and count number of words."
   ]
  },
  {
   "cell_type": "code",
   "execution_count": 21,
   "id": "ff687571-8659-4e98-8229-d3ba642b7c96",
   "metadata": {},
   "outputs": [],
   "source": [
    "myText = 'The salries are reported (in millions) for every company.'"
   ]
  },
  {
   "cell_type": "code",
   "execution_count": 22,
   "id": "e3599ecf-eec1-4374-88d4-b9d6df53287a",
   "metadata": {},
   "outputs": [],
   "source": [
    "#TODO"
   ]
  },
  {
   "cell_type": "markdown",
   "id": "adb63503-1385-4ce4-b711-1c74af77ae9d",
   "metadata": {},
   "source": [
    "##### g) Extract the texts in between _ and dot(.) in the following list. Your output should be ‘bill’, ‘pay’, ‘fine-book’."
   ]
  },
  {
   "cell_type": "code",
   "execution_count": 23,
   "id": "138531b1-b467-4da4-be01-d43d45a332e9",
   "metadata": {},
   "outputs": [],
   "source": [
    "myText = [\"H_bill.xls\", \"Big_H_pay.xls\", \"Use_case_fine-book.pdf\"]"
   ]
  },
  {
   "cell_type": "code",
   "execution_count": 24,
   "id": "4acc9d49-f77e-41b0-9676-2d9ad09afba3",
   "metadata": {},
   "outputs": [],
   "source": [
    "#TODO"
   ]
  },
  {
   "cell_type": "markdown",
   "id": "c636aab9-20ea-4895-a589-7bff34f6d8ea",
   "metadata": {},
   "source": [
    "##### h) Extract the numbers (return only integers) that are followed by the units ‘ml’ or ‘lb’ in the following text."
   ]
  },
  {
   "cell_type": "code",
   "execution_count": 25,
   "id": "2fde1405-5b94-4775-82f3-3708dbb02b34",
   "metadata": {},
   "outputs": [],
   "source": [
    "myText = 'Received 10 apples with 200ml water at 8pm with 15 lb meat and 2lb salt'"
   ]
  },
  {
   "cell_type": "code",
   "execution_count": 26,
   "id": "9a920c6c-8156-43cf-912e-18287a6b5205",
   "metadata": {},
   "outputs": [],
   "source": [
    "#TODO"
   ]
  },
  {
   "cell_type": "markdown",
   "id": "c730900e-5d30-490c-b53e-1ab271d84041",
   "metadata": {},
   "source": [
    "##### i) Extract only the word in between pair of symbols \\\\$. Count number of words you have found between pairs of dollar sign \\\\$"
   ]
  },
  {
   "cell_type": "code",
   "execution_count": 27,
   "id": "79220ba1-6eac-4aab-8e3b-3c1455677551",
   "metadata": {},
   "outputs": [],
   "source": [
    "myText = 'Math symbols are $written$ in $between$ dollar $signs$'"
   ]
  },
  {
   "cell_type": "code",
   "execution_count": 28,
   "id": "20daf141-048f-4244-abde-e339efde03a6",
   "metadata": {},
   "outputs": [],
   "source": [
    "#TODO"
   ]
  },
  {
   "cell_type": "markdown",
   "id": "c7d17049-c284-4f51-9293-82cf84c1f331",
   "metadata": {},
   "source": [
    "##### j) Extract all the valid equations in the following text."
   ]
  },
  {
   "cell_type": "code",
   "execution_count": 29,
   "id": "cb1d7f28-d7be-4130-9c95-ea304bf3aa9b",
   "metadata": {},
   "outputs": [],
   "source": [
    "myText = 'equation1: 2+3=5, equation2 is: 2*3=6, do not extract 2w3=6'"
   ]
  },
  {
   "cell_type": "code",
   "execution_count": 30,
   "id": "63537259-79b1-4c38-b4db-526dfd2d6735",
   "metadata": {},
   "outputs": [],
   "source": [
    "#TODO"
   ]
  }
 ],
 "metadata": {
  "kernelspec": {
   "display_name": "Python 3 (ipykernel)",
   "language": "python",
   "name": "python3"
  },
  "language_info": {
   "codemirror_mode": {
    "name": "ipython",
    "version": 3
   },
   "file_extension": ".py",
   "mimetype": "text/x-python",
   "name": "python",
   "nbconvert_exporter": "python",
   "pygments_lexer": "ipython3",
   "version": "3.8.10"
  }
 },
 "nbformat": 4,
 "nbformat_minor": 5
}
