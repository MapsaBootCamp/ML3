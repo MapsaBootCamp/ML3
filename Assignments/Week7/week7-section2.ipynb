{
 "cells": [
  {
   "cell_type": "markdown",
   "id": "47f59ba8",
   "metadata": {},
   "source": [
    "<br><p style=\"margin-left: 25%; font-size:20px;\">Machine Learning Camp: HomeWork 7 Section 2</p><br>"
   ]
  },
  {
   "cell_type": "markdown",
   "id": "2218b073",
   "metadata": {},
   "source": [
    "## 1. **Working with datetime data;** The object `myDate` contains the date and time. Based on this object answer the following questions and type the answer after your findings."
   ]
  },
  {
   "cell_type": "code",
   "execution_count": 1,
   "id": "8e4680e3",
   "metadata": {},
   "outputs": [],
   "source": [
    "myDate = \"2022-10-01 09:42:43\""
   ]
  },
  {
   "cell_type": "markdown",
   "id": "666d9ea6",
   "metadata": {},
   "source": [
    "a. Convert `myDate` into a datetime object with Iran time zone. Display the result."
   ]
  },
  {
   "cell_type": "code",
   "execution_count": 2,
   "id": "0debd74f",
   "metadata": {},
   "outputs": [],
   "source": [
    "# TODO"
   ]
  },
  {
   "cell_type": "markdown",
   "id": "f2684fe9",
   "metadata": {},
   "source": [
    "b. Write your codes so that it displays the week day and also the month of `myDate`."
   ]
  },
  {
   "cell_type": "code",
   "execution_count": 3,
   "id": "884c4d41",
   "metadata": {},
   "outputs": [],
   "source": [
    "# TODO"
   ]
  },
  {
   "cell_type": "markdown",
   "id": "57f8a4a0",
   "metadata": {},
   "source": [
    "c. What weekday and the month is it after exactly 100 years from `myDate`?"
   ]
  },
  {
   "cell_type": "code",
   "execution_count": 4,
   "id": "c8bc864e",
   "metadata": {},
   "outputs": [],
   "source": [
    "# TODO"
   ]
  },
  {
   "cell_type": "markdown",
   "id": "211c0893",
   "metadata": {},
   "source": [
    "d. Add two month with myDate and display the resulting date time."
   ]
  },
  {
   "cell_type": "code",
   "execution_count": 5,
   "id": "4427d37a",
   "metadata": {},
   "outputs": [],
   "source": [
    "# TODO"
   ]
  },
  {
   "cell_type": "markdown",
   "id": "717c3957",
   "metadata": {},
   "source": [
    "e. Suppose this homework is due on December 23, 2022 by 11.59PM. Compute and display how many seconds you got to complete this homework? Also compute the hours."
   ]
  },
  {
   "cell_type": "code",
   "execution_count": 6,
   "id": "8b46dd46",
   "metadata": {},
   "outputs": [],
   "source": [
    "# TODO"
   ]
  },
  {
   "cell_type": "markdown",
   "id": "a94748d3",
   "metadata": {},
   "source": [
    "f. For the years `2021` & `2022`, count the number of weekends. Which year has the highest number of Weekends?"
   ]
  },
  {
   "cell_type": "code",
   "execution_count": 7,
   "id": "062a60ff",
   "metadata": {},
   "outputs": [],
   "source": [
    "# TODO"
   ]
  },
  {
   "cell_type": "markdown",
   "id": "31f068c5",
   "metadata": {},
   "source": [
    "g. What is the month(MM) and day(DD) on the `305`th day of the current year?"
   ]
  },
  {
   "cell_type": "code",
   "execution_count": 8,
   "id": "5e17ad7a",
   "metadata": {
    "scrolled": false
   },
   "outputs": [],
   "source": [
    "# TODO"
   ]
  },
  {
   "cell_type": "markdown",
   "id": "2b6f4dd0",
   "metadata": {},
   "source": [
    "h. The Date `2022-10-20` is formatted `YYYY-MM-DD`, format it into `MM-DD-YYYY`"
   ]
  },
  {
   "cell_type": "code",
   "execution_count": 9,
   "id": "6c5a84c2",
   "metadata": {},
   "outputs": [],
   "source": [
    "# TODO"
   ]
  },
  {
   "cell_type": "markdown",
   "id": "8ecba4de",
   "metadata": {},
   "source": [
    "i. Find if the Date on the question above is the weekend or a weekday."
   ]
  },
  {
   "cell_type": "code",
   "execution_count": 10,
   "id": "bcc38e46",
   "metadata": {},
   "outputs": [],
   "source": [
    "# TODO"
   ]
  },
  {
   "cell_type": "markdown",
   "id": "5761a24f",
   "metadata": {},
   "source": [
    "## 2. **Walmart Sales Analysis:** load and read the dataset `walmart_sales.csv` and `walmart_fuel_prices.csv`.\n",
    "\n",
    "We will follow the following data description when working with the above 2 datasets:\n",
    "\n",
    " * `index:` index is a default value of count\n",
    " * `Store:` Store is represented in number ID(1,2,3,4,...)\n",
    " * `Dept:` Dept is Department in each Store represented in number ID (1,2,3,4,...)\n",
    " * `Date:` Date is in YYYY-MM-DD char format - *needs to be converted into Date data type*\n",
    " * `Weekly_Sales:` Sales of a given Dept in a given Store for the Date\n",
    " * `Temperature:` Average temperature on the Date at given Store region\n",
    " * `Fuel_Price:` Cost of the Fuel on the given Date at a given Store\n",
    " * `IsHoliday:` Is the given Date a holiday Week? "
   ]
  },
  {
   "cell_type": "code",
   "execution_count": 11,
   "id": "06623146",
   "metadata": {
    "scrolled": false
   },
   "outputs": [],
   "source": [
    "# TODO"
   ]
  },
  {
   "cell_type": "markdown",
   "id": "28576a96",
   "metadata": {},
   "source": [
    " a. For both datasets, breakdown the `Date` column and create additional new columns `Year`, `Month`, and `Day`. You should now have additional 3 new columns in your both dataset. Report only the column names for both the dataset."
   ]
  },
  {
   "cell_type": "code",
   "execution_count": 12,
   "id": "69d17cb5",
   "metadata": {},
   "outputs": [],
   "source": [
    "# TODO"
   ]
  },
  {
   "cell_type": "markdown",
   "id": "13877d45",
   "metadata": {},
   "source": [
    "b. In `walmart_sales`: which `Month(s)` of `Year` have the highest `Weekly_Sales`? Report the Year, Month, Store, and Dept."
   ]
  },
  {
   "cell_type": "code",
   "execution_count": 13,
   "id": "b3bbf97e",
   "metadata": {},
   "outputs": [],
   "source": [
    "# TODO"
   ]
  },
  {
   "cell_type": "markdown",
   "id": "e0a1faef",
   "metadata": {},
   "source": [
    "c. In `walmart_sales`: calculate the average monthly sales by Department for each Store. Which Store(s) has the highest average monthly sales on the department(s)? Report the Store, Department, Date."
   ]
  },
  {
   "cell_type": "code",
   "execution_count": 14,
   "id": "15ef73fa",
   "metadata": {},
   "outputs": [],
   "source": [
    "# TODO"
   ]
  },
  {
   "cell_type": "markdown",
   "id": "ee38e63a",
   "metadata": {},
   "source": [
    "d. In `walmart_sales`: which month of year `2011` has the highest overall sales by Store? Name the holiday(Labor day, July 4th, Halloween, Thanksgiving, Christmas,... etcs) that falls on the month. After that do the same for `2012`. Does the highest sales per month fall on the same holiday for both years? Report your findings for both year."
   ]
  },
  {
   "cell_type": "code",
   "execution_count": 15,
   "id": "67ce1306",
   "metadata": {},
   "outputs": [],
   "source": [
    "# TODO"
   ]
  },
  {
   "cell_type": "markdown",
   "id": "0e6c35a7",
   "metadata": {},
   "source": [
    " e. In `walmart_sales`: report the lowest sales per month for the year `2011` for `IsHoliday == TRUE`. Name the holiday(Labor day, July 4th, Halloween, Thanksgiving, Christmas,... etcs) that falls on the month. Do the same for `2012` and report if the lowest sales are on the same month."
   ]
  },
  {
   "cell_type": "code",
   "execution_count": 16,
   "id": "da376d70",
   "metadata": {
    "scrolled": false
   },
   "outputs": [],
   "source": [
    "# TODO"
   ]
  },
  {
   "cell_type": "markdown",
   "id": "1b50bfcd",
   "metadata": {},
   "source": [
    "f. In `walmart_sales`: We have 45 unique stores. Generate a nice plot on the total sales by store for the year `2012`. Report the Store number."
   ]
  },
  {
   "cell_type": "code",
   "execution_count": 17,
   "id": "4d83becc",
   "metadata": {},
   "outputs": [],
   "source": [
    "# TODO"
   ]
  },
  {
   "cell_type": "markdown",
   "id": "5289a946",
   "metadata": {},
   "source": [
    "g. In `walmart_fuel_prices`: For the year `2011` do you think higher the `temperature` relates to higher `fuel price`? Support your answer with a nice plot."
   ]
  },
  {
   "cell_type": "code",
   "execution_count": 18,
   "id": "42da1e4e",
   "metadata": {},
   "outputs": [],
   "source": [
    "# TODO"
   ]
  },
  {
   "cell_type": "markdown",
   "id": "1f3cf869",
   "metadata": {},
   "source": [
    " h. In `walmart_fuel_prices`: For the year `2010` which `Store` had the lowest Fuel Price? Report the `month` and `temperature`. On the same `month`, what was the highest fuel price for the store? Report the difference."
   ]
  },
  {
   "cell_type": "code",
   "execution_count": 19,
   "id": "ab2df5ad",
   "metadata": {},
   "outputs": [],
   "source": [
    "# TODO"
   ]
  },
  {
   "cell_type": "markdown",
   "id": "12b0075e",
   "metadata": {},
   "source": [
    "i. In `walmart_fuel_prices`: For the `IsHoliday == TRUE`, which month has the lowest `Fuel Price` for the year `2012`? name the holiday(Labor day, July 4th, Halloween, Thanksgiving, Christmas,... etcs) that falls on the month. Also report month of the highest fuel price and name of the holiday."
   ]
  },
  {
   "cell_type": "code",
   "execution_count": 20,
   "id": "ac259d5d",
   "metadata": {},
   "outputs": [],
   "source": [
    "# TODO"
   ]
  },
  {
   "cell_type": "markdown",
   "id": "320b4a0a",
   "metadata": {},
   "source": [
    "## 3. **COVID19 Time Series Data:**\n",
    "\n",
    "<br/>\n",
    "Download the data from\n",
    "<a target='_blank' href=\"https://raw.githubusercontent.com/CSSEGISandData/COVID-19/master/csse_covid_19_data/csse_covid_19_time_series/time_series_covid19_confirmed_US.csv\">[github link]</a>\n",
    "(https://raw.githubusercontent.com/CSSEGISandData/COVID-19/master/csse_covid_19_data/csse_covid_19_time_series/time_series_covid19_confirmed_US.csv) \n",
    "\n",
    "<br/>\n",
    "<br/>\n",
    "The link above contains a time-series data for COVID-19 confirmed cases in the US. Limit the data to only use `New York State` and please answer the following questions:\n",
    "\n"
   ]
  },
  {
   "cell_type": "markdown",
   "id": "9c4fa99f",
   "metadata": {},
   "source": [
    "a. What is the total confirmed cases in Nebraska as of October 30th 2020 as per the dataset?\n"
   ]
  },
  {
   "cell_type": "code",
   "execution_count": 21,
   "id": "698b1b5d",
   "metadata": {},
   "outputs": [],
   "source": [
    "# TODO"
   ]
  },
  {
   "cell_type": "markdown",
   "id": "9b27a973",
   "metadata": {},
   "source": [
    "b. On what date has the highest confirmed cases? Demonstrate using a suitable graph for all the available data.\n"
   ]
  },
  {
   "cell_type": "code",
   "execution_count": 22,
   "id": "b5f71a56",
   "metadata": {},
   "outputs": [],
   "source": [
    "# TODO"
   ]
  },
  {
   "cell_type": "markdown",
   "id": "82bc1299",
   "metadata": {},
   "source": [
    "c. Which County has the highest daily confirmed cases? Report both the County name and the date\n"
   ]
  },
  {
   "cell_type": "code",
   "execution_count": 23,
   "id": "856370d5",
   "metadata": {},
   "outputs": [],
   "source": [
    "# TODO"
   ]
  },
  {
   "cell_type": "markdown",
   "id": "db5f161f",
   "metadata": {},
   "source": [
    "d. Identify two countries that have top total confirmed cases. Generate a time series plot of daily confirm cases for these two countries.\n"
   ]
  },
  {
   "cell_type": "code",
   "execution_count": 24,
   "id": "a4380686",
   "metadata": {},
   "outputs": [],
   "source": [
    "# TODO"
   ]
  },
  {
   "cell_type": "markdown",
   "id": "f54baef0",
   "metadata": {},
   "source": [
    "e. Show the total confirmed cases for all the locations in an interactive world map (hint: you may use `leaflet` package in `python`.\n"
   ]
  },
  {
   "cell_type": "code",
   "execution_count": null,
   "id": "da907734",
   "metadata": {},
   "outputs": [],
   "source": [
    "# TODO"
   ]
  }
 ],
 "metadata": {
  "kernelspec": {
   "display_name": "Python 3 (ipykernel)",
   "language": "python",
   "name": "python3"
  },
  "language_info": {
   "codemirror_mode": {
    "name": "ipython",
    "version": 3
   },
   "file_extension": ".py",
   "mimetype": "text/x-python",
   "name": "python",
   "nbconvert_exporter": "python",
   "pygments_lexer": "ipython3",
   "version": "3.8.10"
  }
 },
 "nbformat": 4,
 "nbformat_minor": 5
}
