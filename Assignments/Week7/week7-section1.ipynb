{
 "cells": [
  {
   "cell_type": "markdown",
   "id": "85b822c2",
   "metadata": {},
   "source": [
    "<br><p style=\"margin-left: 25%; font-size:20px;\">Machine Learning Camp: HomeWork 7 Section 1</p><br>"
   ]
  },
  {
   "cell_type": "markdown",
   "id": "062c1974",
   "metadata": {},
   "source": [
    "## 1. **Extracting twitter data:** In this problem we would like to extract data from twitter."
   ]
  },
  {
   "cell_type": "markdown",
   "id": "3ee06a3d",
   "metadata": {},
   "source": [
    "a. **Twitter API:** Set up twitter API using any of the methods as mentioned in the class."
   ]
  },
  {
   "cell_type": "code",
   "execution_count": 2,
   "id": "7b1dc13f",
   "metadata": {},
   "outputs": [],
   "source": [
    "# TODO"
   ]
  },
  {
   "cell_type": "markdown",
   "id": "7bf5903e",
   "metadata": {},
   "source": [
    "b. Now search twitter messages for \"data science job\". Display few job informations."
   ]
  },
  {
   "cell_type": "code",
   "execution_count": 3,
   "id": "b4706756",
   "metadata": {},
   "outputs": [],
   "source": [
    "# TODO"
   ]
  },
  {
   "cell_type": "markdown",
   "id": "d18cc5c7",
   "metadata": {},
   "source": [
    "c. Search 300 tweets using the hash tag `#chess` and save them in an object called `rTweets`. Show the top 7 sources of tweets (such as android or iphone) in a ordered bar plot."
   ]
  },
  {
   "cell_type": "code",
   "execution_count": 4,
   "id": "300c3271",
   "metadata": {},
   "outputs": [],
   "source": [
    "# TODO"
   ]
  },
  {
   "cell_type": "markdown",
   "id": "a0d8fec3",
   "metadata": {},
   "source": [
    "d. Convert rTweets into a data frame and store it in an object called dTweets. Display some data from dTweets."
   ]
  },
  {
   "cell_type": "code",
   "execution_count": 5,
   "id": "0e7c4cde",
   "metadata": {
    "scrolled": true
   },
   "outputs": [],
   "source": [
    "# TODO "
   ]
  },
  {
   "cell_type": "markdown",
   "id": "62f70679",
   "metadata": {},
   "source": [
    "e. dTweets has a column showing the time the tweet was created. Generate a plot showing number of tweets on each of the hours."
   ]
  },
  {
   "cell_type": "code",
   "execution_count": 6,
   "id": "13c6b827",
   "metadata": {
    "scrolled": true
   },
   "outputs": [],
   "source": [
    "# TODO"
   ]
  },
  {
   "cell_type": "markdown",
   "id": "1817c004",
   "metadata": {},
   "source": [
    "f. Arrange the dataframe dTweets based on the retweetCount. While doing this select only columns text, screenName, retweetCount. Store the data in a object called mostTweets. Display five texts that are most retweeted."
   ]
  },
  {
   "cell_type": "code",
   "execution_count": 8,
   "id": "9f5673a7",
   "metadata": {
    "scrolled": false
   },
   "outputs": [],
   "source": [
    "# TODO"
   ]
  },
  {
   "cell_type": "markdown",
   "id": "494b69c0",
   "metadata": {},
   "source": [
    "g. Generate a bar chart showing top 15 screen names and count of retweets from mostTweets. Order the bars based on the retweet counts."
   ]
  },
  {
   "cell_type": "code",
   "execution_count": 9,
   "id": "fd0c8c4f",
   "metadata": {
    "scrolled": true
   },
   "outputs": [],
   "source": [
    "# TODO"
   ]
  },
  {
   "cell_type": "markdown",
   "id": "0f90e93b",
   "metadata": {},
   "source": [
    "## 2. **Working with databases:** Please follow the instruction below before answering the questions:\n",
    "* Import the sqlite3\n",
    "* Connect to titanic.db"
   ]
  },
  {
   "cell_type": "markdown",
   "id": "23126c1f",
   "metadata": {},
   "source": [
    "a. What is the average age of passengers who survived? Group the data by Sex. Display only the column `Sex`, `AverageAge`"
   ]
  },
  {
   "cell_type": "code",
   "execution_count": 10,
   "id": "48079bd7",
   "metadata": {},
   "outputs": [],
   "source": [
    "# TODO"
   ]
  },
  {
   "cell_type": "markdown",
   "id": "833db4b5",
   "metadata": {},
   "source": [
    "b. What is the percentage of passengers who survived in each Passenger Class or `Pclass`? Group the data by `Sex`. Display Pclass, Sex, percentage value. "
   ]
  },
  {
   "cell_type": "code",
   "execution_count": 11,
   "id": "34b1f293",
   "metadata": {},
   "outputs": [],
   "source": [
    "# TODO"
   ]
  },
  {
   "cell_type": "markdown",
   "id": "f77cc739",
   "metadata": {},
   "source": [
    "c. What is the average age of all the passenger (survived and not survived)? Group the data by `Pclass`, `Sex`, `Survived`. After that use `seaborn` to generate a line plot to show average age vs pclass, facet by sex and color it by survived."
   ]
  },
  {
   "cell_type": "code",
   "execution_count": 12,
   "id": "8bd1e502",
   "metadata": {},
   "outputs": [],
   "source": [
    "# TODO"
   ]
  },
  {
   "cell_type": "markdown",
   "id": "e24606d4",
   "metadata": {},
   "source": [
    "d. What is the name, age, sex and pclass of the 5 oldest and 5 youngest persons who died?"
   ]
  },
  {
   "cell_type": "code",
   "execution_count": 13,
   "id": "084a1019",
   "metadata": {},
   "outputs": [],
   "source": [
    "# TODO"
   ]
  },
  {
   "cell_type": "markdown",
   "id": "33b27917",
   "metadata": {},
   "source": [
    "e. On average which Passenger Class is more expensive?"
   ]
  },
  {
   "cell_type": "code",
   "execution_count": 14,
   "id": "a482458e",
   "metadata": {},
   "outputs": [],
   "source": [
    "# TODO"
   ]
  }
 ],
 "metadata": {
  "kernelspec": {
   "display_name": "Python 3 (ipykernel)",
   "language": "python",
   "name": "python3"
  },
  "language_info": {
   "codemirror_mode": {
    "name": "ipython",
    "version": 3
   },
   "file_extension": ".py",
   "mimetype": "text/x-python",
   "name": "python",
   "nbconvert_exporter": "python",
   "pygments_lexer": "ipython3",
   "version": "3.8.10"
  }
 },
 "nbformat": 4,
 "nbformat_minor": 5
}
