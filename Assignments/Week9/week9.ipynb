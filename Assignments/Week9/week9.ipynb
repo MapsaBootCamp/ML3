{
 "cells": [
  {
   "cell_type": "markdown",
   "metadata": {},
   "source": [
    "<div dir = \"rtl\" style=\"direction:rtl;line-height:300%;\">\n",
    "\t<font face=\"XB Zar\" size=6 color=#F32500>\n",
    "        <div  align=center>\n",
    "            تمرین هفته هشتم بوت کمپ یادگیری ماشین-\n",
    "            مپصا\n",
    "        </div>\n",
    "        <br/>\n",
    "    </font>\n",
    "</div>"
   ]
  },
  {
   "cell_type": "markdown",
   "metadata": {},
   "source": [
    "<div id=\"bayes\" style=\"direction:rtl;line-height:300%;\">\n",
    "\t<font face=\"XB Zar\" size=4>\n",
    "\t\t سوال یک:‌ هدف از این سوال آشنایی با الگوریتم K نزدیکترین همسایه براي مسایل دسته بندي میباشد.\n",
    "\t\tمجموعه داده را از لینک زیر دانلود کنید و به سوالات پاسخ دهید.\n",
    "\t\t</br>\n",
    "\t\t</br>\n",
    "</div>\n",
    "\t\thttps://archive.ics.uci.edu/ml/machine-learning-databases/heart-disease/processed.cleveland.data"
   ]
  },
  {
   "cell_type": "markdown",
   "metadata": {},
   "source": [
    " <div id=\"bayes\" style=\"direction:rtl;line-height:300%; padding-right: 200px;\">\n",
    "\t<font face=\"XB Zar\" size=4>\n",
    " الف- الگوریتم K نزدیکترین همسایه را با استفاده از معیار فاصله اقلیدسی پیاده سازي نمایید. در این پیاده سازي\n",
    "از تمامی ویژگیهاي این مجموعه داده که شامل 13 ویژگی است، استفاده نمایید. این مجموعه داده شامل 303 شخص  میباشد که به دو کلاس بیمار و سالم تقسیم شدهاند. مقادیر 1 تا 7، 10 و 15 را براي این الگوریتم استفاده نمایید و بهترین\n",
    "مقدار K را بدست آورید. لازم به ذکر است که در این بخش دادهها را به دو بخش یادگیري و آزمون با نسبت 2 به 1 تقسیم کنید. در نهایت دقت الگوریتم و ماتریس پریشانی را براي مجموعه داده آموزش و آزمون گزارش نمایید.\n",
    "\t\t</br>\n",
    "\t\t</br>\n",
    "</div>"
   ]
  },
  {
   "cell_type": "code",
   "execution_count": null,
   "metadata": {},
   "outputs": [],
   "source": [
    "# TODO"
   ]
  },
  {
   "cell_type": "markdown",
   "metadata": {},
   "source": [
    " <div id=\"bayes\" style=\"direction:rtl;line-height:300%; padding-right: 200px;\">\n",
    "\t<font face=\"XB Zar\" size=4>\n",
    "    ب- قسمت الف را فقط براي بهترین مقدار K ولی بدون نرمالسازي ویژگیها انجام دهید و نتیجه به دست آمده را با\n",
    "قسمت قبلی مقایسه نمایید. به صورت کلی استفاده از نرمالسازي چه تاثیري بر روي دسته بندي میتواند داشته باشد؟\n",
    " توضیح دهید.\n",
    "</div>\n"
   ]
  },
  {
   "cell_type": "code",
   "execution_count": null,
   "metadata": {},
   "outputs": [],
   "source": [
    "# TODO"
   ]
  },
  {
   "cell_type": "markdown",
   "metadata": {},
   "source": [
    "<div id=\"bayes\" style=\"direction:rtl;line-height:300%; padding-right: 200px;\">\n",
    "\t<font face=\"XB Zar\" size=4>\n",
    "ج- قسمت الف را بار دیگر با معیارهاي فاصله زیر انجام دهید.\n",
    "</br>\n",
    "1. Manhattan 2. Chebyshev\n",
    "</div>"
   ]
  },
  {
   "cell_type": "code",
   "execution_count": null,
   "metadata": {},
   "outputs": [],
   "source": [
    "# TODO"
   ]
  },
  {
   "cell_type": "markdown",
   "metadata": {},
   "source": [
    "<div id=\"bayes\" style=\"direction:rtl;line-height:300%;\">\n",
    "\t<font face=\"XB Zar\" size=4>\n",
    "\n",
    "سوال دو: در این تمرین از الگوریتم K نزدیکترین همسایه براي رگرسیون استفاده نمایید. مجموعه داده regression که در کنار\n",
    "این فایل قرار داده شده است را به دو بخش آموزش و آزمون با نسبت 2 به 1 تقسیم نمایید. سپس بهترین مقدار K را با  آزمون خطا بهدست آورید. خطاي MSE را براي این مدل براي هر دو مجموعه داده آزمون و آموزش گزارش کنید. مجموعه داده آموزش و آزمون را با رنگهاي متفاوت در نموداري نمایش دهید.\n",
    "</div>"
   ]
  },
  {
   "cell_type": "code",
   "execution_count": null,
   "metadata": {},
   "outputs": [],
   "source": [
    "# TODO"
   ]
  }
 ],
 "metadata": {
  "kernelspec": {
   "display_name": "Python 3 (ipykernel)",
   "language": "python",
   "name": "python3"
  },
  "language_info": {
   "codemirror_mode": {
    "name": "ipython",
    "version": 3
   },
   "file_extension": ".py",
   "mimetype": "text/x-python",
   "name": "python",
   "nbconvert_exporter": "python",
   "pygments_lexer": "ipython3",
   "version": "3.8.10"
  },
  "vscode": {
   "interpreter": {
    "hash": "31f2aee4e71d21fbe5cf8b01ff0e069b9275f58929596ceb00d14d90e3e16cd6"
   }
  }
 },
 "nbformat": 4,
 "nbformat_minor": 4
}
