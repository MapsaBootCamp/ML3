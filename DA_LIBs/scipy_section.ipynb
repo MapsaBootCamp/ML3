{
 "cells": [
  {
   "cell_type": "code",
   "execution_count": null,
   "id": "a8b96a19-9072-4e4b-9953-e4ff19f200ba",
   "metadata": {},
   "outputs": [],
   "source": [
    "! pip install scipy"
   ]
  },
  {
   "cell_type": "code",
   "execution_count": 2,
   "id": "f602373f-dd51-4213-bf50-b4957c89a822",
   "metadata": {},
   "outputs": [],
   "source": [
    "import scipy as sp"
   ]
  },
  {
   "cell_type": "markdown",
   "id": "dd744144-51bf-4599-82a1-638b605eff56",
   "metadata": {},
   "source": [
    "## Integration"
   ]
  },
  {
   "cell_type": "code",
   "execution_count": null,
   "id": "05b8778f-2612-4dc3-8820-0a71d31344d1",
   "metadata": {},
   "outputs": [],
   "source": [
    "help(sp.integrate)"
   ]
  },
  {
   "cell_type": "code",
   "execution_count": 5,
   "id": "d8af4382-d523-4652-b994-70b9563165e7",
   "metadata": {},
   "outputs": [],
   "source": [
    "from scipy.integrate import quad"
   ]
  },
  {
   "cell_type": "code",
   "execution_count": 6,
   "id": "de98c910-91a6-493e-866d-8b74c864e8de",
   "metadata": {},
   "outputs": [
    {
     "data": {
      "text/plain": [
       "(1.6666666666666667, 1.8503717077085944e-14)"
      ]
     },
     "execution_count": 6,
     "metadata": {},
     "output_type": "execute_result"
    }
   ],
   "source": [
    "def integrand(x, a, b):\n",
    "    return a*x**2 + b\n",
    "\n",
    "a = 2\n",
    "b = 1\n",
    "I = quad(integrand, 0, 1, args=(a,b))\n",
    "I"
   ]
  },
  {
   "cell_type": "markdown",
   "id": "04a823cc-49bc-4562-8cf0-131b1d04bc39",
   "metadata": {},
   "source": [
    "## Optimization"
   ]
  },
  {
   "cell_type": "code",
   "execution_count": null,
   "id": "409e7e2f-ea21-4d24-b813-48b20eb99077",
   "metadata": {},
   "outputs": [],
   "source": [
    "help(sp.optimize)"
   ]
  },
  {
   "cell_type": "code",
   "execution_count": 8,
   "id": "df087dba-87af-4555-9225-372dcfea9c91",
   "metadata": {},
   "outputs": [],
   "source": [
    "from scipy.optimize import minimize"
   ]
  },
  {
   "cell_type": "code",
   "execution_count": 9,
   "id": "ab3902dd-f41f-47d1-a24c-edbf6045bc2a",
   "metadata": {},
   "outputs": [],
   "source": [
    "def f(x):\n",
    "    return (x - 2)**2 "
   ]
  },
  {
   "cell_type": "code",
   "execution_count": 14,
   "id": "734865b4-52e6-4034-8aae-323304614ed2",
   "metadata": {},
   "outputs": [
    {
     "data": {
      "text/plain": [
       "      fun: 5.551437397369767e-17\n",
       " hess_inv: array([[0.5]])\n",
       "      jac: array([-4.3254289e-13])\n",
       "  message: 'Optimization terminated successfully.'\n",
       "     nfev: 6\n",
       "      nit: 2\n",
       "     njev: 3\n",
       "   status: 0\n",
       "  success: True\n",
       "        x: array([1.99999999])"
      ]
     },
     "execution_count": 14,
     "metadata": {},
     "output_type": "execute_result"
    }
   ],
   "source": [
    "minimize(f, 1)"
   ]
  }
 ],
 "metadata": {
  "kernelspec": {
   "display_name": "Python 3 (ipykernel)",
   "language": "python",
   "name": "python3"
  },
  "language_info": {
   "codemirror_mode": {
    "name": "ipython",
    "version": 3
   },
   "file_extension": ".py",
   "mimetype": "text/x-python",
   "name": "python",
   "nbconvert_exporter": "python",
   "pygments_lexer": "ipython3",
   "version": "3.8.10"
  }
 },
 "nbformat": 4,
 "nbformat_minor": 5
}
