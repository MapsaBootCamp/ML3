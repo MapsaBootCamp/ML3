{
 "cells": [
  {
   "cell_type": "code",
   "execution_count": 1,
   "id": "62a6d263-8bf8-4f14-80cf-2b86af187b62",
   "metadata": {},
   "outputs": [],
   "source": [
    "import numpy as np"
   ]
  },
  {
   "cell_type": "markdown",
   "id": "2acbc23e-e137-4f1f-bd30-ed7d34ac6769",
   "metadata": {},
   "source": [
    "## Basic\n",
    "\n",
    "\n",
    "1 ----> 0_dim \\n\n",
    "\n",
    "\n",
    "\n",
    "N_dim -----> (N-1)_dim"
   ]
  },
  {
   "cell_type": "code",
   "execution_count": 30,
   "id": "3956c056-0e14-4a7e-b24e-b6c6399fcee9",
   "metadata": {},
   "outputs": [],
   "source": [
    "my_arr = np.array([[[1, 2]], [[2, 5]], [[3, 8]]], dtype=np.int32)"
   ]
  },
  {
   "cell_type": "code",
   "execution_count": 31,
   "id": "65f36faf-3489-494c-9fda-4e2a475c9694",
   "metadata": {},
   "outputs": [
    {
     "data": {
      "text/plain": [
       "3"
      ]
     },
     "execution_count": 31,
     "metadata": {},
     "output_type": "execute_result"
    }
   ],
   "source": [
    "my_arr.ndim"
   ]
  },
  {
   "cell_type": "code",
   "execution_count": 33,
   "id": "a59d1e65-f948-468b-b11d-af590abe766b",
   "metadata": {},
   "outputs": [
    {
     "data": {
      "text/plain": [
       "(3, 1, 2)"
      ]
     },
     "execution_count": 33,
     "metadata": {},
     "output_type": "execute_result"
    }
   ],
   "source": [
    "my_arr.shape"
   ]
  },
  {
   "cell_type": "code",
   "execution_count": 34,
   "id": "1bada5f0-376e-481a-846d-3a207f853954",
   "metadata": {},
   "outputs": [
    {
     "data": {
      "text/plain": [
       "dtype('int32')"
      ]
     },
     "execution_count": 34,
     "metadata": {},
     "output_type": "execute_result"
    }
   ],
   "source": [
    "my_arr.dtype"
   ]
  },
  {
   "cell_type": "code",
   "execution_count": 35,
   "id": "599b86b2-8549-462b-b7ea-b349b3320a0b",
   "metadata": {},
   "outputs": [
    {
     "data": {
      "text/plain": [
       "4"
      ]
     },
     "execution_count": 35,
     "metadata": {},
     "output_type": "execute_result"
    }
   ],
   "source": [
    "my_arr.itemsize"
   ]
  },
  {
   "cell_type": "code",
   "execution_count": 36,
   "id": "11981827-a750-41ae-ac06-7c7fb4f699a4",
   "metadata": {},
   "outputs": [
    {
     "data": {
      "text/plain": [
       "6"
      ]
     },
     "execution_count": 36,
     "metadata": {},
     "output_type": "execute_result"
    }
   ],
   "source": [
    "my_arr.size"
   ]
  },
  {
   "cell_type": "markdown",
   "id": "a23e5d60-511d-4f91-8460-08ff62264cee",
   "metadata": {},
   "source": [
    "## Slicing, Selection"
   ]
  },
  {
   "cell_type": "code",
   "execution_count": 49,
   "id": "dee8a331-bd15-41d7-932e-7507a07dcb05",
   "metadata": {},
   "outputs": [],
   "source": [
    "my_arr = np.array([[[1, 2, 3], [5, 8, 32]], [[2, 5, 12], [76, 12, 18]], [[3, 3, 8], [54, 22, -21]]], dtype=np.int32)"
   ]
  },
  {
   "cell_type": "code",
   "execution_count": 50,
   "id": "6097b36d-9625-4f72-8149-dcfd83881460",
   "metadata": {},
   "outputs": [
    {
     "data": {
      "text/plain": [
       "2"
      ]
     },
     "execution_count": 50,
     "metadata": {},
     "output_type": "execute_result"
    }
   ],
   "source": [
    "my_arr[0, 0, 1]"
   ]
  },
  {
   "cell_type": "code",
   "execution_count": 51,
   "id": "a6e372d4-619b-4b12-9209-edd2a598b999",
   "metadata": {},
   "outputs": [
    {
     "data": {
      "text/plain": [
       "76"
      ]
     },
     "execution_count": 51,
     "metadata": {},
     "output_type": "execute_result"
    }
   ],
   "source": [
    "my_arr[1][1][0]"
   ]
  },
  {
   "cell_type": "code",
   "execution_count": 39,
   "id": "c087e8a4-fc74-490b-9ffd-0a8bceb73da2",
   "metadata": {},
   "outputs": [],
   "source": [
    "my_arr[0, 0, 1] = 12"
   ]
  },
  {
   "cell_type": "code",
   "execution_count": 56,
   "id": "09e17138-daf4-4c6a-934e-70818d6ab45f",
   "metadata": {},
   "outputs": [
    {
     "data": {
      "text/plain": [
       "array([[ 5,  8],\n",
       "       [76, 12],\n",
       "       [54, 22]], dtype=int32)"
      ]
     },
     "execution_count": 56,
     "metadata": {},
     "output_type": "execute_result"
    }
   ],
   "source": [
    "my_arr[:, 1 , :2]"
   ]
  },
  {
   "cell_type": "markdown",
   "id": "5daa9018-e901-423b-bd00-840efec93d9c",
   "metadata": {},
   "source": [
    "## generate ndarray"
   ]
  },
  {
   "cell_type": "code",
   "execution_count": 63,
   "id": "24175385-3b2c-4848-a387-60a342207dc4",
   "metadata": {},
   "outputs": [
    {
     "data": {
      "text/plain": [
       "array([[[0., 0.],\n",
       "        [0., 0.]],\n",
       "\n",
       "       [[0., 0.],\n",
       "        [0., 0.]],\n",
       "\n",
       "       [[0., 0.],\n",
       "        [0., 0.]]])"
      ]
     },
     "execution_count": 63,
     "metadata": {},
     "output_type": "execute_result"
    }
   ],
   "source": [
    "np.zeros((3, 2, 2))"
   ]
  },
  {
   "cell_type": "code",
   "execution_count": 66,
   "id": "7e288c2a-f31a-4ed2-b7fc-ab8182b0589a",
   "metadata": {},
   "outputs": [
    {
     "data": {
      "text/plain": [
       "array([[[1., 1.],\n",
       "        [1., 1.]],\n",
       "\n",
       "       [[1., 1.],\n",
       "        [1., 1.]],\n",
       "\n",
       "       [[1., 1.],\n",
       "        [1., 1.]]])"
      ]
     },
     "execution_count": 66,
     "metadata": {},
     "output_type": "execute_result"
    }
   ],
   "source": [
    "np.ones((3, 2, 2))"
   ]
  },
  {
   "cell_type": "code",
   "execution_count": 71,
   "id": "6a10df43-f3ef-4ad2-821f-618ee7e8d34e",
   "metadata": {},
   "outputs": [
    {
     "data": {
      "text/plain": [
       "array([[ 1.,  1.,  1.,  1.,  1.,  1.,  1.,  1.,  1.,  1.,  1.],\n",
       "       [ 1.,  1.,  1.,  1.,  1.,  1.,  1.,  1.,  1.,  1.,  1.],\n",
       "       [ 1.,  1.,  0.,  0.,  0.,  0.,  0.,  0.,  0.,  1.,  1.],\n",
       "       [ 1.,  1.,  0.,  0.,  0.,  0.,  0.,  0.,  0.,  1.,  1.],\n",
       "       [ 1.,  1.,  0.,  0.,  0.,  0.,  0.,  0.,  0.,  1.,  1.],\n",
       "       [ 1.,  1.,  0.,  0.,  0., 11.,  0.,  0.,  0.,  1.,  1.],\n",
       "       [ 1.,  1.,  0.,  0.,  0.,  0.,  0.,  0.,  0.,  1.,  1.],\n",
       "       [ 1.,  1.,  0.,  0.,  0.,  0.,  0.,  0.,  0.,  1.,  1.],\n",
       "       [ 1.,  1.,  0.,  0.,  0.,  0.,  0.,  0.,  0.,  1.,  1.],\n",
       "       [ 1.,  1.,  1.,  1.,  1.,  1.,  1.,  1.,  1.,  1.,  1.],\n",
       "       [ 1.,  1.,  1.,  1.,  1.,  1.,  1.,  1.,  1.,  1.,  1.]])"
      ]
     },
     "execution_count": 71,
     "metadata": {},
     "output_type": "execute_result"
    }
   ],
   "source": [
    "kashi_arr = np.ones((11, 11))\n",
    "kashi_arr[2:-2, 2:-2] = 0\n",
    "kashi_arr[5, 5] = 11\n",
    "\n",
    "kashi_arr"
   ]
  },
  {
   "cell_type": "code",
   "execution_count": 127,
   "id": "16a06454-1cd5-47eb-8b57-b2f71b5f2d3a",
   "metadata": {},
   "outputs": [
    {
     "data": {
      "text/plain": [
       "array([[ 1.,  1.,  1.,  1.,  1.,  1.,  1.,  1.,  1.,  1.,  1.],\n",
       "       [ 1.,  1.,  1.,  1.,  1.,  1.,  1.,  1.,  1.,  1.,  1.],\n",
       "       [ 1.,  1.,  0.,  0.,  0.,  0.,  0.,  0.,  0.,  1.,  1.],\n",
       "       [ 1.,  1.,  0.,  0.,  0.,  0.,  0.,  0.,  0.,  1.,  1.],\n",
       "       [ 1.,  1.,  0.,  0.,  0.,  0.,  0.,  0.,  0.,  1.,  1.],\n",
       "       [ 1.,  1.,  0.,  0.,  0., 11.,  0.,  0.,  0.,  1.,  1.],\n",
       "       [ 1.,  1.,  0.,  0.,  0.,  0.,  0.,  0.,  0.,  1.,  1.],\n",
       "       [ 1.,  1.,  0.,  0.,  0.,  0.,  0.,  0.,  0.,  1.,  1.],\n",
       "       [ 1.,  1.,  0.,  0.,  0.,  0.,  0.,  0.,  0.,  1.,  1.],\n",
       "       [ 1.,  1.,  1.,  1.,  1.,  1.,  1.,  1.,  1.,  1.,  1.],\n",
       "       [ 1.,  1.,  1.,  1.,  1.,  1.,  1.,  1.,  1.,  1.,  1.]])"
      ]
     },
     "execution_count": 127,
     "metadata": {},
     "output_type": "execute_result"
    }
   ],
   "source": [
    "kashi_mehrdad = np.zeros((11, 11))\n",
    "kashi_mehrdad[[0, 1, -2, -1]] = 1\n",
    "kashi_mehrdad[:, [0, 1, -2, -1]] = 1\n",
    "kashi_mehrdad[5, 5] = 11\n",
    "kashi_mehrdad"
   ]
  },
  {
   "cell_type": "code",
   "execution_count": 84,
   "id": "411dcab9-d6cc-4d28-b51e-2a7e8601e179",
   "metadata": {},
   "outputs": [
    {
     "data": {
      "text/plain": [
       "array([[1., 1., 0., 0., 0., 0., 0., 0., 0., 1., 1.],\n",
       "       [1., 1., 0., 0., 0., 0., 0., 0., 0., 1., 1.],\n",
       "       [1., 1., 1., 1., 1., 1., 1., 1., 1., 1., 1.]])"
      ]
     },
     "execution_count": 84,
     "metadata": {},
     "output_type": "execute_result"
    }
   ],
   "source": [
    "kashi_mehrdad[[3, 8,10]]"
   ]
  },
  {
   "cell_type": "code",
   "execution_count": 85,
   "id": "6180e947-3264-48c5-8bc6-b25ef4d69895",
   "metadata": {},
   "outputs": [
    {
     "data": {
      "text/plain": [
       "array([[ 0.,  0.,  0.,  0.,  0.,  0.],\n",
       "       [ 0.,  0.,  0.,  0.,  0.,  0.],\n",
       "       [ 0.,  0.,  0.,  0.,  0.,  0.],\n",
       "       [ 0.,  0., 11.,  0.,  0.,  0.]])"
      ]
     },
     "execution_count": 85,
     "metadata": {},
     "output_type": "execute_result"
    }
   ],
   "source": [
    "kashi_mehrdad[2:6, 3:9]"
   ]
  },
  {
   "cell_type": "code",
   "execution_count": 89,
   "id": "40a9b2a8-e3b8-412c-bfdd-7c817efd3981",
   "metadata": {},
   "outputs": [],
   "source": [
    "kashi_mehrdad[ [0, 1, 2, 3, 4, 5], [5, 6, 7, 8, 9, 10]] = 11"
   ]
  },
  {
   "cell_type": "code",
   "execution_count": 90,
   "id": "9863477f-4d8c-4333-b441-7e434dd987de",
   "metadata": {},
   "outputs": [
    {
     "data": {
      "text/plain": [
       "array([[ 1.,  1.,  1.,  1.,  1., 11., 11., 11., 11., 11., 11.],\n",
       "       [ 1.,  1.,  1.,  1.,  1., 11., 11., 11., 11., 11., 11.],\n",
       "       [ 1.,  1.,  0.,  0.,  0., 11., 11., 11., 11., 11., 11.],\n",
       "       [ 1.,  1.,  0.,  0.,  0., 11., 11., 11., 11., 11., 11.],\n",
       "       [ 1.,  1.,  0.,  0.,  0., 11., 11., 11., 11., 11., 11.],\n",
       "       [ 1.,  1.,  0.,  0.,  0., 11., 11., 11., 11., 11., 11.],\n",
       "       [ 1.,  1.,  0.,  0.,  0.,  0.,  0.,  0.,  0.,  1.,  1.],\n",
       "       [ 1.,  1.,  0.,  0.,  0.,  0.,  0.,  0.,  0.,  1.,  1.],\n",
       "       [ 1.,  1.,  0.,  0.,  0.,  0.,  0.,  0.,  0.,  1.,  1.],\n",
       "       [ 1.,  1.,  1.,  1.,  1.,  1.,  1.,  1.,  1.,  1.,  1.],\n",
       "       [ 1.,  1.,  1.,  1.,  1.,  1.,  1.,  1.,  1.,  1.,  1.]])"
      ]
     },
     "execution_count": 93,
     "metadata": {},
     "output_type": "execute_result"
    }
   ],
   "source": [
    "kashi_mehrdad"
   ]
  },
  {
   "cell_type": "code",
   "execution_count": 94,
   "id": "97a65eb6-0f49-4913-a7f6-7ed21b744c7c",
   "metadata": {},
   "outputs": [],
   "source": [
    "def get_ghotr_asli(arr: np.ndarray):\n",
    "    result = []\n",
    "    if(arr.ndim != 2 and arr.shape[0] == arr.shape[1]):\n",
    "        raise ValueError(\"matrix morabaei bede!!\")\n",
    "    for i in range(arr.shape[0]):\n",
    "        result.append(arr[i, i])\n",
    "        \n",
    "    return np.array(result)"
   ]
  },
  {
   "cell_type": "code",
   "execution_count": 96,
   "id": "23a03c55-f720-4103-b9da-6e1696b900a5",
   "metadata": {},
   "outputs": [
    {
     "data": {
      "text/plain": [
       "array([[ 0.,  0.,  0., 11., 11.],\n",
       "       [ 0.,  0.,  0., 11., 11.],\n",
       "       [ 0.,  0.,  0., 11., 11.],\n",
       "       [ 0.,  0.,  0., 11., 11.],\n",
       "       [ 0.,  0.,  0.,  0.,  0.]])"
      ]
     },
     "execution_count": 96,
     "metadata": {},
     "output_type": "execute_result"
    }
   ],
   "source": [
    "kashi_mehrdad[2: 7, 2: 7]"
   ]
  },
  {
   "cell_type": "code",
   "execution_count": 95,
   "id": "7961432f-4856-4093-bb13-3083af614795",
   "metadata": {},
   "outputs": [
    {
     "data": {
      "text/plain": [
       "array([ 0.,  0.,  0., 11.,  0.])"
      ]
     },
     "execution_count": 95,
     "metadata": {},
     "output_type": "execute_result"
    }
   ],
   "source": [
    "get_ghotr_asli(kashi_mehrdad[2: 7, 2: 7])"
   ]
  },
  {
   "cell_type": "code",
   "execution_count": null,
   "id": "4ea1684a-1582-435d-988c-a682c2746ab5",
   "metadata": {},
   "outputs": [],
   "source": [
    "# for i in kashi_mehrdad:\n",
    "#     for j in i:\n",
    "#         print(j)\n",
    "for index, val in np.ndenumerate(kashi_mehrdad):\n",
    "    print(index, \"---> \", val)"
   ]
  },
  {
   "cell_type": "markdown",
   "id": "ac4129dc-2b01-401f-9442-92b43be68651",
   "metadata": {},
   "source": [
    "## masking"
   ]
  },
  {
   "cell_type": "code",
   "execution_count": 128,
   "id": "1d74c6dd-e895-4aa3-b136-67ee870f3cdb",
   "metadata": {},
   "outputs": [],
   "source": [
    "test_size = (kashi_mehrdad <= 3)"
   ]
  },
  {
   "cell_type": "code",
   "execution_count": 129,
   "id": "b89876b6-b63b-47c0-9f20-445542b9a9a4",
   "metadata": {},
   "outputs": [],
   "source": [
    "kashi_mehrdad[test_size] = 0"
   ]
  },
  {
   "cell_type": "code",
   "execution_count": 130,
   "id": "2d27e5e1-cbab-4eba-b4f2-920b4504e089",
   "metadata": {},
   "outputs": [
    {
     "data": {
      "text/plain": [
       "array([[ 0.,  0.,  0.,  0.,  0.,  0.,  0.,  0.,  0.,  0.,  0.],\n",
       "       [ 0.,  0.,  0.,  0.,  0.,  0.,  0.,  0.,  0.,  0.,  0.],\n",
       "       [ 0.,  0.,  0.,  0.,  0.,  0.,  0.,  0.,  0.,  0.,  0.],\n",
       "       [ 0.,  0.,  0.,  0.,  0.,  0.,  0.,  0.,  0.,  0.,  0.],\n",
       "       [ 0.,  0.,  0.,  0.,  0.,  0.,  0.,  0.,  0.,  0.,  0.],\n",
       "       [ 0.,  0.,  0.,  0.,  0., 11.,  0.,  0.,  0.,  0.,  0.],\n",
       "       [ 0.,  0.,  0.,  0.,  0.,  0.,  0.,  0.,  0.,  0.,  0.],\n",
       "       [ 0.,  0.,  0.,  0.,  0.,  0.,  0.,  0.,  0.,  0.,  0.],\n",
       "       [ 0.,  0.,  0.,  0.,  0.,  0.,  0.,  0.,  0.,  0.,  0.],\n",
       "       [ 0.,  0.,  0.,  0.,  0.,  0.,  0.,  0.,  0.,  0.,  0.],\n",
       "       [ 0.,  0.,  0.,  0.,  0.,  0.,  0.,  0.,  0.,  0.,  0.]])"
      ]
     },
     "execution_count": 130,
     "metadata": {},
     "output_type": "execute_result"
    }
   ],
   "source": [
    "kashi_mehrdad"
   ]
  },
  {
   "cell_type": "markdown",
   "id": "4ae3693b-3525-4081-87a8-a112a94cabc5",
   "metadata": {},
   "source": [
    "## Broadcasting"
   ]
  },
  {
   "cell_type": "code",
   "execution_count": 134,
   "id": "00b0a97e-8f54-4672-b813-489971f8af54",
   "metadata": {},
   "outputs": [],
   "source": [
    "kashi_mehrdad = kashi_mehrdad + 2"
   ]
  },
  {
   "cell_type": "code",
   "execution_count": 135,
   "id": "ee693d2e-ac5e-4fcb-be32-550bf277b3ae",
   "metadata": {},
   "outputs": [
    {
     "data": {
      "text/plain": [
       "array([[1. , 1. , 1. , 1. , 1. , 1. , 1. , 1. , 1. , 1. , 1. ],\n",
       "       [1. , 1. , 1. , 1. , 1. , 1. , 1. , 1. , 1. , 1. , 1. ],\n",
       "       [1. , 1. , 1. , 1. , 1. , 1. , 1. , 1. , 1. , 1. , 1. ],\n",
       "       [1. , 1. , 1. , 1. , 1. , 1. , 1. , 1. , 1. , 1. , 1. ],\n",
       "       [1. , 1. , 1. , 1. , 1. , 1. , 1. , 1. , 1. , 1. , 1. ],\n",
       "       [1. , 1. , 1. , 1. , 1. , 6.5, 1. , 1. , 1. , 1. , 1. ],\n",
       "       [1. , 1. , 1. , 1. , 1. , 1. , 1. , 1. , 1. , 1. , 1. ],\n",
       "       [1. , 1. , 1. , 1. , 1. , 1. , 1. , 1. , 1. , 1. , 1. ],\n",
       "       [1. , 1. , 1. , 1. , 1. , 1. , 1. , 1. , 1. , 1. , 1. ],\n",
       "       [1. , 1. , 1. , 1. , 1. , 1. , 1. , 1. , 1. , 1. , 1. ],\n",
       "       [1. , 1. , 1. , 1. , 1. , 1. , 1. , 1. , 1. , 1. , 1. ]])"
      ]
     },
     "execution_count": 135,
     "metadata": {},
     "output_type": "execute_result"
    }
   ],
   "source": [
    "kashi_mehrdad / 2"
   ]
  },
  {
   "cell_type": "code",
   "execution_count": 136,
   "id": "7fd6ba0a-fc3b-4473-872f-dc6df7134c5e",
   "metadata": {},
   "outputs": [
    {
     "data": {
      "text/plain": [
       "array([[  4.,   4.,   4.,   4.,   4.,   4.,   4.,   4.,   4.,   4.,   4.],\n",
       "       [  4.,   4.,   4.,   4.,   4.,   4.,   4.,   4.,   4.,   4.,   4.],\n",
       "       [  4.,   4.,   4.,   4.,   4.,   4.,   4.,   4.,   4.,   4.,   4.],\n",
       "       [  4.,   4.,   4.,   4.,   4.,   4.,   4.,   4.,   4.,   4.,   4.],\n",
       "       [  4.,   4.,   4.,   4.,   4.,   4.,   4.,   4.,   4.,   4.,   4.],\n",
       "       [  4.,   4.,   4.,   4.,   4., 169.,   4.,   4.,   4.,   4.,   4.],\n",
       "       [  4.,   4.,   4.,   4.,   4.,   4.,   4.,   4.,   4.,   4.,   4.],\n",
       "       [  4.,   4.,   4.,   4.,   4.,   4.,   4.,   4.,   4.,   4.,   4.],\n",
       "       [  4.,   4.,   4.,   4.,   4.,   4.,   4.,   4.,   4.,   4.,   4.],\n",
       "       [  4.,   4.,   4.,   4.,   4.,   4.,   4.,   4.,   4.,   4.,   4.],\n",
       "       [  4.,   4.,   4.,   4.,   4.,   4.,   4.,   4.,   4.,   4.,   4.]])"
      ]
     },
     "execution_count": 136,
     "metadata": {},
     "output_type": "execute_result"
    }
   ],
   "source": [
    "kashi_mehrdad ** 2"
   ]
  },
  {
   "cell_type": "code",
   "execution_count": null,
   "id": "ec782e4b-3c71-4474-b662-89e9d3c53fcf",
   "metadata": {},
   "outputs": [],
   "source": [
    "np.ones((12, 10, 5)) + np.ones((1, 10, 1))"
   ]
  },
  {
   "cell_type": "markdown",
   "id": "5a6078f9-ec52-4a48-a705-837205a35480",
   "metadata": {},
   "source": [
    "## Math"
   ]
  },
  {
   "cell_type": "code",
   "execution_count": null,
   "id": "f33edb04-daba-4c20-9bf7-6b9e25d38933",
   "metadata": {},
   "outputs": [],
   "source": [
    "np.sin(kashi_mehrdad)"
   ]
  },
  {
   "cell_type": "code",
   "execution_count": null,
   "id": "23badabc-1a23-48da-acc0-6ad0bca90f49",
   "metadata": {},
   "outputs": [],
   "source": [
    "np.exp(kashi_mehrdad)"
   ]
  },
  {
   "cell_type": "markdown",
   "id": "d6e8245b-9c1a-4478-aa83-3bdb454ef168",
   "metadata": {},
   "source": [
    "## Random"
   ]
  },
  {
   "cell_type": "code",
   "execution_count": 163,
   "id": "ea5a379f-3e38-4917-bb71-cde70bf05914",
   "metadata": {},
   "outputs": [
    {
     "data": {
      "text/plain": [
       "array([[10,  4,  5],\n",
       "       [ 5, 10, 11],\n",
       "       [ 5, 10,  5],\n",
       "       [ 3,  2,  6],\n",
       "       [ 4,  9,  8],\n",
       "       [ 5,  9,  7],\n",
       "       [ 9,  5,  5],\n",
       "       [ 5,  3, 10],\n",
       "       [ 7,  6,  4],\n",
       "       [ 2,  9,  6],\n",
       "       [ 5,  6,  2],\n",
       "       [11,  6,  8]])"
      ]
     },
     "execution_count": 163,
     "metadata": {},
     "output_type": "execute_result"
    }
   ],
   "source": [
    "np.random.randint(2, 12, (12, 3))"
   ]
  },
  {
   "cell_type": "code",
   "execution_count": 166,
   "id": "8efc6919-d14b-4e66-b6d2-986b488e71b2",
   "metadata": {},
   "outputs": [
    {
     "data": {
      "text/plain": [
       "array([[[-1.42107078,  0.28671742],\n",
       "        [-0.08195556,  1.2526694 ]],\n",
       "\n",
       "       [[-0.19308902, -0.41534449],\n",
       "        [ 0.59060222,  1.3222937 ]],\n",
       "\n",
       "       [[-0.22272063, -0.52068149],\n",
       "        [ 0.95759902, -0.37118836]],\n",
       "\n",
       "       [[ 0.52913061,  0.12016303],\n",
       "        [-0.44290724, -0.64234959]],\n",
       "\n",
       "       [[-1.14988895,  0.34806544],\n",
       "        [-0.09964226,  0.25958464]],\n",
       "\n",
       "       [[-1.63543034, -0.12306215],\n",
       "        [ 0.48101021, -0.0461254 ]],\n",
       "\n",
       "       [[-0.01224676,  0.55927288],\n",
       "        [ 0.50113451,  0.39658475]],\n",
       "\n",
       "       [[ 1.65491289, -0.51574364],\n",
       "        [ 0.35119992, -0.20194434]],\n",
       "\n",
       "       [[-1.26096731, -0.03094959],\n",
       "        [ 1.16623087,  0.33306377]],\n",
       "\n",
       "       [[-1.335882  ,  0.47080435],\n",
       "        [-1.78481272, -1.71644693]],\n",
       "\n",
       "       [[-1.1851614 ,  0.44360859],\n",
       "        [ 2.12136   ,  1.16099154]],\n",
       "\n",
       "       [[ 0.28993122,  0.11861903],\n",
       "        [-0.30471598, -0.29399657]]])"
      ]
     },
     "execution_count": 166,
     "metadata": {},
     "output_type": "execute_result"
    }
   ],
   "source": [
    "np.random.normal(size=(12, 2, 2))"
   ]
  },
  {
   "cell_type": "code",
   "execution_count": 167,
   "id": "a99f1edd-2137-43c7-ae09-b9a29d0b9027",
   "metadata": {},
   "outputs": [],
   "source": [
    "def guassian(miu, variance, shape=(1,)) -> np.ndarray:\n",
    "    result = np.sqrt(variance) * np.random.normal(size = shape) + miu\n",
    "    return result"
   ]
  },
  {
   "cell_type": "code",
   "execution_count": 177,
   "id": "cbd13dbf-81bb-46f5-9a1b-587c0f4ecd46",
   "metadata": {},
   "outputs": [
    {
     "data": {
      "text/plain": [
       "array([[ 1.44318726, -0.23972046, -1.24832513, ...,  3.22301215,\n",
       "         2.32447144,  6.35969167],\n",
       "       [ 2.22453154,  2.73261774,  1.81117186, ...,  0.41080285,\n",
       "         2.32965423,  1.70195356],\n",
       "       [-0.6718083 ,  0.35308472,  4.15341459, ...,  2.70907605,\n",
       "         1.31961232,  1.06431831],\n",
       "       ...,\n",
       "       [-0.96181257,  3.65539781, -1.42663726, ...,  2.21534206,\n",
       "         1.21007819,  0.43851476],\n",
       "       [ 4.06646221,  3.42629541,  1.19476676, ...,  2.31417136,\n",
       "         1.40788431,  2.93044768],\n",
       "       [ 3.80244704,  1.64227255,  1.22311942, ..., -2.27269939,\n",
       "         1.6058361 , -0.63278537]])"
      ]
     },
     "execution_count": 177,
     "metadata": {},
     "output_type": "execute_result"
    }
   ],
   "source": [
    "g_dis = guassian(2, 4, (40, 50))\n",
    "g_dis"
   ]
  },
  {
   "cell_type": "code",
   "execution_count": 178,
   "id": "bc80590d-1588-4862-8462-e3e84cf47d49",
   "metadata": {},
   "outputs": [
    {
     "data": {
      "text/plain": [
       "1.9774195780810673"
      ]
     },
     "execution_count": 178,
     "metadata": {},
     "output_type": "execute_result"
    }
   ],
   "source": [
    "np.mean(g_dis)"
   ]
  },
  {
   "cell_type": "code",
   "execution_count": 179,
   "id": "c60593ad-b05e-4b41-b63c-e6662686f828",
   "metadata": {},
   "outputs": [
    {
     "data": {
      "text/plain": [
       "3.9695941937512336"
      ]
     },
     "execution_count": 179,
     "metadata": {},
     "output_type": "execute_result"
    }
   ],
   "source": [
    "np.var(g_dis)"
   ]
  },
  {
   "cell_type": "code",
   "execution_count": 180,
   "id": "81a44201-a226-4802-886d-feedf6e26f33",
   "metadata": {},
   "outputs": [
    {
     "data": {
      "text/plain": [
       "-4.880327829996737"
      ]
     },
     "execution_count": 180,
     "metadata": {},
     "output_type": "execute_result"
    }
   ],
   "source": [
    "np.min(g_dis)"
   ]
  },
  {
   "cell_type": "code",
   "execution_count": 181,
   "id": "b3d272ad-3bae-449b-8d63-71450ec5ea35",
   "metadata": {},
   "outputs": [
    {
     "data": {
      "text/plain": [
       "8.610176329721014"
      ]
     },
     "execution_count": 181,
     "metadata": {},
     "output_type": "execute_result"
    }
   ],
   "source": [
    "np.max(g_dis)"
   ]
  },
  {
   "cell_type": "code",
   "execution_count": 189,
   "id": "5f3c785c-38cf-45f1-a31a-75d874098e39",
   "metadata": {},
   "outputs": [
    {
     "data": {
      "text/plain": [
       "640"
      ]
     },
     "execution_count": 189,
     "metadata": {},
     "output_type": "execute_result"
    }
   ],
   "source": [
    "np.argmax(g_dis)"
   ]
  },
  {
   "cell_type": "code",
   "execution_count": 191,
   "id": "3b59fedb-fb0d-400c-b86e-812d38452455",
   "metadata": {},
   "outputs": [
    {
     "data": {
      "text/plain": [
       "(12, 40)"
      ]
     },
     "execution_count": 191,
     "metadata": {},
     "output_type": "execute_result"
    }
   ],
   "source": [
    "np.unravel_index(np.argmax(g_dis), g_dis.shape)"
   ]
  },
  {
   "cell_type": "code",
   "execution_count": 192,
   "id": "21519fa4-5a6d-49cd-a9b0-cd1736093456",
   "metadata": {},
   "outputs": [
    {
     "data": {
      "text/plain": [
       "8.610176329721014"
      ]
     },
     "execution_count": 192,
     "metadata": {},
     "output_type": "execute_result"
    }
   ],
   "source": [
    "g_dis[12, 40]"
   ]
  },
  {
   "cell_type": "markdown",
   "id": "9d93661c-7422-4b81-ab09-314534a4a1ed",
   "metadata": {},
   "source": [
    "## Axis"
   ]
  },
  {
   "cell_type": "code",
   "execution_count": 203,
   "id": "25d74ac9-405e-4c4e-b451-97c9762be273",
   "metadata": {},
   "outputs": [
    {
     "data": {
      "text/plain": [
       "array([[[4, 2],\n",
       "        [5, 4],\n",
       "        [6, 4]],\n",
       "\n",
       "       [[6, 6],\n",
       "        [6, 8],\n",
       "        [6, 4]],\n",
       "\n",
       "       [[9, 6],\n",
       "        [9, 4],\n",
       "        [3, 3]],\n",
       "\n",
       "       [[3, 9],\n",
       "        [9, 3],\n",
       "        [8, 8]]])"
      ]
     },
     "execution_count": 203,
     "metadata": {},
     "output_type": "execute_result"
    }
   ],
   "source": [
    "test_axis = np.random.randint(2, 10, (4, 3, 2))\n",
    "test_axis"
   ]
  },
  {
   "cell_type": "code",
   "execution_count": 207,
   "id": "decdeb92-a2f4-47a0-8c78-e623307027b1",
   "metadata": {},
   "outputs": [
    {
     "data": {
      "text/plain": [
       "array([[6, 4],\n",
       "       [6, 8],\n",
       "       [9, 6],\n",
       "       [9, 9]])"
      ]
     },
     "execution_count": 207,
     "metadata": {},
     "output_type": "execute_result"
    }
   ],
   "source": [
    "np.max(test_axis, axis=1)"
   ]
  },
  {
   "cell_type": "markdown",
   "id": "b74124c8-f31f-450e-85bd-2852059dc119",
   "metadata": {},
   "source": [
    "## reshape"
   ]
  },
  {
   "cell_type": "code",
   "execution_count": 214,
   "id": "3c497d01-94be-49d5-b635-1c9fb8404a7f",
   "metadata": {},
   "outputs": [
    {
     "data": {
      "text/plain": [
       "array([4, 8, 9, 9, 2, 7, 7, 7, 4, 4, 7, 5])"
      ]
     },
     "execution_count": 214,
     "metadata": {},
     "output_type": "execute_result"
    }
   ],
   "source": [
    "test_reshape = np.random.randint(1, 10, (12, ))\n",
    "test_reshape"
   ]
  },
  {
   "cell_type": "code",
   "execution_count": 222,
   "id": "69630dec-3be4-43ad-9563-b2bce9785036",
   "metadata": {},
   "outputs": [
    {
     "data": {
      "text/plain": [
       "array([[[4, 8, 9, 9, 2, 7],\n",
       "        [7, 7, 4, 4, 7, 5]]])"
      ]
     },
     "execution_count": 222,
     "metadata": {},
     "output_type": "execute_result"
    }
   ],
   "source": [
    "test_reshape.reshape(1, 2, -1)"
   ]
  },
  {
   "cell_type": "markdown",
   "id": "c787b0b7-fb99-4222-ad6c-0cf6329488df",
   "metadata": {},
   "source": [
    "## concatenate, vstack, hstack"
   ]
  },
  {
   "cell_type": "code",
   "execution_count": 252,
   "id": "5367864a-7841-4466-b783-1e1818ad9305",
   "metadata": {},
   "outputs": [
    {
     "data": {
      "text/plain": [
       "array([[5, 4, 6],\n",
       "       [3, 6, 2]])"
      ]
     },
     "execution_count": 252,
     "metadata": {},
     "output_type": "execute_result"
    }
   ],
   "source": [
    "a = np.random.randint(1, 10, (2, 3))\n",
    "a"
   ]
  },
  {
   "cell_type": "code",
   "execution_count": 253,
   "id": "361da7a1-686d-43fd-9c2d-6297d4c4f0e1",
   "metadata": {},
   "outputs": [
    {
     "data": {
      "text/plain": [
       "array([[8, 4, 5],\n",
       "       [1, 4, 3]])"
      ]
     },
     "execution_count": 253,
     "metadata": {},
     "output_type": "execute_result"
    }
   ],
   "source": [
    "b = np.random.randint(1, 10, (2, 3))\n",
    "b"
   ]
  },
  {
   "cell_type": "code",
   "execution_count": 254,
   "id": "a8694df9-40ff-4c76-b4dc-2c1dfa7503bb",
   "metadata": {},
   "outputs": [
    {
     "data": {
      "text/plain": [
       "array([[5, 4, 6],\n",
       "       [3, 6, 2],\n",
       "       [8, 4, 5],\n",
       "       [1, 4, 3]])"
      ]
     },
     "execution_count": 254,
     "metadata": {},
     "output_type": "execute_result"
    }
   ],
   "source": [
    "np.concatenate((a, b), axis=0)"
   ]
  },
  {
   "cell_type": "code",
   "execution_count": 255,
   "id": "936e1f3a-f6d4-48e5-adcd-f29babcc49f9",
   "metadata": {},
   "outputs": [
    {
     "data": {
      "text/plain": [
       "array([[5, 4, 6, 8, 4, 5],\n",
       "       [3, 6, 2, 1, 4, 3]])"
      ]
     },
     "execution_count": 255,
     "metadata": {},
     "output_type": "execute_result"
    }
   ],
   "source": [
    "np.concatenate((a, b), axis=1)"
   ]
  },
  {
   "cell_type": "code",
   "execution_count": 256,
   "id": "1eb53d40-8cb4-4d08-b905-7298a28e230c",
   "metadata": {},
   "outputs": [
    {
     "data": {
      "text/plain": [
       "array([[5, 4, 6, 8, 4, 5],\n",
       "       [3, 6, 2, 1, 4, 3]])"
      ]
     },
     "execution_count": 256,
     "metadata": {},
     "output_type": "execute_result"
    }
   ],
   "source": [
    "np.hstack((a, b))"
   ]
  },
  {
   "cell_type": "code",
   "execution_count": 258,
   "id": "263447df-ba9d-4714-85b2-cdc3011a3ed1",
   "metadata": {},
   "outputs": [
    {
     "data": {
      "text/plain": [
       "array([[5, 4, 6],\n",
       "       [3, 6, 2],\n",
       "       [8, 4, 5],\n",
       "       [1, 4, 3]])"
      ]
     },
     "execution_count": 258,
     "metadata": {},
     "output_type": "execute_result"
    }
   ],
   "source": [
    "np.vstack((a, b))"
   ]
  },
  {
   "cell_type": "code",
   "execution_count": 263,
   "id": "3defc2f1-8c47-46b1-9c45-d4d02cbb34c8",
   "metadata": {},
   "outputs": [
    {
     "data": {
      "text/plain": [
       "array([[5, 4, 6, 3, 6, 2],\n",
       "       [8, 4, 5, 1, 4, 3]])"
      ]
     },
     "execution_count": 263,
     "metadata": {},
     "output_type": "execute_result"
    }
   ],
   "source": [
    "np.append(a, b)"
   ]
  },
  {
   "cell_type": "code",
   "execution_count": 264,
   "id": "78ef4ee1-2456-45bd-a8e2-915304775e3b",
   "metadata": {},
   "outputs": [
    {
     "data": {
      "text/plain": [
       "array([ 5, 10,  4,  6,  3,  6,  2])"
      ]
     },
     "execution_count": 264,
     "metadata": {},
     "output_type": "execute_result"
    }
   ],
   "source": [
    "np.insert(a, 1, 10)"
   ]
  },
  {
   "cell_type": "code",
   "execution_count": 271,
   "id": "afc913d2-3f37-4bda-8602-ba9883e8c94a",
   "metadata": {},
   "outputs": [],
   "source": [
    "c = a.copy()"
   ]
  },
  {
   "cell_type": "code",
   "execution_count": 272,
   "id": "ce2f608e-0d24-4bfa-b3fc-4ba86042c6ee",
   "metadata": {},
   "outputs": [],
   "source": [
    "a[1, 2]  = 15"
   ]
  },
  {
   "cell_type": "code",
   "execution_count": 287,
   "id": "fb8d18c5-d8a5-49cd-a974-1d31131dc769",
   "metadata": {},
   "outputs": [
    {
     "data": {
      "text/plain": [
       "array([[-2,  6, 12],\n",
       "       [-2, -5, 20]])"
      ]
     },
     "execution_count": 287,
     "metadata": {},
     "output_type": "execute_result"
    }
   ],
   "source": [
    "c[1, 1] = -5\n",
    "c"
   ]
  },
  {
   "cell_type": "code",
   "execution_count": 288,
   "id": "560e3a6d-6816-49fc-aca7-8aeed9c76a72",
   "metadata": {},
   "outputs": [
    {
     "data": {
      "text/plain": [
       "array([[-2, -5, 12],\n",
       "       [-2,  6, 20]])"
      ]
     },
     "execution_count": 288,
     "metadata": {},
     "output_type": "execute_result"
    }
   ],
   "source": [
    "c.sort(axis=0)\n",
    "c"
   ]
  },
  {
   "cell_type": "markdown",
   "id": "fe8db609-1cae-49d8-86c1-d07773849c07",
   "metadata": {},
   "source": [
    "## Algebra"
   ]
  },
  {
   "cell_type": "code",
   "execution_count": 289,
   "id": "10c612bd-33fe-4dfa-a290-2e36aaab258b",
   "metadata": {},
   "outputs": [
    {
     "data": {
      "text/plain": [
       "<module 'numpy.linalg' from '/home/ashkan/Documents/ML3/venv/lib/python3.8/site-packages/numpy/linalg/__init__.py'>"
      ]
     },
     "execution_count": 289,
     "metadata": {},
     "output_type": "execute_result"
    }
   ],
   "source": [
    "np.linalg"
   ]
  },
  {
   "cell_type": "code",
   "execution_count": null,
   "id": "c3045e3d-622a-40e3-b2b5-3c53480cd19d",
   "metadata": {},
   "outputs": [],
   "source": []
  }
 ],
 "metadata": {
  "kernelspec": {
   "display_name": "Python 3 (ipykernel)",
   "language": "python",
   "name": "python3"
  },
  "language_info": {
   "codemirror_mode": {
    "name": "ipython",
    "version": 3
   },
   "file_extension": ".py",
   "mimetype": "text/x-python",
   "name": "python",
   "nbconvert_exporter": "python",
   "pygments_lexer": "ipython3",
   "version": "3.8.10"
  }
 },
 "nbformat": 4,
 "nbformat_minor": 5
}
