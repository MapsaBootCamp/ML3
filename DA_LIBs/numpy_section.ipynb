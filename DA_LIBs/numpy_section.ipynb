{
 "cells": [
  {
   "cell_type": "code",
   "execution_count": null,
   "id": "9916a035-6c6a-4294-84d7-65ffacccac9c",
   "metadata": {},
   "outputs": [],
   "source": [
    "!pip install matplotlib"
   ]
  },
  {
   "cell_type": "code",
   "execution_count": 20,
   "id": "b8fd4ff3-1d27-4688-b801-8e4ec014c5d7",
   "metadata": {},
   "outputs": [
    {
     "name": "stdout",
     "output_type": "stream",
     "text": [
      "Ashkan\n"
     ]
    }
   ],
   "source": [
    "# %load test_load.py\n",
    "a = \"Ashkan\"\n",
    "print(a)"
   ]
  },
  {
   "cell_type": "code",
   "execution_count": 24,
   "id": "2baf1606-da1e-4b3a-b25e-a1e57b65141b",
   "metadata": {},
   "outputs": [
    {
     "name": "stdout",
     "output_type": "stream",
     "text": [
      "253 µs ± 61.4 µs per loop (mean ± std. dev. of 7 runs, 1,000 loops each)\n"
     ]
    }
   ],
   "source": [
    "a = np.random.randn(100, 100)\n",
    "%timeit np.dot(a, a)"
   ]
  },
  {
   "cell_type": "markdown",
   "id": "2acbc23e-e137-4f1f-bd30-ed7d34ac6769",
   "metadata": {},
   "source": [
    "## Basic\n",
    "\n",
    "\n",
    "1 ----> 0_dim \\n\n",
    "\n",
    "\n",
    "\n",
    "N_dim -----> (N-1)_dim"
   ]
  },
  {
   "cell_type": "code",
   "execution_count": 30,
   "id": "3956c056-0e14-4a7e-b24e-b6c6399fcee9",
   "metadata": {},
   "outputs": [],
   "source": [
    "my_arr = np.array([[[1, 2]], [[2, 5]], [[3, 8]]], dtype=np.int32)"
   ]
  },
  {
   "cell_type": "code",
   "execution_count": 31,
   "id": "65f36faf-3489-494c-9fda-4e2a475c9694",
   "metadata": {},
   "outputs": [
    {
     "data": {
      "text/plain": [
       "3"
      ]
     },
     "execution_count": 31,
     "metadata": {},
     "output_type": "execute_result"
    }
   ],
   "source": [
    "my_arr.ndim"
   ]
  },
  {
   "cell_type": "code",
   "execution_count": 33,
   "id": "a59d1e65-f948-468b-b11d-af590abe766b",
   "metadata": {},
   "outputs": [
    {
     "data": {
      "text/plain": [
       "(3, 1, 2)"
      ]
     },
     "execution_count": 33,
     "metadata": {},
     "output_type": "execute_result"
    }
   ],
   "source": [
    "my_arr.shape"
   ]
  },
  {
   "cell_type": "code",
   "execution_count": 34,
   "id": "1bada5f0-376e-481a-846d-3a207f853954",
   "metadata": {},
   "outputs": [
    {
     "data": {
      "text/plain": [
       "dtype('int32')"
      ]
     },
     "execution_count": 34,
     "metadata": {},
     "output_type": "execute_result"
    }
   ],
   "source": [
    "my_arr.dtype"
   ]
  },
  {
   "cell_type": "code",
   "execution_count": 35,
   "id": "599b86b2-8549-462b-b7ea-b349b3320a0b",
   "metadata": {},
   "outputs": [
    {
     "data": {
      "text/plain": [
       "4"
      ]
     },
     "execution_count": 35,
     "metadata": {},
     "output_type": "execute_result"
    }
   ],
   "source": [
    "my_arr.itemsize"
   ]
  },
  {
   "cell_type": "code",
   "execution_count": 36,
   "id": "11981827-a750-41ae-ac06-7c7fb4f699a4",
   "metadata": {},
   "outputs": [
    {
     "data": {
      "text/plain": [
       "6"
      ]
     },
     "execution_count": 36,
     "metadata": {},
     "output_type": "execute_result"
    }
   ],
   "source": [
    "my_arr.size"
   ]
  },
  {
   "cell_type": "markdown",
   "id": "a23e5d60-511d-4f91-8460-08ff62264cee",
   "metadata": {},
   "source": [
    "## Slicing, Selection"
   ]
  },
  {
   "cell_type": "code",
   "execution_count": 49,
   "id": "dee8a331-bd15-41d7-932e-7507a07dcb05",
   "metadata": {},
   "outputs": [],
   "source": [
    "my_arr = np.array([[[1, 2, 3], [5, 8, 32]], [[2, 5, 12], [76, 12, 18]], [[3, 3, 8], [54, 22, -21]]], dtype=np.int32)"
   ]
  },
  {
   "cell_type": "code",
   "execution_count": 50,
   "id": "6097b36d-9625-4f72-8149-dcfd83881460",
   "metadata": {},
   "outputs": [
    {
     "data": {
      "text/plain": [
       "2"
      ]
     },
     "execution_count": 50,
     "metadata": {},
     "output_type": "execute_result"
    }
   ],
   "source": [
    "my_arr[0, 0, 1]"
   ]
  },
  {
   "cell_type": "code",
   "execution_count": 51,
   "id": "a6e372d4-619b-4b12-9209-edd2a598b999",
   "metadata": {},
   "outputs": [
    {
     "data": {
      "text/plain": [
       "76"
      ]
     },
     "execution_count": 51,
     "metadata": {},
     "output_type": "execute_result"
    }
   ],
   "source": [
    "my_arr[1][1][0]"
   ]
  },
  {
   "cell_type": "code",
   "execution_count": 39,
   "id": "c087e8a4-fc74-490b-9ffd-0a8bceb73da2",
   "metadata": {},
   "outputs": [],
   "source": [
    "my_arr[0, 0, 1] = 12"
   ]
  },
  {
   "cell_type": "code",
   "execution_count": 56,
   "id": "09e17138-daf4-4c6a-934e-70818d6ab45f",
   "metadata": {},
   "outputs": [
    {
     "data": {
      "text/plain": [
       "array([[ 5,  8],\n",
       "       [76, 12],\n",
       "       [54, 22]], dtype=int32)"
      ]
     },
     "execution_count": 56,
     "metadata": {},
     "output_type": "execute_result"
    }
   ],
   "source": [
    "my_arr[:, 1 , :2]"
   ]
  },
  {
   "cell_type": "markdown",
   "id": "5daa9018-e901-423b-bd00-840efec93d9c",
   "metadata": {},
   "source": [
    "## generate ndarray"
   ]
  },
  {
   "cell_type": "code",
   "execution_count": 2,
   "id": "24175385-3b2c-4848-a387-60a342207dc4",
   "metadata": {},
   "outputs": [],
   "source": [
    "a = np.zeros((3, 2, 2))"
   ]
  },
  {
   "cell_type": "code",
   "execution_count": 3,
   "id": "a04346f0-4e47-4e2a-bbac-c5bb13f2ec77",
   "metadata": {},
   "outputs": [
    {
     "data": {
      "text/plain": [
       "array([[[0., 0.],\n",
       "        [0., 0.]],\n",
       "\n",
       "       [[0., 0.],\n",
       "        [0., 0.]],\n",
       "\n",
       "       [[0., 0.],\n",
       "        [0., 0.]]])"
      ]
     },
     "execution_count": 3,
     "metadata": {},
     "output_type": "execute_result"
    }
   ],
   "source": [
    "np.zeros_like(a)"
   ]
  },
  {
   "cell_type": "code",
   "execution_count": 66,
   "id": "7e288c2a-f31a-4ed2-b7fc-ab8182b0589a",
   "metadata": {},
   "outputs": [
    {
     "data": {
      "text/plain": [
       "array([[[1., 1.],\n",
       "        [1., 1.]],\n",
       "\n",
       "       [[1., 1.],\n",
       "        [1., 1.]],\n",
       "\n",
       "       [[1., 1.],\n",
       "        [1., 1.]]])"
      ]
     },
     "execution_count": 66,
     "metadata": {},
     "output_type": "execute_result"
    }
   ],
   "source": [
    "np.ones((3, 2, 2))"
   ]
  },
  {
   "cell_type": "code",
   "execution_count": 6,
   "id": "3c6ae6c3-3eb0-4bcb-a95b-db3ff63d060c",
   "metadata": {},
   "outputs": [
    {
     "data": {
      "text/plain": [
       "array([[10, 10, 10],\n",
       "       [10, 10, 10]])"
      ]
     },
     "execution_count": 6,
     "metadata": {},
     "output_type": "execute_result"
    }
   ],
   "source": [
    "np.full((2, 3), 10)"
   ]
  },
  {
   "cell_type": "code",
   "execution_count": 8,
   "id": "679a3603-8980-4f46-84ef-3e04f8fc9f71",
   "metadata": {},
   "outputs": [
    {
     "data": {
      "text/plain": [
       "array([[0, 1, 2, 3, 4],\n",
       "       [5, 6, 7, 8, 9]])"
      ]
     },
     "execution_count": 8,
     "metadata": {},
     "output_type": "execute_result"
    }
   ],
   "source": [
    "np.arange(10).reshape(2, 5)"
   ]
  },
  {
   "cell_type": "code",
   "execution_count": 71,
   "id": "6a10df43-f3ef-4ad2-821f-618ee7e8d34e",
   "metadata": {},
   "outputs": [
    {
     "data": {
      "text/plain": [
       "array([[ 1.,  1.,  1.,  1.,  1.,  1.,  1.,  1.,  1.,  1.,  1.],\n",
       "       [ 1.,  1.,  1.,  1.,  1.,  1.,  1.,  1.,  1.,  1.,  1.],\n",
       "       [ 1.,  1.,  0.,  0.,  0.,  0.,  0.,  0.,  0.,  1.,  1.],\n",
       "       [ 1.,  1.,  0.,  0.,  0.,  0.,  0.,  0.,  0.,  1.,  1.],\n",
       "       [ 1.,  1.,  0.,  0.,  0.,  0.,  0.,  0.,  0.,  1.,  1.],\n",
       "       [ 1.,  1.,  0.,  0.,  0., 11.,  0.,  0.,  0.,  1.,  1.],\n",
       "       [ 1.,  1.,  0.,  0.,  0.,  0.,  0.,  0.,  0.,  1.,  1.],\n",
       "       [ 1.,  1.,  0.,  0.,  0.,  0.,  0.,  0.,  0.,  1.,  1.],\n",
       "       [ 1.,  1.,  0.,  0.,  0.,  0.,  0.,  0.,  0.,  1.,  1.],\n",
       "       [ 1.,  1.,  1.,  1.,  1.,  1.,  1.,  1.,  1.,  1.,  1.],\n",
       "       [ 1.,  1.,  1.,  1.,  1.,  1.,  1.,  1.,  1.,  1.,  1.]])"
      ]
     },
     "execution_count": 71,
     "metadata": {},
     "output_type": "execute_result"
    }
   ],
   "source": [
    "kashi_arr = np.ones((11, 11))\n",
    "kashi_arr[2:-2, 2:-2] = 0\n",
    "kashi_arr[5, 5] = 11\n",
    "\n",
    "kashi_arr"
   ]
  },
  {
   "cell_type": "code",
   "execution_count": 127,
   "id": "16a06454-1cd5-47eb-8b57-b2f71b5f2d3a",
   "metadata": {},
   "outputs": [
    {
     "data": {
      "text/plain": [
       "array([[ 1.,  1.,  1.,  1.,  1.,  1.,  1.,  1.,  1.,  1.,  1.],\n",
       "       [ 1.,  1.,  1.,  1.,  1.,  1.,  1.,  1.,  1.,  1.,  1.],\n",
       "       [ 1.,  1.,  0.,  0.,  0.,  0.,  0.,  0.,  0.,  1.,  1.],\n",
       "       [ 1.,  1.,  0.,  0.,  0.,  0.,  0.,  0.,  0.,  1.,  1.],\n",
       "       [ 1.,  1.,  0.,  0.,  0.,  0.,  0.,  0.,  0.,  1.,  1.],\n",
       "       [ 1.,  1.,  0.,  0.,  0., 11.,  0.,  0.,  0.,  1.,  1.],\n",
       "       [ 1.,  1.,  0.,  0.,  0.,  0.,  0.,  0.,  0.,  1.,  1.],\n",
       "       [ 1.,  1.,  0.,  0.,  0.,  0.,  0.,  0.,  0.,  1.,  1.],\n",
       "       [ 1.,  1.,  0.,  0.,  0.,  0.,  0.,  0.,  0.,  1.,  1.],\n",
       "       [ 1.,  1.,  1.,  1.,  1.,  1.,  1.,  1.,  1.,  1.,  1.],\n",
       "       [ 1.,  1.,  1.,  1.,  1.,  1.,  1.,  1.,  1.,  1.,  1.]])"
      ]
     },
     "execution_count": 127,
     "metadata": {},
     "output_type": "execute_result"
    }
   ],
   "source": [
    "kashi_mehrdad = np.zeros((11, 11))\n",
    "kashi_mehrdad[[0, 1, -2, -1]] = 1\n",
    "kashi_mehrdad[:, [0, 1, -2, -1]] = 1\n",
    "kashi_mehrdad[5, 5] = 11\n",
    "kashi_mehrdad"
   ]
  },
  {
   "cell_type": "code",
   "execution_count": 84,
   "id": "411dcab9-d6cc-4d28-b51e-2a7e8601e179",
   "metadata": {},
   "outputs": [
    {
     "data": {
      "text/plain": [
       "array([[1., 1., 0., 0., 0., 0., 0., 0., 0., 1., 1.],\n",
       "       [1., 1., 0., 0., 0., 0., 0., 0., 0., 1., 1.],\n",
       "       [1., 1., 1., 1., 1., 1., 1., 1., 1., 1., 1.]])"
      ]
     },
     "execution_count": 84,
     "metadata": {},
     "output_type": "execute_result"
    }
   ],
   "source": [
    "kashi_mehrdad[[3, 8,10]]"
   ]
  },
  {
   "cell_type": "code",
   "execution_count": 85,
   "id": "6180e947-3264-48c5-8bc6-b25ef4d69895",
   "metadata": {},
   "outputs": [
    {
     "data": {
      "text/plain": [
       "array([[ 0.,  0.,  0.,  0.,  0.,  0.],\n",
       "       [ 0.,  0.,  0.,  0.,  0.,  0.],\n",
       "       [ 0.,  0.,  0.,  0.,  0.,  0.],\n",
       "       [ 0.,  0., 11.,  0.,  0.,  0.]])"
      ]
     },
     "execution_count": 85,
     "metadata": {},
     "output_type": "execute_result"
    }
   ],
   "source": [
    "kashi_mehrdad[2:6, 3:9]"
   ]
  },
  {
   "cell_type": "code",
   "execution_count": 89,
   "id": "40a9b2a8-e3b8-412c-bfdd-7c817efd3981",
   "metadata": {},
   "outputs": [],
   "source": [
    "kashi_mehrdad[ [0, 1, 2, 3, 4, 5], [5, 6, 7, 8, 9, 10]] = 11"
   ]
  },
  {
   "cell_type": "code",
   "execution_count": 90,
   "id": "9863477f-4d8c-4333-b441-7e434dd987de",
   "metadata": {},
   "outputs": [
    {
     "data": {
      "text/plain": [
       "array([[ 1.,  1.,  1.,  1.,  1., 11., 11., 11., 11., 11., 11.],\n",
       "       [ 1.,  1.,  1.,  1.,  1., 11., 11., 11., 11., 11., 11.],\n",
       "       [ 1.,  1.,  0.,  0.,  0., 11., 11., 11., 11., 11., 11.],\n",
       "       [ 1.,  1.,  0.,  0.,  0., 11., 11., 11., 11., 11., 11.],\n",
       "       [ 1.,  1.,  0.,  0.,  0., 11., 11., 11., 11., 11., 11.],\n",
       "       [ 1.,  1.,  0.,  0.,  0., 11., 11., 11., 11., 11., 11.],\n",
       "       [ 1.,  1.,  0.,  0.,  0.,  0.,  0.,  0.,  0.,  1.,  1.],\n",
       "       [ 1.,  1.,  0.,  0.,  0.,  0.,  0.,  0.,  0.,  1.,  1.],\n",
       "       [ 1.,  1.,  0.,  0.,  0.,  0.,  0.,  0.,  0.,  1.,  1.],\n",
       "       [ 1.,  1.,  1.,  1.,  1.,  1.,  1.,  1.,  1.,  1.,  1.],\n",
       "       [ 1.,  1.,  1.,  1.,  1.,  1.,  1.,  1.,  1.,  1.,  1.]])"
      ]
     },
     "execution_count": 93,
     "metadata": {},
     "output_type": "execute_result"
    }
   ],
   "source": [
    "kashi_mehrdad"
   ]
  },
  {
   "cell_type": "code",
   "execution_count": 94,
   "id": "97a65eb6-0f49-4913-a7f6-7ed21b744c7c",
   "metadata": {},
   "outputs": [],
   "source": [
    "def get_ghotr_asli(arr: np.ndarray):\n",
    "    result = []\n",
    "    if(arr.ndim != 2 and arr.shape[0] == arr.shape[1]):\n",
    "        raise ValueError(\"matrix morabaei bede!!\")\n",
    "    for i in range(arr.shape[0]):\n",
    "        result.append(arr[i, i])\n",
    "        \n",
    "    return np.array(result)"
   ]
  },
  {
   "cell_type": "code",
   "execution_count": 96,
   "id": "23a03c55-f720-4103-b9da-6e1696b900a5",
   "metadata": {},
   "outputs": [
    {
     "data": {
      "text/plain": [
       "array([[ 0.,  0.,  0., 11., 11.],\n",
       "       [ 0.,  0.,  0., 11., 11.],\n",
       "       [ 0.,  0.,  0., 11., 11.],\n",
       "       [ 0.,  0.,  0., 11., 11.],\n",
       "       [ 0.,  0.,  0.,  0.,  0.]])"
      ]
     },
     "execution_count": 96,
     "metadata": {},
     "output_type": "execute_result"
    }
   ],
   "source": [
    "kashi_mehrdad[2: 7, 2: 7]"
   ]
  },
  {
   "cell_type": "code",
   "execution_count": 95,
   "id": "7961432f-4856-4093-bb13-3083af614795",
   "metadata": {},
   "outputs": [
    {
     "data": {
      "text/plain": [
       "array([ 0.,  0.,  0., 11.,  0.])"
      ]
     },
     "execution_count": 95,
     "metadata": {},
     "output_type": "execute_result"
    }
   ],
   "source": [
    "get_ghotr_asli(kashi_mehrdad[2: 7, 2: 7])"
   ]
  },
  {
   "cell_type": "code",
   "execution_count": null,
   "id": "4ea1684a-1582-435d-988c-a682c2746ab5",
   "metadata": {},
   "outputs": [],
   "source": [
    "# for i in kashi_mehrdad:\n",
    "#     for j in i:\n",
    "#         print(j)\n",
    "for index, val in np.ndenumerate(kashi_mehrdad):\n",
    "    print(index, \"---> \", val)"
   ]
  },
  {
   "cell_type": "markdown",
   "id": "5197cfb3-274a-41a2-9c94-a0c940697d24",
   "metadata": {},
   "source": [
    "### MeshGrid"
   ]
  },
  {
   "cell_type": "code",
   "execution_count": 26,
   "id": "cf762d1e-e5c5-4a18-a881-f43891fbfc4d",
   "metadata": {},
   "outputs": [
    {
     "name": "stdout",
     "output_type": "stream",
     "text": [
      "xs \n",
      " [[-5.   -4.99 -4.98 ...  4.97  4.98  4.99]\n",
      " [-5.   -4.99 -4.98 ...  4.97  4.98  4.99]\n",
      " [-5.   -4.99 -4.98 ...  4.97  4.98  4.99]\n",
      " ...\n",
      " [-5.   -4.99 -4.98 ...  4.97  4.98  4.99]\n",
      " [-5.   -4.99 -4.98 ...  4.97  4.98  4.99]\n",
      " [-5.   -4.99 -4.98 ...  4.97  4.98  4.99]]\n",
      "ys \n",
      " [[-5.   -5.   -5.   ... -5.   -5.   -5.  ]\n",
      " [-4.99 -4.99 -4.99 ... -4.99 -4.99 -4.99]\n",
      " [-4.98 -4.98 -4.98 ... -4.98 -4.98 -4.98]\n",
      " ...\n",
      " [ 4.97  4.97  4.97 ...  4.97  4.97  4.97]\n",
      " [ 4.98  4.98  4.98 ...  4.98  4.98  4.98]\n",
      " [ 4.99  4.99  4.99 ...  4.99  4.99  4.99]]\n"
     ]
    }
   ],
   "source": [
    "point = np.arange(-5, 5, 0.01)\n",
    "xs, ys = np.meshgrid(point, point)\n",
    "print('xs \\n', xs)\n",
    "print('ys \\n', ys)\n",
    "z = np.sqrt(xs **2 + ys**2)"
   ]
  },
  {
   "cell_type": "code",
   "execution_count": 29,
   "id": "c4950389-cf8b-4ca4-871b-761b085834ce",
   "metadata": {},
   "outputs": [
    {
     "data": {
      "text/plain": [
       "<matplotlib.contour.QuadContourSet at 0x7fd43c119130>"
      ]
     },
     "execution_count": 29,
     "metadata": {},
     "output_type": "execute_result"
    },
    {
     "data": {
      "image/png": "[encoded data removed]",
      "text/plain": [
       "<Figure size 640x480 with 1 Axes>"
      ]
     },
     "metadata": {},
     "output_type": "display_data"
    }
   ],
   "source": [
    "plt.contour(z, levels=20)"
   ]
  },
  {
   "cell_type": "markdown",
   "id": "ac4129dc-2b01-401f-9442-92b43be68651",
   "metadata": {},
   "source": [
    "## masking"
   ]
  },
  {
   "cell_type": "code",
   "execution_count": 128,
   "id": "1d74c6dd-e895-4aa3-b136-67ee870f3cdb",
   "metadata": {},
   "outputs": [],
   "source": [
    "test_size = (kashi_mehrdad <= 3)"
   ]
  },
  {
   "cell_type": "code",
   "execution_count": 129,
   "id": "b89876b6-b63b-47c0-9f20-445542b9a9a4",
   "metadata": {},
   "outputs": [],
   "source": [
    "kashi_mehrdad[test_size] = 0"
   ]
  },
  {
   "cell_type": "code",
   "execution_count": 130,
   "id": "2d27e5e1-cbab-4eba-b4f2-920b4504e089",
   "metadata": {},
   "outputs": [
    {
     "data": {
      "text/plain": [
       "array([[ 0.,  0.,  0.,  0.,  0.,  0.,  0.,  0.,  0.,  0.,  0.],\n",
       "       [ 0.,  0.,  0.,  0.,  0.,  0.,  0.,  0.,  0.,  0.,  0.],\n",
       "       [ 0.,  0.,  0.,  0.,  0.,  0.,  0.,  0.,  0.,  0.,  0.],\n",
       "       [ 0.,  0.,  0.,  0.,  0.,  0.,  0.,  0.,  0.,  0.,  0.],\n",
       "       [ 0.,  0.,  0.,  0.,  0.,  0.,  0.,  0.,  0.,  0.,  0.],\n",
       "       [ 0.,  0.,  0.,  0.,  0., 11.,  0.,  0.,  0.,  0.,  0.],\n",
       "       [ 0.,  0.,  0.,  0.,  0.,  0.,  0.,  0.,  0.,  0.,  0.],\n",
       "       [ 0.,  0.,  0.,  0.,  0.,  0.,  0.,  0.,  0.,  0.,  0.],\n",
       "       [ 0.,  0.,  0.,  0.,  0.,  0.,  0.,  0.,  0.,  0.,  0.],\n",
       "       [ 0.,  0.,  0.,  0.,  0.,  0.,  0.,  0.,  0.,  0.,  0.],\n",
       "       [ 0.,  0.,  0.,  0.,  0.,  0.,  0.,  0.,  0.,  0.,  0.]])"
      ]
     },
     "execution_count": 130,
     "metadata": {},
     "output_type": "execute_result"
    }
   ],
   "source": [
    "kashi_mehrdad"
   ]
  },
  {
   "cell_type": "markdown",
   "id": "4ae3693b-3525-4081-87a8-a112a94cabc5",
   "metadata": {},
   "source": [
    "## Broadcasting"
   ]
  },
  {
   "cell_type": "code",
   "execution_count": 134,
   "id": "00b0a97e-8f54-4672-b813-489971f8af54",
   "metadata": {},
   "outputs": [],
   "source": [
    "kashi_mehrdad = kashi_mehrdad + 2"
   ]
  },
  {
   "cell_type": "code",
   "execution_count": 135,
   "id": "ee693d2e-ac5e-4fcb-be32-550bf277b3ae",
   "metadata": {},
   "outputs": [
    {
     "data": {
      "text/plain": [
       "array([[1. , 1. , 1. , 1. , 1. , 1. , 1. , 1. , 1. , 1. , 1. ],\n",
       "       [1. , 1. , 1. , 1. , 1. , 1. , 1. , 1. , 1. , 1. , 1. ],\n",
       "       [1. , 1. , 1. , 1. , 1. , 1. , 1. , 1. , 1. , 1. , 1. ],\n",
       "       [1. , 1. , 1. , 1. , 1. , 1. , 1. , 1. , 1. , 1. , 1. ],\n",
       "       [1. , 1. , 1. , 1. , 1. , 1. , 1. , 1. , 1. , 1. , 1. ],\n",
       "       [1. , 1. , 1. , 1. , 1. , 6.5, 1. , 1. , 1. , 1. , 1. ],\n",
       "       [1. , 1. , 1. , 1. , 1. , 1. , 1. , 1. , 1. , 1. , 1. ],\n",
       "       [1. , 1. , 1. , 1. , 1. , 1. , 1. , 1. , 1. , 1. , 1. ],\n",
       "       [1. , 1. , 1. , 1. , 1. , 1. , 1. , 1. , 1. , 1. , 1. ],\n",
       "       [1. , 1. , 1. , 1. , 1. , 1. , 1. , 1. , 1. , 1. , 1. ],\n",
       "       [1. , 1. , 1. , 1. , 1. , 1. , 1. , 1. , 1. , 1. , 1. ]])"
      ]
     },
     "execution_count": 135,
     "metadata": {},
     "output_type": "execute_result"
    }
   ],
   "source": [
    "kashi_mehrdad / 2"
   ]
  },
  {
   "cell_type": "code",
   "execution_count": 136,
   "id": "7fd6ba0a-fc3b-4473-872f-dc6df7134c5e",
   "metadata": {},
   "outputs": [
    {
     "data": {
      "text/plain": [
       "array([[  4.,   4.,   4.,   4.,   4.,   4.,   4.,   4.,   4.,   4.,   4.],\n",
       "       [  4.,   4.,   4.,   4.,   4.,   4.,   4.,   4.,   4.,   4.,   4.],\n",
       "       [  4.,   4.,   4.,   4.,   4.,   4.,   4.,   4.,   4.,   4.,   4.],\n",
       "       [  4.,   4.,   4.,   4.,   4.,   4.,   4.,   4.,   4.,   4.,   4.],\n",
       "       [  4.,   4.,   4.,   4.,   4.,   4.,   4.,   4.,   4.,   4.,   4.],\n",
       "       [  4.,   4.,   4.,   4.,   4., 169.,   4.,   4.,   4.,   4.,   4.],\n",
       "       [  4.,   4.,   4.,   4.,   4.,   4.,   4.,   4.,   4.,   4.,   4.],\n",
       "       [  4.,   4.,   4.,   4.,   4.,   4.,   4.,   4.,   4.,   4.,   4.],\n",
       "       [  4.,   4.,   4.,   4.,   4.,   4.,   4.,   4.,   4.,   4.,   4.],\n",
       "       [  4.,   4.,   4.,   4.,   4.,   4.,   4.,   4.,   4.,   4.,   4.],\n",
       "       [  4.,   4.,   4.,   4.,   4.,   4.,   4.,   4.,   4.,   4.,   4.]])"
      ]
     },
     "execution_count": 136,
     "metadata": {},
     "output_type": "execute_result"
    }
   ],
   "source": [
    "kashi_mehrdad ** 2"
   ]
  },
  {
   "cell_type": "code",
   "execution_count": null,
   "id": "ec782e4b-3c71-4474-b662-89e9d3c53fcf",
   "metadata": {},
   "outputs": [],
   "source": [
    "np.ones((12, 10, 5)) + np.ones((1, 10, 1))"
   ]
  },
  {
   "cell_type": "markdown",
   "id": "5a6078f9-ec52-4a48-a705-837205a35480",
   "metadata": {},
   "source": [
    "## Math(ufunc)"
   ]
  },
  {
   "cell_type": "code",
   "execution_count": null,
   "id": "f33edb04-daba-4c20-9bf7-6b9e25d38933",
   "metadata": {},
   "outputs": [],
   "source": [
    "np.sin(kashi_mehrdad)"
   ]
  },
  {
   "cell_type": "code",
   "execution_count": null,
   "id": "23badabc-1a23-48da-acc0-6ad0bca90f49",
   "metadata": {},
   "outputs": [],
   "source": [
    "np.exp(kashi_mehrdad)"
   ]
  },
  {
   "cell_type": "markdown",
   "id": "d6e8245b-9c1a-4478-aa83-3bdb454ef168",
   "metadata": {},
   "source": [
    "## Random"
   ]
  },
  {
   "cell_type": "code",
   "execution_count": 163,
   "id": "ea5a379f-3e38-4917-bb71-cde70bf05914",
   "metadata": {},
   "outputs": [
    {
     "data": {
      "text/plain": [
       "array([[10,  4,  5],\n",
       "       [ 5, 10, 11],\n",
       "       [ 5, 10,  5],\n",
       "       [ 3,  2,  6],\n",
       "       [ 4,  9,  8],\n",
       "       [ 5,  9,  7],\n",
       "       [ 9,  5,  5],\n",
       "       [ 5,  3, 10],\n",
       "       [ 7,  6,  4],\n",
       "       [ 2,  9,  6],\n",
       "       [ 5,  6,  2],\n",
       "       [11,  6,  8]])"
      ]
     },
     "execution_count": 163,
     "metadata": {},
     "output_type": "execute_result"
    }
   ],
   "source": [
    "np.random.randint(2, 12, (12, 3))"
   ]
  },
  {
   "cell_type": "code",
   "execution_count": null,
   "id": "8efc6919-d14b-4e66-b6d2-986b488e71b2",
   "metadata": {},
   "outputs": [],
   "source": [
    "np.random.normal(size=(12, 2, 2))"
   ]
  },
  {
   "cell_type": "code",
   "execution_count": 30,
   "id": "a99f1edd-2137-43c7-ae09-b9a29d0b9027",
   "metadata": {},
   "outputs": [],
   "source": [
    "def guassian(miu, variance, shape=(1,)) -> np.ndarray:\n",
    "    result = np.sqrt(variance) * np.random.normal(size = shape) + miu\n",
    "    return result"
   ]
  },
  {
   "cell_type": "code",
   "execution_count": 31,
   "id": "cbd13dbf-81bb-46f5-9a1b-587c0f4ecd46",
   "metadata": {},
   "outputs": [
    {
     "data": {
      "text/plain": [
       "array([[-0.31045795,  3.08094366, -1.85970096, ...,  0.32842085,\n",
       "         2.57453755,  2.70979811],\n",
       "       [ 5.15502622,  2.67996162,  0.0539223 , ...,  3.06590792,\n",
       "        -1.30916752,  2.69061343],\n",
       "       [ 0.67833911,  5.27348537,  4.16948781, ...,  0.74017784,\n",
       "         3.17737239,  4.19631087],\n",
       "       ...,\n",
       "       [ 1.3042396 ,  6.21538547,  4.40241306, ...,  2.49254627,\n",
       "         1.87630586,  1.2952833 ],\n",
       "       [ 3.95804157,  0.00626152,  2.61665059, ...,  5.18744454,\n",
       "         1.04400986,  1.63356574],\n",
       "       [ 4.00457542,  5.41596645,  2.65745634, ...,  1.26127764,\n",
       "        -0.65049806,  4.18703111]])"
      ]
     },
     "execution_count": 31,
     "metadata": {},
     "output_type": "execute_result"
    }
   ],
   "source": [
    "g_dis = guassian(2, 4, (40, 50))\n",
    "g_dis"
   ]
  },
  {
   "cell_type": "code",
   "execution_count": 32,
   "id": "bc80590d-1588-4862-8462-e3e84cf47d49",
   "metadata": {},
   "outputs": [
    {
     "data": {
      "text/plain": [
       "1.9532354314377953"
      ]
     },
     "execution_count": 32,
     "metadata": {},
     "output_type": "execute_result"
    }
   ],
   "source": [
    "np.mean(g_dis)"
   ]
  },
  {
   "cell_type": "code",
   "execution_count": 33,
   "id": "c60593ad-b05e-4b41-b63c-e6662686f828",
   "metadata": {},
   "outputs": [
    {
     "data": {
      "text/plain": [
       "4.049397926589652"
      ]
     },
     "execution_count": 33,
     "metadata": {},
     "output_type": "execute_result"
    }
   ],
   "source": [
    "np.var(g_dis)"
   ]
  },
  {
   "cell_type": "code",
   "execution_count": 34,
   "id": "df6ea081-72e0-4cae-9c12-7d3ca0c844a7",
   "metadata": {},
   "outputs": [
    {
     "data": {
      "text/plain": [
       "2.0123115878485747"
      ]
     },
     "execution_count": 34,
     "metadata": {},
     "output_type": "execute_result"
    }
   ],
   "source": [
    "np.std(g_dis)"
   ]
  },
  {
   "cell_type": "code",
   "execution_count": 35,
   "id": "81a44201-a226-4802-886d-feedf6e26f33",
   "metadata": {},
   "outputs": [
    {
     "data": {
      "text/plain": [
       "-5.051344505462751"
      ]
     },
     "execution_count": 35,
     "metadata": {},
     "output_type": "execute_result"
    }
   ],
   "source": [
    "np.min(g_dis)"
   ]
  },
  {
   "cell_type": "code",
   "execution_count": 36,
   "id": "b3d272ad-3bae-449b-8d63-71450ec5ea35",
   "metadata": {},
   "outputs": [
    {
     "data": {
      "text/plain": [
       "9.377385750033724"
      ]
     },
     "execution_count": 36,
     "metadata": {},
     "output_type": "execute_result"
    }
   ],
   "source": [
    "np.max(g_dis)"
   ]
  },
  {
   "cell_type": "code",
   "execution_count": 37,
   "id": "5f3c785c-38cf-45f1-a31a-75d874098e39",
   "metadata": {},
   "outputs": [
    {
     "data": {
      "text/plain": [
       "175"
      ]
     },
     "execution_count": 37,
     "metadata": {},
     "output_type": "execute_result"
    }
   ],
   "source": [
    "np.argmax(g_dis)"
   ]
  },
  {
   "cell_type": "code",
   "execution_count": 38,
   "id": "3b59fedb-fb0d-400c-b86e-812d38452455",
   "metadata": {},
   "outputs": [
    {
     "data": {
      "text/plain": [
       "(3, 25)"
      ]
     },
     "execution_count": 38,
     "metadata": {},
     "output_type": "execute_result"
    }
   ],
   "source": [
    "np.unravel_index(np.argmax(g_dis), g_dis.shape)"
   ]
  },
  {
   "cell_type": "code",
   "execution_count": 39,
   "id": "21519fa4-5a6d-49cd-a9b0-cd1736093456",
   "metadata": {},
   "outputs": [
    {
     "data": {
      "text/plain": [
       "9.377385750033724"
      ]
     },
     "execution_count": 40,
     "metadata": {},
     "output_type": "execute_result"
    }
   ],
   "source": [
    "g_dis[3, 25]"
   ]
  },
  {
   "cell_type": "markdown",
   "id": "9d93661c-7422-4b81-ab09-314534a4a1ed",
   "metadata": {},
   "source": [
    "## Axis"
   ]
  },
  {
   "cell_type": "code",
   "execution_count": 203,
   "id": "25d74ac9-405e-4c4e-b451-97c9762be273",
   "metadata": {},
   "outputs": [
    {
     "data": {
      "text/plain": [
       "array([[[4, 2],\n",
       "        [5, 4],\n",
       "        [6, 4]],\n",
       "\n",
       "       [[6, 6],\n",
       "        [6, 8],\n",
       "        [6, 4]],\n",
       "\n",
       "       [[9, 6],\n",
       "        [9, 4],\n",
       "        [3, 3]],\n",
       "\n",
       "       [[3, 9],\n",
       "        [9, 3],\n",
       "        [8, 8]]])"
      ]
     },
     "execution_count": 203,
     "metadata": {},
     "output_type": "execute_result"
    }
   ],
   "source": [
    "test_axis = np.random.randint(2, 10, (4, 3, 2))\n",
    "test_axis"
   ]
  },
  {
   "cell_type": "code",
   "execution_count": 207,
   "id": "decdeb92-a2f4-47a0-8c78-e623307027b1",
   "metadata": {},
   "outputs": [
    {
     "data": {
      "text/plain": [
       "array([[6, 4],\n",
       "       [6, 8],\n",
       "       [9, 6],\n",
       "       [9, 9]])"
      ]
     },
     "execution_count": 207,
     "metadata": {},
     "output_type": "execute_result"
    }
   ],
   "source": [
    "np.max(test_axis, axis=1)"
   ]
  },
  {
   "cell_type": "markdown",
   "id": "b74124c8-f31f-450e-85bd-2852059dc119",
   "metadata": {},
   "source": [
    "## reshape"
   ]
  },
  {
   "cell_type": "code",
   "execution_count": 214,
   "id": "3c497d01-94be-49d5-b635-1c9fb8404a7f",
   "metadata": {},
   "outputs": [
    {
     "data": {
      "text/plain": [
       "array([4, 8, 9, 9, 2, 7, 7, 7, 4, 4, 7, 5])"
      ]
     },
     "execution_count": 214,
     "metadata": {},
     "output_type": "execute_result"
    }
   ],
   "source": [
    "test_reshape = np.random.randint(1, 10, (12, ))\n",
    "test_reshape"
   ]
  },
  {
   "cell_type": "code",
   "execution_count": 222,
   "id": "69630dec-3be4-43ad-9563-b2bce9785036",
   "metadata": {},
   "outputs": [
    {
     "data": {
      "text/plain": [
       "array([[[4, 8, 9, 9, 2, 7],\n",
       "        [7, 7, 4, 4, 7, 5]]])"
      ]
     },
     "execution_count": 222,
     "metadata": {},
     "output_type": "execute_result"
    }
   ],
   "source": [
    "test_reshape.reshape(1, 2, -1)"
   ]
  },
  {
   "cell_type": "markdown",
   "id": "c787b0b7-fb99-4222-ad6c-0cf6329488df",
   "metadata": {},
   "source": [
    "## concatenate, vstack, hstack"
   ]
  },
  {
   "cell_type": "code",
   "execution_count": 30,
   "id": "5367864a-7841-4466-b783-1e1818ad9305",
   "metadata": {},
   "outputs": [
    {
     "data": {
      "text/plain": [
       "array([[2, 5, 7],\n",
       "       [3, 9, 6]])"
      ]
     },
     "execution_count": 30,
     "metadata": {},
     "output_type": "execute_result"
    }
   ],
   "source": [
    "a = np.random.randint(1, 10, (2, 3))\n",
    "a"
   ]
  },
  {
   "cell_type": "code",
   "execution_count": 4,
   "id": "361da7a1-686d-43fd-9c2d-6297d4c4f0e1",
   "metadata": {},
   "outputs": [
    {
     "data": {
      "text/plain": [
       "array([[4, 1, 2],\n",
       "       [5, 7, 5]])"
      ]
     },
     "execution_count": 4,
     "metadata": {},
     "output_type": "execute_result"
    }
   ],
   "source": [
    "b = np.random.randint(1, 10, (2, 3))\n",
    "b"
   ]
  },
  {
   "cell_type": "code",
   "execution_count": 5,
   "id": "a8694df9-40ff-4c76-b4dc-2c1dfa7503bb",
   "metadata": {},
   "outputs": [
    {
     "data": {
      "text/plain": [
       "array([[2, 5, 8],\n",
       "       [5, 7, 3],\n",
       "       [4, 1, 2],\n",
       "       [5, 7, 5]])"
      ]
     },
     "execution_count": 5,
     "metadata": {},
     "output_type": "execute_result"
    }
   ],
   "source": [
    "np.concatenate((a, b), axis=0)"
   ]
  },
  {
   "cell_type": "code",
   "execution_count": 6,
   "id": "936e1f3a-f6d4-48e5-adcd-f29babcc49f9",
   "metadata": {},
   "outputs": [
    {
     "data": {
      "text/plain": [
       "array([[2, 5, 8, 4, 1, 2],\n",
       "       [5, 7, 3, 5, 7, 5]])"
      ]
     },
     "execution_count": 6,
     "metadata": {},
     "output_type": "execute_result"
    }
   ],
   "source": [
    "np.concatenate((a, b), axis=1)"
   ]
  },
  {
   "cell_type": "code",
   "execution_count": 7,
   "id": "1eb53d40-8cb4-4d08-b905-7298a28e230c",
   "metadata": {},
   "outputs": [
    {
     "data": {
      "text/plain": [
       "array([[2, 5, 8, 4, 1, 2],\n",
       "       [5, 7, 3, 5, 7, 5]])"
      ]
     },
     "execution_count": 7,
     "metadata": {},
     "output_type": "execute_result"
    }
   ],
   "source": [
    "np.hstack((a, b))"
   ]
  },
  {
   "cell_type": "code",
   "execution_count": 8,
   "id": "263447df-ba9d-4714-85b2-cdc3011a3ed1",
   "metadata": {},
   "outputs": [
    {
     "data": {
      "text/plain": [
       "array([[2, 5, 8],\n",
       "       [5, 7, 3],\n",
       "       [4, 1, 2],\n",
       "       [5, 7, 5]])"
      ]
     },
     "execution_count": 8,
     "metadata": {},
     "output_type": "execute_result"
    }
   ],
   "source": [
    "np.vstack((a, b))"
   ]
  },
  {
   "cell_type": "markdown",
   "id": "5d04bd94-994d-4e6d-88f0-4382593edede",
   "metadata": {
    "tags": []
   },
   "source": [
    "### numpy.append(arr, values, axis=None)\n",
    "\n",
    "<p> Append values to the end of an array. </p>\n",
    "<p>These values are appended to a copy of arr. It must be of the correct shape (the same shape as arr, excluding axis). If axis is not specified, values can be any shape and will be flattened before use.</p>\n",
    "<p style=\"color:red\"> The axis along which values are appended. If axis is not given, both arr and values are flattened before use.</p>"
   ]
  },
  {
   "cell_type": "code",
   "execution_count": 9,
   "id": "3defc2f1-8c47-46b1-9c45-d4d02cbb34c8",
   "metadata": {},
   "outputs": [
    {
     "data": {
      "text/plain": [
       "array([2, 5, 8, 5, 7, 3, 4, 1, 2, 5, 7, 5])"
      ]
     },
     "execution_count": 9,
     "metadata": {},
     "output_type": "execute_result"
    }
   ],
   "source": [
    "np.append(a, b)"
   ]
  },
  {
   "cell_type": "code",
   "execution_count": 34,
   "id": "a75fa31f-e2ca-4749-b8fb-5e4f87d2077c",
   "metadata": {},
   "outputs": [
    {
     "data": {
      "text/plain": [
       "array([2, 5, 7, 3, 9, 6])"
      ]
     },
     "execution_count": 34,
     "metadata": {},
     "output_type": "execute_result"
    }
   ],
   "source": [
    "a.flatten()"
   ]
  },
  {
   "cell_type": "code",
   "execution_count": 43,
   "id": "0486816e-b801-456d-8808-1c4e72c4983f",
   "metadata": {},
   "outputs": [
    {
     "data": {
      "text/plain": [
       "array([[2, 5, 7, 2, 3],\n",
       "       [3, 9, 6, 5, 3]])"
      ]
     },
     "execution_count": 43,
     "metadata": {},
     "output_type": "execute_result"
    }
   ],
   "source": [
    "np.append(a, [[2, 3],[5, 3]], axis=1)"
   ]
  },
  {
   "cell_type": "code",
   "execution_count": 10,
   "id": "78ef4ee1-2456-45bd-a8e2-915304775e3b",
   "metadata": {},
   "outputs": [
    {
     "data": {
      "text/plain": [
       "array([ 2, 10,  5,  8,  5,  7,  3])"
      ]
     },
     "execution_count": 10,
     "metadata": {},
     "output_type": "execute_result"
    }
   ],
   "source": [
    "np.insert(a, 1, 10)"
   ]
  },
  {
   "cell_type": "code",
   "execution_count": 46,
   "id": "c3976252-5ace-4056-8d46-930ea3df00b6",
   "metadata": {},
   "outputs": [
    {
     "data": {
      "text/plain": [
       "array([[ 2, 10,  5,  7],\n",
       "       [ 3, 10,  9,  6]])"
      ]
     },
     "execution_count": 46,
     "metadata": {},
     "output_type": "execute_result"
    }
   ],
   "source": [
    "np.insert(a, 1, 10, axis=1)"
   ]
  },
  {
   "cell_type": "code",
   "execution_count": 15,
   "id": "86d12026-2cb2-4db8-99b5-620ab9e33248",
   "metadata": {},
   "outputs": [
    {
     "data": {
      "text/plain": [
       "array([[ 2,  5,  8],\n",
       "       [ 2, 10,  2],\n",
       "       [ 5,  7,  3]])"
      ]
     },
     "execution_count": 15,
     "metadata": {},
     "output_type": "execute_result"
    }
   ],
   "source": [
    "np.insert(a, 1, [2, 10, 2], axis=0)"
   ]
  },
  {
   "cell_type": "code",
   "execution_count": 271,
   "id": "afc913d2-3f37-4bda-8602-ba9883e8c94a",
   "metadata": {},
   "outputs": [],
   "source": [
    "c = a.copy()"
   ]
  },
  {
   "cell_type": "code",
   "execution_count": 272,
   "id": "ce2f608e-0d24-4bfa-b3fc-4ba86042c6ee",
   "metadata": {},
   "outputs": [],
   "source": [
    "a[1, 2]  = 15"
   ]
  },
  {
   "cell_type": "code",
   "execution_count": 287,
   "id": "fb8d18c5-d8a5-49cd-a974-1d31131dc769",
   "metadata": {},
   "outputs": [
    {
     "data": {
      "text/plain": [
       "array([[-2,  6, 12],\n",
       "       [-2, -5, 20]])"
      ]
     },
     "execution_count": 287,
     "metadata": {},
     "output_type": "execute_result"
    }
   ],
   "source": [
    "c[1, 1] = -5\n",
    "c"
   ]
  },
  {
   "cell_type": "code",
   "execution_count": 288,
   "id": "560e3a6d-6816-49fc-aca7-8aeed9c76a72",
   "metadata": {},
   "outputs": [
    {
     "data": {
      "text/plain": [
       "array([[-2, -5, 12],\n",
       "       [-2,  6, 20]])"
      ]
     },
     "execution_count": 288,
     "metadata": {},
     "output_type": "execute_result"
    }
   ],
   "source": [
    "c.sort(axis=0)\n",
    "c"
   ]
  },
  {
   "cell_type": "markdown",
   "id": "cc707b12-d332-4eec-a07f-493bfcb28da6",
   "metadata": {},
   "source": [
    "## Vectorization"
   ]
  },
  {
   "cell_type": "code",
   "execution_count": 62,
   "id": "dacbd267-6538-4023-ae04-bc665523c8b8",
   "metadata": {},
   "outputs": [
    {
     "name": "stdout",
     "output_type": "stream",
     "text": [
      "[[    0     1     2 ...   497   498   499]\n",
      " [  500   501   502 ...   997   998   999]\n",
      " [ 1000  1001  1002 ...  1497  1498  1499]\n",
      " ...\n",
      " [98500 98501 98502 ... 98997 98998 98999]\n",
      " [99000 99001 99002 ... 99497 99498 99499]\n",
      " [99500 99501 99502 ... 99997 99998 99999]]\n",
      "[[ True False  True ... False  True False]\n",
      " [ True False  True ... False  True False]\n",
      " [ True False  True ... False  True False]\n",
      " ...\n",
      " [ True False  True ... False  True False]\n",
      " [ True False  True ... False  True False]\n",
      " [ True False  True ... False  True False]]\n",
      "60.6 ms ± 4.88 ms per loop (mean ± std. dev. of 7 runs, 10 loops each)\n",
      "131 ms ± 30.1 ms per loop (mean ± std. dev. of 7 runs, 10 loops each)\n"
     ]
    }
   ],
   "source": [
    "test_arr_data = np.arange(100000).reshape(200, 500)\n",
    "print(test_arr_data)\n",
    "\n",
    "def f(a):\n",
    "    result = np.full_like(a, True, dtype=np.bool_)\n",
    "    for indx, elm in np.ndenumerate(a):\n",
    "        if elm % 2 == 0:\n",
    "            indx1, indx2 = indx\n",
    "            result[indx] = True \n",
    "        else:\n",
    "            result[indx] = False\n",
    "            \n",
    "    return result\n",
    "            \n",
    "print(f(test_arr_data))\n",
    "%timeit -n 10 np.vectorize(lambda x: True if x % 2 == 0 else False)(test_arr_data)\n",
    "%timeit -n 10 f(test_arr_data)"
   ]
  },
  {
   "cell_type": "code",
   "execution_count": 71,
   "id": "31d0735b-4ea8-4cab-b029-8c2acb8789d9",
   "metadata": {},
   "outputs": [
    {
     "data": {
      "text/plain": [
       "array([ True,  True, False, False,  True])"
      ]
     },
     "execution_count": 71,
     "metadata": {},
     "output_type": "execute_result"
    }
   ],
   "source": [
    "users = np.array([\"Ashkan\", \"Ali\", \"Behnam\", \"Mammad\", \"Asghar\"])\n",
    "\n",
    "# users[np.vectorize(lambda x: x[0])(users) == \"A\"]"
   ]
  },
  {
   "cell_type": "markdown",
   "id": "a6b3062b-f663-4d5a-a752-10f46bd34632",
   "metadata": {},
   "source": [
    "### Conditional Logic as Array Operations\n",
    "The numpy.where function is a vectorized version of the ternary expression x if condition else y"
   ]
  },
  {
   "cell_type": "code",
   "execution_count": 69,
   "id": "e7d50d29-f4ed-485f-95ce-a6d7f689f319",
   "metadata": {},
   "outputs": [
    {
     "name": "stdout",
     "output_type": "stream",
     "text": [
      "[[0 1 2 3 4]\n",
      " [5 6 7 8 9]]\n"
     ]
    },
    {
     "data": {
      "text/plain": [
       "array([[3, 4, 5, 6, 7],\n",
       "       [5, 6, 7, 8, 9]])"
      ]
     },
     "execution_count": 69,
     "metadata": {},
     "output_type": "execute_result"
    }
   ],
   "source": [
    "a = np.arange(10).reshape(2, 5)\n",
    "print(a)\n",
    "\n",
    "np.where(a > 4, a , a + 3)"
   ]
  },
  {
   "cell_type": "markdown",
   "id": "c183744f-0638-40de-bd4a-4f58f02f2d7f",
   "metadata": {},
   "source": [
    "### Calculus"
   ]
  },
  {
   "cell_type": "code",
   "execution_count": 79,
   "id": "c16ab5ca-72db-4805-93b7-7134000b7d2c",
   "metadata": {},
   "outputs": [],
   "source": [
    "x = np.linspace(0.1, 50, 1000)\n",
    "y = np.sin(x) * (5*x+1)/x**2"
   ]
  },
  {
   "cell_type": "code",
   "execution_count": 80,
   "id": "404d3877-95c3-46ec-9653-71d49039f043",
   "metadata": {},
   "outputs": [
    {
     "data": {
      "text/plain": [
       "[<matplotlib.lines.Line2D at 0x7fd432d19400>]"
      ]
     },
     "execution_count": 80,
     "metadata": {},
     "output_type": "execute_result"
    },
    {
     "data": {
      "image/png": "[encoded data removed]",
      "text/plain": [
       "<Figure size 200x300 with 1 Axes>"
      ]
     },
     "metadata": {},
     "output_type": "display_data"
    }
   ],
   "source": [
    "plt.figure(figsize=(2, 3))\n",
    "plt.plot(x, y)"
   ]
  },
  {
   "cell_type": "code",
   "execution_count": 84,
   "id": "32901c2e-3913-4472-aa07-7c776094b0a8",
   "metadata": {},
   "outputs": [],
   "source": [
    "x = np.linspace(-10, 10, 1000)\n",
    "y = x**2\n",
    "dydx = np.gradient(y, x)"
   ]
  },
  {
   "cell_type": "code",
   "execution_count": 82,
   "id": "86c3176c-ecc9-49b9-8fca-caa40c84a644",
   "metadata": {},
   "outputs": [
    {
     "data": {
      "text/plain": [
       "[<matplotlib.lines.Line2D at 0x7fd432b9d6a0>]"
      ]
     },
     "execution_count": 82,
     "metadata": {},
     "output_type": "execute_result"
    },
    {
     "data": {
      "image/png": "[encoded data removed]",
      "text/plain": [
       "<Figure size 200x300 with 1 Axes>"
      ]
     },
     "metadata": {},
     "output_type": "display_data"
    }
   ],
   "source": [
    "plt.figure(figsize=(2, 3))\n",
    "plt.plot(x, y)\n",
    "plt.plot(x, dydx)"
   ]
  },
  {
   "cell_type": "code",
   "execution_count": 90,
   "id": "a076a390-d947-4427-b526-6ad22927b8a0",
   "metadata": {},
   "outputs": [
    {
     "data": {
      "text/plain": [
       "array([0.        , 1.33333333, 2.66666667, 4.        ])"
      ]
     },
     "execution_count": 90,
     "metadata": {},
     "output_type": "execute_result"
    }
   ],
   "source": [
    "np.linspace(0, 4, 4)"
   ]
  },
  {
   "cell_type": "code",
   "execution_count": 87,
   "id": "f23cfd71-9889-423f-826c-1d2ed29912b1",
   "metadata": {},
   "outputs": [
    {
     "data": {
      "text/plain": [
       "[<matplotlib.lines.Line2D at 0x7fd432841d00>]"
      ]
     },
     "execution_count": 87,
     "metadata": {},
     "output_type": "execute_result"
    },
    {
     "data": {
      "image/png": "[encoded data removed]",
      "text/plain": [
       "<Figure size 200x300 with 1 Axes>"
      ]
     },
     "metadata": {},
     "output_type": "display_data"
    }
   ],
   "source": [
    "integral_x_2 = np.cumsum(y) * (x[1] - x[0])\n",
    "plt.figure(figsize=(2, 3))\n",
    "plt.plot(x, integral_x_2)"
   ]
  },
  {
   "cell_type": "code",
   "execution_count": 83,
   "id": "d2159f2b-faf8-46a4-9eae-fc15373314a3",
   "metadata": {},
   "outputs": [
    {
     "data": {
      "text/plain": [
       "array([ 1,  3,  6, 10, 15, 21])"
      ]
     },
     "execution_count": 83,
     "metadata": {},
     "output_type": "execute_result"
    }
   ],
   "source": [
    "## TODO: integration ---> hint cumsum\n",
    "np.cumsum(np.array([1, 2, 3, 4, 5, 6]))"
   ]
  },
  {
   "cell_type": "markdown",
   "id": "fe8db609-1cae-49d8-86c1-d07773849c07",
   "metadata": {
    "tags": []
   },
   "source": [
    "## Algebra"
   ]
  },
  {
   "cell_type": "code",
   "execution_count": 112,
   "id": "10c612bd-33fe-4dfa-a290-2e36aaab258b",
   "metadata": {},
   "outputs": [
    {
     "data": {
      "text/plain": [
       "array([[1., 2., 3.],\n",
       "       [4., 5., 6.]])"
      ]
     },
     "execution_count": 112,
     "metadata": {},
     "output_type": "execute_result"
    }
   ],
   "source": [
    "x = np.array([[1., 2., 3.], [4., 5., 6.]])\n",
    "x"
   ]
  },
  {
   "cell_type": "code",
   "execution_count": 113,
   "id": "cd79af73-25ad-41df-821e-eb4d944540d3",
   "metadata": {},
   "outputs": [
    {
     "data": {
      "text/plain": [
       "array([[ 6., 23.],\n",
       "       [-1.,  7.],\n",
       "       [ 8.,  9.]])"
      ]
     },
     "execution_count": 113,
     "metadata": {},
     "output_type": "execute_result"
    }
   ],
   "source": [
    "y = np.array([[6., 23.], [-1, 7], [8, 9]])\n",
    "y"
   ]
  },
  {
   "cell_type": "code",
   "execution_count": 114,
   "id": "ad31364c-c2ca-4d3d-bc48-7b9692e77712",
   "metadata": {},
   "outputs": [
    {
     "data": {
      "text/plain": [
       "array([[ 28.,  64.],\n",
       "       [ 67., 181.]])"
      ]
     },
     "execution_count": 114,
     "metadata": {},
     "output_type": "execute_result"
    }
   ],
   "source": [
    "x @ y"
   ]
  },
  {
   "cell_type": "code",
   "execution_count": 128,
   "id": "9cafed0c-ac96-4781-8ec9-6c07bd3b198c",
   "metadata": {},
   "outputs": [],
   "source": [
    "from numpy.linalg import inv, qr, svd, eig"
   ]
  },
  {
   "cell_type": "code",
   "execution_count": 119,
   "id": "be4167bd-e9af-40ae-8ca8-a5de3ea4fb52",
   "metadata": {},
   "outputs": [
    {
     "data": {
      "text/plain": [
       "array([[1, 0],\n",
       "       [0, 1]], dtype=int32)"
      ]
     },
     "execution_count": 119,
     "metadata": {},
     "output_type": "execute_result"
    }
   ],
   "source": [
    "result = inv(x @ y) @ x @ y\n",
    "result = result.astype('int32')\n",
    "np.around(result)"
   ]
  },
  {
   "cell_type": "code",
   "execution_count": 120,
   "id": "f8fe3354-1dc7-40c3-9e82-ab74ce098bf4",
   "metadata": {},
   "outputs": [
    {
     "data": {
      "text/plain": [
       "array([[1., 4.],\n",
       "       [2., 5.],\n",
       "       [3., 6.]])"
      ]
     },
     "execution_count": 120,
     "metadata": {},
     "output_type": "execute_result"
    }
   ],
   "source": [
    "x.T"
   ]
  },
  {
   "cell_type": "code",
   "execution_count": 126,
   "id": "3652b0db-c259-4ccf-a0c9-abfc5bca1e23",
   "metadata": {},
   "outputs": [
    {
     "data": {
      "text/plain": [
       "array([[ 28.,  64.],\n",
       "       [ 67., 181.]])"
      ]
     },
     "execution_count": 126,
     "metadata": {},
     "output_type": "execute_result"
    }
   ],
   "source": [
    "q , r = qr(x @ y)\n",
    "q @ r"
   ]
  },
  {
   "cell_type": "code",
   "execution_count": 130,
   "id": "0790448c-4805-47a3-bd0f-f20caa0b395a",
   "metadata": {},
   "outputs": [],
   "source": [
    "eig_val, eigen_vector = eig(x @ y)"
   ]
  },
  {
   "cell_type": "code",
   "execution_count": 131,
   "id": "a9743b8d-ab4f-4ae2-bfa9-b8a0c790fbeb",
   "metadata": {},
   "outputs": [
    {
     "data": {
      "text/plain": [
       "array([  3.80119167, 205.19880833])"
      ]
     },
     "execution_count": 131,
     "metadata": {},
     "output_type": "execute_result"
    }
   ],
   "source": [
    "eig_val"
   ]
  },
  {
   "cell_type": "code",
   "execution_count": 132,
   "id": "0402ac12-8c14-488e-87e7-4bab6ca48588",
   "metadata": {},
   "outputs": [
    {
     "data": {
      "text/plain": [
       "array([[-0.93537044, -0.33969866],\n",
       "       [ 0.35366953, -0.94053433]])"
      ]
     },
     "execution_count": 132,
     "metadata": {},
     "output_type": "execute_result"
    }
   ],
   "source": [
    "eigen_vector"
   ]
  }
 ],
 "metadata": {
  "kernelspec": {
   "display_name": "Python 3 (ipykernel)",
   "language": "python",
   "name": "python3"
  },
  "language_info": {
   "codemirror_mode": {
    "name": "ipython",
    "version": 3
   },
   "file_extension": ".py",
   "mimetype": "text/x-python",
   "name": "python",
   "nbconvert_exporter": "python",
   "pygments_lexer": "ipython3",
   "version": "3.8.10"
  }
 },
 "nbformat": 4,
 "nbformat_minor": 5
}
