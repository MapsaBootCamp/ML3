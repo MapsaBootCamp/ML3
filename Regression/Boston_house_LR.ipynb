{
 "cells": [
  {
   "cell_type": "markdown",
   "metadata": {},
   "source": [
    "# Boston House dataset Analysis\n",
    "\n",
    "## 1- Import Modules"
   ]
  },
  {
   "cell_type": "code",
   "execution_count": 1,
   "metadata": {},
   "outputs": [],
   "source": [
    "import pandas as pd\n",
    "import seaborn as sns\n",
    "import numpy as np\n",
    "import matplotlib.pyplot as plt"
   ]
  },
  {
   "cell_type": "markdown",
   "metadata": {},
   "source": [
    "## 2- read data"
   ]
  },
  {
   "cell_type": "code",
   "execution_count": 2,
   "metadata": {
    "scrolled": true
   },
   "outputs": [
    {
     "name": "stderr",
     "output_type": "stream",
     "text": [
      "/home/ashkan/Documents/ML2/venv/lib/python3.8/site-packages/sklearn/utils/deprecation.py:87: FutureWarning: Function load_boston is deprecated; `load_boston` is deprecated in 1.0 and will be removed in 1.2.\n",
      "\n",
      "    The Boston housing prices dataset has an ethical problem. You can refer to\n",
      "    the documentation of this function for further details.\n",
      "\n",
      "    The scikit-learn maintainers therefore strongly discourage the use of this\n",
      "    dataset unless the purpose of the code is to study and educate about\n",
      "    ethical issues in data science and machine learning.\n",
      "\n",
      "    In this special case, you can fetch the dataset from the original\n",
      "    source::\n",
      "\n",
      "        import pandas as pd\n",
      "        import numpy as np\n",
      "\n",
      "\n",
      "        data_url = \"http://lib.stat.cmu.edu/datasets/boston\"\n",
      "        raw_df = pd.read_csv(data_url, sep=\"\\s+\", skiprows=22, header=None)\n",
      "        data = np.hstack([raw_df.values[::2, :], raw_df.values[1::2, :2]])\n",
      "        target = raw_df.values[1::2, 2]\n",
      "\n",
      "    Alternative datasets include the California housing dataset (i.e.\n",
      "    :func:`~sklearn.datasets.fetch_california_housing`) and the Ames housing\n",
      "    dataset. You can load the datasets as follows::\n",
      "\n",
      "        from sklearn.datasets import fetch_california_housing\n",
      "        housing = fetch_california_housing()\n",
      "\n",
      "    for the California housing dataset and::\n",
      "\n",
      "        from sklearn.datasets import fetch_openml\n",
      "        housing = fetch_openml(name=\"house_prices\", as_frame=True)\n",
      "\n",
      "    for the Ames housing dataset.\n",
      "    \n",
      "  warnings.warn(msg, category=FutureWarning)\n"
     ]
    }
   ],
   "source": [
    "from sklearn.datasets import load_boston\n",
    "boston_dataset = load_boston()\n",
    "# print(boston_dataset.DESCR)\n",
    "# boston_dataset.keys()\n",
    "# boston_dataset[\"feature_names\"]"
   ]
  },
  {
   "cell_type": "code",
   "execution_count": 3,
   "metadata": {},
   "outputs": [
    {
     "data": {
      "text/plain": [
       "(506, 13)"
      ]
     },
     "execution_count": 3,
     "metadata": {},
     "output_type": "execute_result"
    }
   ],
   "source": [
    "# boston_dataset.data\n",
    "# boston_dataset.keys()\n",
    "# boston_dataset.feature_names\n",
    "# boston_dataset.target.shape\n",
    "boston_dataset['data'].shape"
   ]
  },
  {
   "cell_type": "code",
   "execution_count": 4,
   "metadata": {},
   "outputs": [
    {
     "data": {
      "text/html": [
       "<div>\n",
       "<style scoped>\n",
       "    .dataframe tbody tr th:only-of-type {\n",
       "        vertical-align: middle;\n",
       "    }\n",
       "\n",
       "    .dataframe tbody tr th {\n",
       "        vertical-align: top;\n",
       "    }\n",
       "\n",
       "    .dataframe thead th {\n",
       "        text-align: right;\n",
       "    }\n",
       "</style>\n",
       "<table border=\"1\" class=\"dataframe\">\n",
       "  <thead>\n",
       "    <tr style=\"text-align: right;\">\n",
       "      <th></th>\n",
       "      <th>CRIM</th>\n",
       "      <th>ZN</th>\n",
       "      <th>INDUS</th>\n",
       "      <th>CHAS</th>\n",
       "      <th>NOX</th>\n",
       "      <th>RM</th>\n",
       "      <th>AGE</th>\n",
       "      <th>DIS</th>\n",
       "      <th>RAD</th>\n",
       "      <th>TAX</th>\n",
       "      <th>PTRATIO</th>\n",
       "      <th>B</th>\n",
       "      <th>LSTAT</th>\n",
       "      <th>home_price</th>\n",
       "    </tr>\n",
       "  </thead>\n",
       "  <tbody>\n",
       "    <tr>\n",
       "      <th>0</th>\n",
       "      <td>0.00632</td>\n",
       "      <td>18.0</td>\n",
       "      <td>2.31</td>\n",
       "      <td>0.0</td>\n",
       "      <td>0.538</td>\n",
       "      <td>6.575</td>\n",
       "      <td>65.2</td>\n",
       "      <td>4.0900</td>\n",
       "      <td>1.0</td>\n",
       "      <td>296.0</td>\n",
       "      <td>15.3</td>\n",
       "      <td>396.90</td>\n",
       "      <td>4.98</td>\n",
       "      <td>24.0</td>\n",
       "    </tr>\n",
       "    <tr>\n",
       "      <th>1</th>\n",
       "      <td>0.02731</td>\n",
       "      <td>0.0</td>\n",
       "      <td>7.07</td>\n",
       "      <td>0.0</td>\n",
       "      <td>0.469</td>\n",
       "      <td>6.421</td>\n",
       "      <td>78.9</td>\n",
       "      <td>4.9671</td>\n",
       "      <td>2.0</td>\n",
       "      <td>242.0</td>\n",
       "      <td>17.8</td>\n",
       "      <td>396.90</td>\n",
       "      <td>9.14</td>\n",
       "      <td>21.6</td>\n",
       "    </tr>\n",
       "    <tr>\n",
       "      <th>2</th>\n",
       "      <td>0.02729</td>\n",
       "      <td>0.0</td>\n",
       "      <td>7.07</td>\n",
       "      <td>0.0</td>\n",
       "      <td>0.469</td>\n",
       "      <td>7.185</td>\n",
       "      <td>61.1</td>\n",
       "      <td>4.9671</td>\n",
       "      <td>2.0</td>\n",
       "      <td>242.0</td>\n",
       "      <td>17.8</td>\n",
       "      <td>392.83</td>\n",
       "      <td>4.03</td>\n",
       "      <td>34.7</td>\n",
       "    </tr>\n",
       "    <tr>\n",
       "      <th>3</th>\n",
       "      <td>0.03237</td>\n",
       "      <td>0.0</td>\n",
       "      <td>2.18</td>\n",
       "      <td>0.0</td>\n",
       "      <td>0.458</td>\n",
       "      <td>6.998</td>\n",
       "      <td>45.8</td>\n",
       "      <td>6.0622</td>\n",
       "      <td>3.0</td>\n",
       "      <td>222.0</td>\n",
       "      <td>18.7</td>\n",
       "      <td>394.63</td>\n",
       "      <td>2.94</td>\n",
       "      <td>33.4</td>\n",
       "    </tr>\n",
       "    <tr>\n",
       "      <th>4</th>\n",
       "      <td>0.06905</td>\n",
       "      <td>0.0</td>\n",
       "      <td>2.18</td>\n",
       "      <td>0.0</td>\n",
       "      <td>0.458</td>\n",
       "      <td>7.147</td>\n",
       "      <td>54.2</td>\n",
       "      <td>6.0622</td>\n",
       "      <td>3.0</td>\n",
       "      <td>222.0</td>\n",
       "      <td>18.7</td>\n",
       "      <td>396.90</td>\n",
       "      <td>5.33</td>\n",
       "      <td>36.2</td>\n",
       "    </tr>\n",
       "  </tbody>\n",
       "</table>\n",
       "</div>"
      ],
      "text/plain": [
       "      CRIM    ZN  INDUS  CHAS    NOX     RM   AGE     DIS  RAD    TAX  \\\n",
       "0  0.00632  18.0   2.31   0.0  0.538  6.575  65.2  4.0900  1.0  296.0   \n",
       "1  0.02731   0.0   7.07   0.0  0.469  6.421  78.9  4.9671  2.0  242.0   \n",
       "2  0.02729   0.0   7.07   0.0  0.469  7.185  61.1  4.9671  2.0  242.0   \n",
       "3  0.03237   0.0   2.18   0.0  0.458  6.998  45.8  6.0622  3.0  222.0   \n",
       "4  0.06905   0.0   2.18   0.0  0.458  7.147  54.2  6.0622  3.0  222.0   \n",
       "\n",
       "   PTRATIO       B  LSTAT  home_price  \n",
       "0     15.3  396.90   4.98        24.0  \n",
       "1     17.8  396.90   9.14        21.6  \n",
       "2     17.8  392.83   4.03        34.7  \n",
       "3     18.7  394.63   2.94        33.4  \n",
       "4     18.7  396.90   5.33        36.2  "
      ]
     },
     "execution_count": 4,
     "metadata": {},
     "output_type": "execute_result"
    }
   ],
   "source": [
    "boston_df = pd.DataFrame(data= boston_dataset.data , columns = boston_dataset.feature_names)\n",
    "boston_df[\"home_price\"] = boston_dataset.target\n",
    "boston_df.head()"
   ]
  },
  {
   "cell_type": "code",
   "execution_count": 5,
   "metadata": {},
   "outputs": [
    {
     "name": "stdout",
     "output_type": "stream",
     "text": [
      "<class 'pandas.core.frame.DataFrame'>\n",
      "RangeIndex: 506 entries, 0 to 505\n",
      "Data columns (total 14 columns):\n",
      " #   Column      Non-Null Count  Dtype  \n",
      "---  ------      --------------  -----  \n",
      " 0   CRIM        506 non-null    float64\n",
      " 1   ZN          506 non-null    float64\n",
      " 2   INDUS       506 non-null    float64\n",
      " 3   CHAS        506 non-null    float64\n",
      " 4   NOX         506 non-null    float64\n",
      " 5   RM          506 non-null    float64\n",
      " 6   AGE         506 non-null    float64\n",
      " 7   DIS         506 non-null    float64\n",
      " 8   RAD         506 non-null    float64\n",
      " 9   TAX         506 non-null    float64\n",
      " 10  PTRATIO     506 non-null    float64\n",
      " 11  B           506 non-null    float64\n",
      " 12  LSTAT       506 non-null    float64\n",
      " 13  home_price  506 non-null    float64\n",
      "dtypes: float64(14)\n",
      "memory usage: 55.5 KB\n"
     ]
    }
   ],
   "source": [
    "boston_df.info()"
   ]
  },
  {
   "cell_type": "code",
   "execution_count": 6,
   "metadata": {},
   "outputs": [
    {
     "data": {
      "text/html": [
       "<div>\n",
       "<style scoped>\n",
       "    .dataframe tbody tr th:only-of-type {\n",
       "        vertical-align: middle;\n",
       "    }\n",
       "\n",
       "    .dataframe tbody tr th {\n",
       "        vertical-align: top;\n",
       "    }\n",
       "\n",
       "    .dataframe thead th {\n",
       "        text-align: right;\n",
       "    }\n",
       "</style>\n",
       "<table border=\"1\" class=\"dataframe\">\n",
       "  <thead>\n",
       "    <tr style=\"text-align: right;\">\n",
       "      <th></th>\n",
       "      <th>CRIM</th>\n",
       "      <th>ZN</th>\n",
       "      <th>INDUS</th>\n",
       "      <th>CHAS</th>\n",
       "      <th>NOX</th>\n",
       "      <th>RM</th>\n",
       "      <th>AGE</th>\n",
       "      <th>DIS</th>\n",
       "      <th>RAD</th>\n",
       "      <th>TAX</th>\n",
       "      <th>PTRATIO</th>\n",
       "      <th>B</th>\n",
       "      <th>LSTAT</th>\n",
       "      <th>home_price</th>\n",
       "    </tr>\n",
       "  </thead>\n",
       "  <tbody>\n",
       "    <tr>\n",
       "      <th>count</th>\n",
       "      <td>506.000000</td>\n",
       "      <td>506.000000</td>\n",
       "      <td>506.000000</td>\n",
       "      <td>506.000000</td>\n",
       "      <td>506.000000</td>\n",
       "      <td>506.000000</td>\n",
       "      <td>506.000000</td>\n",
       "      <td>506.000000</td>\n",
       "      <td>506.000000</td>\n",
       "      <td>506.000000</td>\n",
       "      <td>506.000000</td>\n",
       "      <td>506.000000</td>\n",
       "      <td>506.000000</td>\n",
       "      <td>506.000000</td>\n",
       "    </tr>\n",
       "    <tr>\n",
       "      <th>mean</th>\n",
       "      <td>3.613524</td>\n",
       "      <td>11.363636</td>\n",
       "      <td>11.136779</td>\n",
       "      <td>0.069170</td>\n",
       "      <td>0.554695</td>\n",
       "      <td>6.284634</td>\n",
       "      <td>68.574901</td>\n",
       "      <td>3.795043</td>\n",
       "      <td>9.549407</td>\n",
       "      <td>408.237154</td>\n",
       "      <td>18.455534</td>\n",
       "      <td>356.674032</td>\n",
       "      <td>12.653063</td>\n",
       "      <td>22.532806</td>\n",
       "    </tr>\n",
       "    <tr>\n",
       "      <th>std</th>\n",
       "      <td>8.601545</td>\n",
       "      <td>23.322453</td>\n",
       "      <td>6.860353</td>\n",
       "      <td>0.253994</td>\n",
       "      <td>0.115878</td>\n",
       "      <td>0.702617</td>\n",
       "      <td>28.148861</td>\n",
       "      <td>2.105710</td>\n",
       "      <td>8.707259</td>\n",
       "      <td>168.537116</td>\n",
       "      <td>2.164946</td>\n",
       "      <td>91.294864</td>\n",
       "      <td>7.141062</td>\n",
       "      <td>9.197104</td>\n",
       "    </tr>\n",
       "    <tr>\n",
       "      <th>min</th>\n",
       "      <td>0.006320</td>\n",
       "      <td>0.000000</td>\n",
       "      <td>0.460000</td>\n",
       "      <td>0.000000</td>\n",
       "      <td>0.385000</td>\n",
       "      <td>3.561000</td>\n",
       "      <td>2.900000</td>\n",
       "      <td>1.129600</td>\n",
       "      <td>1.000000</td>\n",
       "      <td>187.000000</td>\n",
       "      <td>12.600000</td>\n",
       "      <td>0.320000</td>\n",
       "      <td>1.730000</td>\n",
       "      <td>5.000000</td>\n",
       "    </tr>\n",
       "    <tr>\n",
       "      <th>25%</th>\n",
       "      <td>0.082045</td>\n",
       "      <td>0.000000</td>\n",
       "      <td>5.190000</td>\n",
       "      <td>0.000000</td>\n",
       "      <td>0.449000</td>\n",
       "      <td>5.885500</td>\n",
       "      <td>45.025000</td>\n",
       "      <td>2.100175</td>\n",
       "      <td>4.000000</td>\n",
       "      <td>279.000000</td>\n",
       "      <td>17.400000</td>\n",
       "      <td>375.377500</td>\n",
       "      <td>6.950000</td>\n",
       "      <td>17.025000</td>\n",
       "    </tr>\n",
       "    <tr>\n",
       "      <th>50%</th>\n",
       "      <td>0.256510</td>\n",
       "      <td>0.000000</td>\n",
       "      <td>9.690000</td>\n",
       "      <td>0.000000</td>\n",
       "      <td>0.538000</td>\n",
       "      <td>6.208500</td>\n",
       "      <td>77.500000</td>\n",
       "      <td>3.207450</td>\n",
       "      <td>5.000000</td>\n",
       "      <td>330.000000</td>\n",
       "      <td>19.050000</td>\n",
       "      <td>391.440000</td>\n",
       "      <td>11.360000</td>\n",
       "      <td>21.200000</td>\n",
       "    </tr>\n",
       "    <tr>\n",
       "      <th>75%</th>\n",
       "      <td>3.677083</td>\n",
       "      <td>12.500000</td>\n",
       "      <td>18.100000</td>\n",
       "      <td>0.000000</td>\n",
       "      <td>0.624000</td>\n",
       "      <td>6.623500</td>\n",
       "      <td>94.075000</td>\n",
       "      <td>5.188425</td>\n",
       "      <td>24.000000</td>\n",
       "      <td>666.000000</td>\n",
       "      <td>20.200000</td>\n",
       "      <td>396.225000</td>\n",
       "      <td>16.955000</td>\n",
       "      <td>25.000000</td>\n",
       "    </tr>\n",
       "    <tr>\n",
       "      <th>max</th>\n",
       "      <td>88.976200</td>\n",
       "      <td>100.000000</td>\n",
       "      <td>27.740000</td>\n",
       "      <td>1.000000</td>\n",
       "      <td>0.871000</td>\n",
       "      <td>8.780000</td>\n",
       "      <td>100.000000</td>\n",
       "      <td>12.126500</td>\n",
       "      <td>24.000000</td>\n",
       "      <td>711.000000</td>\n",
       "      <td>22.000000</td>\n",
       "      <td>396.900000</td>\n",
       "      <td>37.970000</td>\n",
       "      <td>50.000000</td>\n",
       "    </tr>\n",
       "  </tbody>\n",
       "</table>\n",
       "</div>"
      ],
      "text/plain": [
       "             CRIM          ZN       INDUS        CHAS         NOX          RM  \\\n",
       "count  506.000000  506.000000  506.000000  506.000000  506.000000  506.000000   \n",
       "mean     3.613524   11.363636   11.136779    0.069170    0.554695    6.284634   \n",
       "std      8.601545   23.322453    6.860353    0.253994    0.115878    0.702617   \n",
       "min      0.006320    0.000000    0.460000    0.000000    0.385000    3.561000   \n",
       "25%      0.082045    0.000000    5.190000    0.000000    0.449000    5.885500   \n",
       "50%      0.256510    0.000000    9.690000    0.000000    0.538000    6.208500   \n",
       "75%      3.677083   12.500000   18.100000    0.000000    0.624000    6.623500   \n",
       "max     88.976200  100.000000   27.740000    1.000000    0.871000    8.780000   \n",
       "\n",
       "              AGE         DIS         RAD         TAX     PTRATIO           B  \\\n",
       "count  506.000000  506.000000  506.000000  506.000000  506.000000  506.000000   \n",
       "mean    68.574901    3.795043    9.549407  408.237154   18.455534  356.674032   \n",
       "std     28.148861    2.105710    8.707259  168.537116    2.164946   91.294864   \n",
       "min      2.900000    1.129600    1.000000  187.000000   12.600000    0.320000   \n",
       "25%     45.025000    2.100175    4.000000  279.000000   17.400000  375.377500   \n",
       "50%     77.500000    3.207450    5.000000  330.000000   19.050000  391.440000   \n",
       "75%     94.075000    5.188425   24.000000  666.000000   20.200000  396.225000   \n",
       "max    100.000000   12.126500   24.000000  711.000000   22.000000  396.900000   \n",
       "\n",
       "            LSTAT  home_price  \n",
       "count  506.000000  506.000000  \n",
       "mean    12.653063   22.532806  \n",
       "std      7.141062    9.197104  \n",
       "min      1.730000    5.000000  \n",
       "25%      6.950000   17.025000  \n",
       "50%     11.360000   21.200000  \n",
       "75%     16.955000   25.000000  \n",
       "max     37.970000   50.000000  "
      ]
     },
     "execution_count": 6,
     "metadata": {},
     "output_type": "execute_result"
    }
   ],
   "source": [
    "boston_df.describe()"
   ]
  },
  {
   "cell_type": "code",
   "execution_count": 7,
   "metadata": {},
   "outputs": [
    {
     "data": {
      "text/plain": [
       "CRIM          504\n",
       "ZN             26\n",
       "INDUS          76\n",
       "CHAS            2\n",
       "NOX            81\n",
       "RM            446\n",
       "AGE           356\n",
       "DIS           412\n",
       "RAD             9\n",
       "TAX            66\n",
       "PTRATIO        46\n",
       "B             357\n",
       "LSTAT         455\n",
       "home_price    229\n",
       "dtype: int64"
      ]
     },
     "execution_count": 7,
     "metadata": {},
     "output_type": "execute_result"
    }
   ],
   "source": [
    "boston_df.nunique()"
   ]
  },
  {
   "cell_type": "markdown",
   "metadata": {},
   "source": [
    "### distribution"
   ]
  },
  {
   "cell_type": "code",
   "execution_count": 7,
   "metadata": {},
   "outputs": [
    {
     "data": {
      "text/plain": [
       "<AxesSubplot:xlabel='home_price', ylabel='Count'>"
      ]
     },
     "execution_count": 7,
     "metadata": {},
     "output_type": "execute_result"
    },
    {
     "data": {
      "image/png": "[encoded data removed]",
      "text/plain": [
       "<Figure size 432x288 with 1 Axes>"
      ]
     },
     "metadata": {
      "needs_background": "light"
     },
     "output_type": "display_data"
    }
   ],
   "source": [
    "sns.histplot(boston_df[\"home_price\"], kde=True)"
   ]
  },
  {
   "cell_type": "markdown",
   "metadata": {},
   "source": [
    "### target(continues) vs feature(countinues) ----> scatter"
   ]
  },
  {
   "cell_type": "code",
   "execution_count": 9,
   "metadata": {},
   "outputs": [],
   "source": [
    "def scatter_plot(data_frame, feature, target):\n",
    "        plt.figure()\n",
    "        plt.scatter(x=data_frame[feature], y=data_frame[target])\n",
    "        plt.xlabel(feature)\n",
    "        plt.ylabel(target)\n",
    "        plt.show()\n",
    "        print(f\"{feature} mean: \", data_frame[feature].mean())\n",
    "        print(f\"{feature} std mean: \", data_frame[feature].std())\n",
    "        print(f\"{feature} median: \", data_frame[feature].median())                "
   ]
  },
  {
   "cell_type": "code",
   "execution_count": 10,
   "metadata": {},
   "outputs": [
    {
     "data": {
      "image/png": "[encoded data removed]",
      "text/plain": [
       "<Figure size 432x288 with 1 Axes>"
      ]
     },
     "metadata": {
      "needs_background": "light"
     },
     "output_type": "display_data"
    },
    {
     "name": "stdout",
     "output_type": "stream",
     "text": [
      "CRIM mean:  3.613523557312254\n",
      "CRIM std mean:  8.60154510533249\n",
      "CRIM median:  0.25651\n"
     ]
    },
    {
     "data": {
      "image/png": "[encoded data removed]",
      "text/plain": [
       "<Figure size 432x288 with 1 Axes>"
      ]
     },
     "metadata": {
      "needs_background": "light"
     },
     "output_type": "display_data"
    },
    {
     "name": "stdout",
     "output_type": "stream",
     "text": [
      "ZN mean:  11.363636363636363\n",
      "ZN std mean:  23.32245299451514\n",
      "ZN median:  0.0\n"
     ]
    },
    {
     "data": {
      "image/png": "[encoded data removed]",
      "text/plain": [
       "<Figure size 432x288 with 1 Axes>"
      ]
     },
     "metadata": {
      "needs_background": "light"
     },
     "output_type": "display_data"
    },
    {
     "name": "stdout",
     "output_type": "stream",
     "text": [
      "INDUS mean:  11.13677865612648\n",
      "INDUS std mean:  6.860352940897585\n",
      "INDUS median:  9.69\n"
     ]
    },
    {
     "data": {
      "image/png": "[encoded data removed]",
      "text/plain": [
       "<Figure size 432x288 with 1 Axes>"
      ]
     },
     "metadata": {
      "needs_background": "light"
     },
     "output_type": "display_data"
    },
    {
     "name": "stdout",
     "output_type": "stream",
     "text": [
      "NOX mean:  0.5546950592885376\n",
      "NOX std mean:  0.11587767566755595\n",
      "NOX median:  0.538\n"
     ]
    },
    {
     "data": {
      "image/png": "[encoded data removed]",
      "text/plain": [
       "<Figure size 432x288 with 1 Axes>"
      ]
     },
     "metadata": {
      "needs_background": "light"
     },
     "output_type": "display_data"
    },
    {
     "name": "stdout",
     "output_type": "stream",
     "text": [
      "RM mean:  6.284634387351779\n",
      "RM std mean:  0.7026171434153233\n",
      "RM median:  6.2085\n"
     ]
    },
    {
     "data": {
      "image/png": "[encoded data removed]",
      "text/plain": [
       "<Figure size 432x288 with 1 Axes>"
      ]
     },
     "metadata": {
      "needs_background": "light"
     },
     "output_type": "display_data"
    },
    {
     "name": "stdout",
     "output_type": "stream",
     "text": [
      "AGE mean:  68.57490118577076\n",
      "AGE std mean:  28.148861406903617\n",
      "AGE median:  77.5\n"
     ]
    },
    {
     "data": {
      "image/png": "[encoded data removed]",
      "text/plain": [
       "<Figure size 432x288 with 1 Axes>"
      ]
     },
     "metadata": {
      "needs_background": "light"
     },
     "output_type": "display_data"
    },
    {
     "name": "stdout",
     "output_type": "stream",
     "text": [
      "DIS mean:  3.795042687747036\n",
      "DIS std mean:  2.105710126627611\n",
      "DIS median:  3.2074499999999997\n"
     ]
    },
    {
     "data": {
      "image/png": "[encoded data removed]",
      "text/plain": [
       "<Figure size 432x288 with 1 Axes>"
      ]
     },
     "metadata": {
      "needs_background": "light"
     },
     "output_type": "display_data"
    },
    {
     "name": "stdout",
     "output_type": "stream",
     "text": [
      "TAX mean:  408.2371541501976\n",
      "TAX std mean:  168.53711605495903\n",
      "TAX median:  330.0\n"
     ]
    },
    {
     "data": {
      "image/png": "[encoded data removed]",
      "text/plain": [
       "<Figure size 432x288 with 1 Axes>"
      ]
     },
     "metadata": {
      "needs_background": "light"
     },
     "output_type": "display_data"
    },
    {
     "name": "stdout",
     "output_type": "stream",
     "text": [
      "PTRATIO mean:  18.455533596837945\n",
      "PTRATIO std mean:  2.1649455237144406\n",
      "PTRATIO median:  19.05\n"
     ]
    },
    {
     "data": {
      "image/png": "[encoded data removed]",
      "text/plain": [
       "<Figure size 432x288 with 1 Axes>"
      ]
     },
     "metadata": {
      "needs_background": "light"
     },
     "output_type": "display_data"
    },
    {
     "name": "stdout",
     "output_type": "stream",
     "text": [
      "B mean:  356.6740316205534\n",
      "B std mean:  91.29486438415783\n",
      "B median:  391.44\n"
     ]
    },
    {
     "data": {
      "image/png": "[encoded data removed]",
      "text/plain": [
       "<Figure size 432x288 with 1 Axes>"
      ]
     },
     "metadata": {
      "needs_background": "light"
     },
     "output_type": "display_data"
    },
    {
     "name": "stdout",
     "output_type": "stream",
     "text": [
      "LSTAT mean:  12.653063241106722\n",
      "LSTAT std mean:  7.141061511348571\n",
      "LSTAT median:  11.36\n"
     ]
    }
   ],
   "source": [
    "feature_ = boston_dataset.feature_names\n",
    "for elm in feature_:\n",
    "    if elm != \"CHAS\" and elm != \"RAD\":\n",
    "        scatter_plot(boston_df, elm, \"home_price\")"
   ]
  },
  {
   "cell_type": "code",
   "execution_count": 8,
   "metadata": {},
   "outputs": [
    {
     "data": {
      "text/plain": [
       "<AxesSubplot:>"
      ]
     },
     "execution_count": 8,
     "metadata": {},
     "output_type": "execute_result"
    },
    {
     "data": {
      "image/png": "[encoded data removed]",
      "text/plain": [
       "<Figure size 432x288 with 2 Axes>"
      ]
     },
     "metadata": {
      "needs_background": "light"
     },
     "output_type": "display_data"
    }
   ],
   "source": [
    "corr_date = boston_df.corr()\n",
    "sns.heatmap(corr_date)"
   ]
  },
  {
   "cell_type": "markdown",
   "metadata": {},
   "source": [
    "### Categorical feature ---> boxplot"
   ]
  },
  {
   "cell_type": "code",
   "execution_count": 9,
   "metadata": {},
   "outputs": [
    {
     "data": {
      "text/plain": [
       "<AxesSubplot:xlabel='CHAS', ylabel='home_price'>"
      ]
     },
     "execution_count": 9,
     "metadata": {},
     "output_type": "execute_result"
    },
    {
     "data": {
      "image/png": "[encoded data removed]",
      "text/plain": [
       "<Figure size 432x288 with 1 Axes>"
      ]
     },
     "metadata": {
      "needs_background": "light"
     },
     "output_type": "display_data"
    }
   ],
   "source": [
    "sns.boxplot(x=boston_df[\"CHAS\"], y=boston_df[\"home_price\"])"
   ]
  },
  {
   "cell_type": "code",
   "execution_count": 10,
   "metadata": {
    "scrolled": true
   },
   "outputs": [
    {
     "data": {
      "text/plain": [
       "<AxesSubplot:xlabel='RAD', ylabel='home_price'>"
      ]
     },
     "execution_count": 10,
     "metadata": {},
     "output_type": "execute_result"
    },
    {
     "data": {
      "image/png": "[encoded data removed]",
      "text/plain": [
       "<Figure size 432x288 with 1 Axes>"
      ]
     },
     "metadata": {
      "needs_background": "light"
     },
     "output_type": "display_data"
    }
   ],
   "source": [
    "sns.boxplot(x=boston_df[\"RAD\"], y=boston_df[\"home_price\"])"
   ]
  },
  {
   "cell_type": "markdown",
   "metadata": {},
   "source": [
    "## scaling features to a range"
   ]
  },
  {
   "cell_type": "code",
   "execution_count": 12,
   "metadata": {},
   "outputs": [
    {
     "data": {
      "text/plain": [
       "(506, 13)"
      ]
     },
     "execution_count": 12,
     "metadata": {},
     "output_type": "execute_result"
    }
   ],
   "source": [
    "X = boston_df.iloc[:, :-1].values\n",
    "y = boston_df.iloc[:,-1].values\n",
    "X.shape"
   ]
  },
  {
   "cell_type": "code",
   "execution_count": 13,
   "metadata": {},
   "outputs": [
    {
     "data": {
      "text/plain": [
       "(354, 13)"
      ]
     },
     "execution_count": 13,
     "metadata": {},
     "output_type": "execute_result"
    }
   ],
   "source": [
    "from sklearn.model_selection import train_test_split\n",
    "X_train, X_test, y_train, y_test = train_test_split(X, y , test_size=0.3 , random_state=85, )\n",
    "X_train.shape"
   ]
  },
  {
   "cell_type": "code",
   "execution_count": 14,
   "metadata": {},
   "outputs": [
    {
     "data": {
      "text/html": [
       "<div>\n",
       "<style scoped>\n",
       "    .dataframe tbody tr th:only-of-type {\n",
       "        vertical-align: middle;\n",
       "    }\n",
       "\n",
       "    .dataframe tbody tr th {\n",
       "        vertical-align: top;\n",
       "    }\n",
       "\n",
       "    .dataframe thead th {\n",
       "        text-align: right;\n",
       "    }\n",
       "</style>\n",
       "<table border=\"1\" class=\"dataframe\">\n",
       "  <thead>\n",
       "    <tr style=\"text-align: right;\">\n",
       "      <th></th>\n",
       "      <th>CRIM</th>\n",
       "      <th>ZN</th>\n",
       "      <th>INDUS</th>\n",
       "      <th>CHAS</th>\n",
       "      <th>NOX</th>\n",
       "      <th>RM</th>\n",
       "      <th>AGE</th>\n",
       "      <th>DIS</th>\n",
       "      <th>RAD</th>\n",
       "      <th>TAX</th>\n",
       "      <th>PTRATIO</th>\n",
       "      <th>B</th>\n",
       "      <th>LSTAT</th>\n",
       "    </tr>\n",
       "  </thead>\n",
       "  <tbody>\n",
       "    <tr>\n",
       "      <th>0</th>\n",
       "      <td>4.737528</td>\n",
       "      <td>-0.469490</td>\n",
       "      <td>0.985165</td>\n",
       "      <td>-0.275659</td>\n",
       "      <td>1.143503</td>\n",
       "      <td>-2.407980</td>\n",
       "      <td>1.091386</td>\n",
       "      <td>-1.007321</td>\n",
       "      <td>1.608422</td>\n",
       "      <td>1.499860</td>\n",
       "      <td>0.785082</td>\n",
       "      <td>-3.024398</td>\n",
       "      <td>3.416505</td>\n",
       "    </tr>\n",
       "    <tr>\n",
       "      <th>1</th>\n",
       "      <td>-0.411305</td>\n",
       "      <td>0.812843</td>\n",
       "      <td>0.538322</td>\n",
       "      <td>-0.275659</td>\n",
       "      <td>-0.818581</td>\n",
       "      <td>0.233377</td>\n",
       "      <td>-0.573454</td>\n",
       "      <td>-0.015356</td>\n",
       "      <td>-0.655970</td>\n",
       "      <td>-0.836270</td>\n",
       "      <td>-0.138544</td>\n",
       "      <td>0.418409</td>\n",
       "      <td>-0.621898</td>\n",
       "    </tr>\n",
       "    <tr>\n",
       "      <th>2</th>\n",
       "      <td>-0.403570</td>\n",
       "      <td>-0.469490</td>\n",
       "      <td>0.370390</td>\n",
       "      <td>3.627671</td>\n",
       "      <td>-0.081728</td>\n",
       "      <td>-0.441041</td>\n",
       "      <td>0.868929</td>\n",
       "      <td>-0.399059</td>\n",
       "      <td>-0.542751</td>\n",
       "      <td>-0.800874</td>\n",
       "      <td>-0.969807</td>\n",
       "      <td>0.439622</td>\n",
       "      <td>0.745722</td>\n",
       "    </tr>\n",
       "    <tr>\n",
       "      <th>3</th>\n",
       "      <td>-0.408755</td>\n",
       "      <td>2.736343</td>\n",
       "      <td>-1.330830</td>\n",
       "      <td>-0.275659</td>\n",
       "      <td>-1.366936</td>\n",
       "      <td>0.100142</td>\n",
       "      <td>-1.775440</td>\n",
       "      <td>2.040958</td>\n",
       "      <td>-0.542751</td>\n",
       "      <td>-0.317130</td>\n",
       "      <td>-1.708707</td>\n",
       "      <td>0.117946</td>\n",
       "      <td>-1.068896</td>\n",
       "    </tr>\n",
       "    <tr>\n",
       "      <th>4</th>\n",
       "      <td>-0.148080</td>\n",
       "      <td>-0.469490</td>\n",
       "      <td>0.985165</td>\n",
       "      <td>-0.275659</td>\n",
       "      <td>0.201018</td>\n",
       "      <td>-0.550926</td>\n",
       "      <td>-0.993253</td>\n",
       "      <td>0.013350</td>\n",
       "      <td>1.608422</td>\n",
       "      <td>1.499860</td>\n",
       "      <td>0.785082</td>\n",
       "      <td>0.145894</td>\n",
       "      <td>0.103950</td>\n",
       "    </tr>\n",
       "    <tr>\n",
       "      <th>...</th>\n",
       "      <td>...</td>\n",
       "      <td>...</td>\n",
       "      <td>...</td>\n",
       "      <td>...</td>\n",
       "      <td>...</td>\n",
       "      <td>...</td>\n",
       "      <td>...</td>\n",
       "      <td>...</td>\n",
       "      <td>...</td>\n",
       "      <td>...</td>\n",
       "      <td>...</td>\n",
       "      <td>...</td>\n",
       "      <td>...</td>\n",
       "    </tr>\n",
       "    <tr>\n",
       "      <th>349</th>\n",
       "      <td>-0.411154</td>\n",
       "      <td>0.492260</td>\n",
       "      <td>-0.834336</td>\n",
       "      <td>-0.275659</td>\n",
       "      <td>-1.032782</td>\n",
       "      <td>-0.215777</td>\n",
       "      <td>-0.236181</td>\n",
       "      <td>1.540405</td>\n",
       "      <td>-0.655970</td>\n",
       "      <td>-0.995552</td>\n",
       "      <td>-0.785082</td>\n",
       "      <td>0.406736</td>\n",
       "      <td>-0.443939</td>\n",
       "    </tr>\n",
       "    <tr>\n",
       "      <th>350</th>\n",
       "      <td>-0.411521</td>\n",
       "      <td>3.194319</td>\n",
       "      <td>-1.435970</td>\n",
       "      <td>-0.275659</td>\n",
       "      <td>-1.332664</td>\n",
       "      <td>1.394036</td>\n",
       "      <td>-1.273118</td>\n",
       "      <td>1.784629</td>\n",
       "      <td>-0.882409</td>\n",
       "      <td>-0.488210</td>\n",
       "      <td>-2.724695</td>\n",
       "      <td>0.439622</td>\n",
       "      <td>-1.193608</td>\n",
       "    </tr>\n",
       "    <tr>\n",
       "      <th>351</th>\n",
       "      <td>0.448259</td>\n",
       "      <td>-0.469490</td>\n",
       "      <td>0.985165</td>\n",
       "      <td>-0.275659</td>\n",
       "      <td>1.143503</td>\n",
       "      <td>-0.721247</td>\n",
       "      <td>1.051918</td>\n",
       "      <td>-1.019575</td>\n",
       "      <td>1.608422</td>\n",
       "      <td>1.499860</td>\n",
       "      <td>0.785082</td>\n",
       "      <td>0.396971</td>\n",
       "      <td>1.025972</td>\n",
       "    </tr>\n",
       "    <tr>\n",
       "      <th>352</th>\n",
       "      <td>-0.272577</td>\n",
       "      <td>-0.469490</td>\n",
       "      <td>1.201286</td>\n",
       "      <td>3.627671</td>\n",
       "      <td>0.389515</td>\n",
       "      <td>-0.030346</td>\n",
       "      <td>0.825873</td>\n",
       "      <td>-0.938051</td>\n",
       "      <td>-0.542751</td>\n",
       "      <td>-0.051661</td>\n",
       "      <td>-1.754888</td>\n",
       "      <td>-0.211137</td>\n",
       "      <td>-0.994630</td>\n",
       "    </tr>\n",
       "    <tr>\n",
       "      <th>353</th>\n",
       "      <td>-0.001667</td>\n",
       "      <td>-0.469490</td>\n",
       "      <td>0.985165</td>\n",
       "      <td>-0.275659</td>\n",
       "      <td>1.803243</td>\n",
       "      <td>-1.250068</td>\n",
       "      <td>0.955041</td>\n",
       "      <td>-0.787258</td>\n",
       "      <td>1.608422</td>\n",
       "      <td>1.499860</td>\n",
       "      <td>0.785082</td>\n",
       "      <td>0.258806</td>\n",
       "      <td>-0.337444</td>\n",
       "    </tr>\n",
       "  </tbody>\n",
       "</table>\n",
       "<p>354 rows × 13 columns</p>\n",
       "</div>"
      ],
      "text/plain": [
       "         CRIM        ZN     INDUS      CHAS       NOX        RM       AGE  \\\n",
       "0    4.737528 -0.469490  0.985165 -0.275659  1.143503 -2.407980  1.091386   \n",
       "1   -0.411305  0.812843  0.538322 -0.275659 -0.818581  0.233377 -0.573454   \n",
       "2   -0.403570 -0.469490  0.370390  3.627671 -0.081728 -0.441041  0.868929   \n",
       "3   -0.408755  2.736343 -1.330830 -0.275659 -1.366936  0.100142 -1.775440   \n",
       "4   -0.148080 -0.469490  0.985165 -0.275659  0.201018 -0.550926 -0.993253   \n",
       "..        ...       ...       ...       ...       ...       ...       ...   \n",
       "349 -0.411154  0.492260 -0.834336 -0.275659 -1.032782 -0.215777 -0.236181   \n",
       "350 -0.411521  3.194319 -1.435970 -0.275659 -1.332664  1.394036 -1.273118   \n",
       "351  0.448259 -0.469490  0.985165 -0.275659  1.143503 -0.721247  1.051918   \n",
       "352 -0.272577 -0.469490  1.201286  3.627671  0.389515 -0.030346  0.825873   \n",
       "353 -0.001667 -0.469490  0.985165 -0.275659  1.803243 -1.250068  0.955041   \n",
       "\n",
       "          DIS       RAD       TAX   PTRATIO         B     LSTAT  \n",
       "0   -1.007321  1.608422  1.499860  0.785082 -3.024398  3.416505  \n",
       "1   -0.015356 -0.655970 -0.836270 -0.138544  0.418409 -0.621898  \n",
       "2   -0.399059 -0.542751 -0.800874 -0.969807  0.439622  0.745722  \n",
       "3    2.040958 -0.542751 -0.317130 -1.708707  0.117946 -1.068896  \n",
       "4    0.013350  1.608422  1.499860  0.785082  0.145894  0.103950  \n",
       "..        ...       ...       ...       ...       ...       ...  \n",
       "349  1.540405 -0.655970 -0.995552 -0.785082  0.406736 -0.443939  \n",
       "350  1.784629 -0.882409 -0.488210 -2.724695  0.439622 -1.193608  \n",
       "351 -1.019575  1.608422  1.499860  0.785082  0.396971  1.025972  \n",
       "352 -0.938051 -0.542751 -0.051661 -1.754888 -0.211137 -0.994630  \n",
       "353 -0.787258  1.608422  1.499860  0.785082  0.258806 -0.337444  \n",
       "\n",
       "[354 rows x 13 columns]"
      ]
     },
     "execution_count": 14,
     "metadata": {},
     "output_type": "execute_result"
    }
   ],
   "source": [
    "# ..... It's better to use pipeline ....\n",
    "from sklearn import preprocessing\n",
    "# min_max_scaler = preprocessing.MinMaxScaler()\n",
    "standard_scaler = preprocessing.StandardScaler()\n",
    "standard_scaler.fit(X_train, y_train)\n",
    "X_train_scaled = standard_scaler.transform(X_train)\n",
    "X_test_scaled = standard_scaler.transform(X_test)\n",
    "X_train_scaled_df = pd.DataFrame(X_train_scaled, columns=boston_dataset.feature_names)\n",
    "X_train_scaled_df"
   ]
  },
  {
   "cell_type": "code",
   "execution_count": 17,
   "metadata": {},
   "outputs": [
    {
     "data": {
      "text/html": [
       "<div>\n",
       "<style scoped>\n",
       "    .dataframe tbody tr th:only-of-type {\n",
       "        vertical-align: middle;\n",
       "    }\n",
       "\n",
       "    .dataframe tbody tr th {\n",
       "        vertical-align: top;\n",
       "    }\n",
       "\n",
       "    .dataframe thead th {\n",
       "        text-align: right;\n",
       "    }\n",
       "</style>\n",
       "<table border=\"1\" class=\"dataframe\">\n",
       "  <thead>\n",
       "    <tr style=\"text-align: right;\">\n",
       "      <th></th>\n",
       "      <th>CRIM</th>\n",
       "      <th>ZN</th>\n",
       "      <th>INDUS</th>\n",
       "      <th>CHAS</th>\n",
       "      <th>NOX</th>\n",
       "      <th>RM</th>\n",
       "      <th>AGE</th>\n",
       "      <th>DIS</th>\n",
       "      <th>RAD</th>\n",
       "      <th>TAX</th>\n",
       "      <th>PTRATIO</th>\n",
       "      <th>B</th>\n",
       "      <th>LSTAT</th>\n",
       "      <th>price</th>\n",
       "    </tr>\n",
       "  </thead>\n",
       "  <tbody>\n",
       "    <tr>\n",
       "      <th>0</th>\n",
       "      <td>4.737528</td>\n",
       "      <td>-0.469490</td>\n",
       "      <td>0.985165</td>\n",
       "      <td>-0.275659</td>\n",
       "      <td>1.143503</td>\n",
       "      <td>-2.407980</td>\n",
       "      <td>1.091386</td>\n",
       "      <td>-1.007321</td>\n",
       "      <td>1.608422</td>\n",
       "      <td>1.499860</td>\n",
       "      <td>0.785082</td>\n",
       "      <td>-3.024398</td>\n",
       "      <td>3.416505</td>\n",
       "      <td>7.0</td>\n",
       "    </tr>\n",
       "    <tr>\n",
       "      <th>1</th>\n",
       "      <td>-0.411305</td>\n",
       "      <td>0.812843</td>\n",
       "      <td>0.538322</td>\n",
       "      <td>-0.275659</td>\n",
       "      <td>-0.818581</td>\n",
       "      <td>0.233377</td>\n",
       "      <td>-0.573454</td>\n",
       "      <td>-0.015356</td>\n",
       "      <td>-0.655970</td>\n",
       "      <td>-0.836270</td>\n",
       "      <td>-0.138544</td>\n",
       "      <td>0.418409</td>\n",
       "      <td>-0.621898</td>\n",
       "      <td>22.9</td>\n",
       "    </tr>\n",
       "    <tr>\n",
       "      <th>2</th>\n",
       "      <td>-0.403570</td>\n",
       "      <td>-0.469490</td>\n",
       "      <td>0.370390</td>\n",
       "      <td>3.627671</td>\n",
       "      <td>-0.081728</td>\n",
       "      <td>-0.441041</td>\n",
       "      <td>0.868929</td>\n",
       "      <td>-0.399059</td>\n",
       "      <td>-0.542751</td>\n",
       "      <td>-0.800874</td>\n",
       "      <td>-0.969807</td>\n",
       "      <td>0.439622</td>\n",
       "      <td>0.745722</td>\n",
       "      <td>21.5</td>\n",
       "    </tr>\n",
       "    <tr>\n",
       "      <th>3</th>\n",
       "      <td>-0.408755</td>\n",
       "      <td>2.736343</td>\n",
       "      <td>-1.330830</td>\n",
       "      <td>-0.275659</td>\n",
       "      <td>-1.366936</td>\n",
       "      <td>0.100142</td>\n",
       "      <td>-1.775440</td>\n",
       "      <td>2.040958</td>\n",
       "      <td>-0.542751</td>\n",
       "      <td>-0.317130</td>\n",
       "      <td>-1.708707</td>\n",
       "      <td>0.117946</td>\n",
       "      <td>-1.068896</td>\n",
       "      <td>22.5</td>\n",
       "    </tr>\n",
       "    <tr>\n",
       "      <th>4</th>\n",
       "      <td>-0.148080</td>\n",
       "      <td>-0.469490</td>\n",
       "      <td>0.985165</td>\n",
       "      <td>-0.275659</td>\n",
       "      <td>0.201018</td>\n",
       "      <td>-0.550926</td>\n",
       "      <td>-0.993253</td>\n",
       "      <td>0.013350</td>\n",
       "      <td>1.608422</td>\n",
       "      <td>1.499860</td>\n",
       "      <td>0.785082</td>\n",
       "      <td>0.145894</td>\n",
       "      <td>0.103950</td>\n",
       "      <td>20.6</td>\n",
       "    </tr>\n",
       "    <tr>\n",
       "      <th>...</th>\n",
       "      <td>...</td>\n",
       "      <td>...</td>\n",
       "      <td>...</td>\n",
       "      <td>...</td>\n",
       "      <td>...</td>\n",
       "      <td>...</td>\n",
       "      <td>...</td>\n",
       "      <td>...</td>\n",
       "      <td>...</td>\n",
       "      <td>...</td>\n",
       "      <td>...</td>\n",
       "      <td>...</td>\n",
       "      <td>...</td>\n",
       "      <td>...</td>\n",
       "    </tr>\n",
       "    <tr>\n",
       "      <th>349</th>\n",
       "      <td>-0.411154</td>\n",
       "      <td>0.492260</td>\n",
       "      <td>-0.834336</td>\n",
       "      <td>-0.275659</td>\n",
       "      <td>-1.032782</td>\n",
       "      <td>-0.215777</td>\n",
       "      <td>-0.236181</td>\n",
       "      <td>1.540405</td>\n",
       "      <td>-0.655970</td>\n",
       "      <td>-0.995552</td>\n",
       "      <td>-0.785082</td>\n",
       "      <td>0.406736</td>\n",
       "      <td>-0.443939</td>\n",
       "      <td>20.5</td>\n",
       "    </tr>\n",
       "    <tr>\n",
       "      <th>350</th>\n",
       "      <td>-0.411521</td>\n",
       "      <td>3.194319</td>\n",
       "      <td>-1.435970</td>\n",
       "      <td>-0.275659</td>\n",
       "      <td>-1.332664</td>\n",
       "      <td>1.394036</td>\n",
       "      <td>-1.273118</td>\n",
       "      <td>1.784629</td>\n",
       "      <td>-0.882409</td>\n",
       "      <td>-0.488210</td>\n",
       "      <td>-2.724695</td>\n",
       "      <td>0.439622</td>\n",
       "      <td>-1.193608</td>\n",
       "      <td>33.3</td>\n",
       "    </tr>\n",
       "    <tr>\n",
       "      <th>351</th>\n",
       "      <td>0.448259</td>\n",
       "      <td>-0.469490</td>\n",
       "      <td>0.985165</td>\n",
       "      <td>-0.275659</td>\n",
       "      <td>1.143503</td>\n",
       "      <td>-0.721247</td>\n",
       "      <td>1.051918</td>\n",
       "      <td>-1.019575</td>\n",
       "      <td>1.608422</td>\n",
       "      <td>1.499860</td>\n",
       "      <td>0.785082</td>\n",
       "      <td>0.396971</td>\n",
       "      <td>1.025972</td>\n",
       "      <td>8.5</td>\n",
       "    </tr>\n",
       "    <tr>\n",
       "      <th>352</th>\n",
       "      <td>-0.272577</td>\n",
       "      <td>-0.469490</td>\n",
       "      <td>1.201286</td>\n",
       "      <td>3.627671</td>\n",
       "      <td>0.389515</td>\n",
       "      <td>-0.030346</td>\n",
       "      <td>0.825873</td>\n",
       "      <td>-0.938051</td>\n",
       "      <td>-0.542751</td>\n",
       "      <td>-0.051661</td>\n",
       "      <td>-1.754888</td>\n",
       "      <td>-0.211137</td>\n",
       "      <td>-0.994630</td>\n",
       "      <td>27.0</td>\n",
       "    </tr>\n",
       "    <tr>\n",
       "      <th>353</th>\n",
       "      <td>-0.001667</td>\n",
       "      <td>-0.469490</td>\n",
       "      <td>0.985165</td>\n",
       "      <td>-0.275659</td>\n",
       "      <td>1.803243</td>\n",
       "      <td>-1.250068</td>\n",
       "      <td>0.955041</td>\n",
       "      <td>-0.787258</td>\n",
       "      <td>1.608422</td>\n",
       "      <td>1.499860</td>\n",
       "      <td>0.785082</td>\n",
       "      <td>0.258806</td>\n",
       "      <td>-0.337444</td>\n",
       "      <td>20.8</td>\n",
       "    </tr>\n",
       "  </tbody>\n",
       "</table>\n",
       "<p>354 rows × 14 columns</p>\n",
       "</div>"
      ],
      "text/plain": [
       "         CRIM        ZN     INDUS      CHAS       NOX        RM       AGE  \\\n",
       "0    4.737528 -0.469490  0.985165 -0.275659  1.143503 -2.407980  1.091386   \n",
       "1   -0.411305  0.812843  0.538322 -0.275659 -0.818581  0.233377 -0.573454   \n",
       "2   -0.403570 -0.469490  0.370390  3.627671 -0.081728 -0.441041  0.868929   \n",
       "3   -0.408755  2.736343 -1.330830 -0.275659 -1.366936  0.100142 -1.775440   \n",
       "4   -0.148080 -0.469490  0.985165 -0.275659  0.201018 -0.550926 -0.993253   \n",
       "..        ...       ...       ...       ...       ...       ...       ...   \n",
       "349 -0.411154  0.492260 -0.834336 -0.275659 -1.032782 -0.215777 -0.236181   \n",
       "350 -0.411521  3.194319 -1.435970 -0.275659 -1.332664  1.394036 -1.273118   \n",
       "351  0.448259 -0.469490  0.985165 -0.275659  1.143503 -0.721247  1.051918   \n",
       "352 -0.272577 -0.469490  1.201286  3.627671  0.389515 -0.030346  0.825873   \n",
       "353 -0.001667 -0.469490  0.985165 -0.275659  1.803243 -1.250068  0.955041   \n",
       "\n",
       "          DIS       RAD       TAX   PTRATIO         B     LSTAT  price  \n",
       "0   -1.007321  1.608422  1.499860  0.785082 -3.024398  3.416505    7.0  \n",
       "1   -0.015356 -0.655970 -0.836270 -0.138544  0.418409 -0.621898   22.9  \n",
       "2   -0.399059 -0.542751 -0.800874 -0.969807  0.439622  0.745722   21.5  \n",
       "3    2.040958 -0.542751 -0.317130 -1.708707  0.117946 -1.068896   22.5  \n",
       "4    0.013350  1.608422  1.499860  0.785082  0.145894  0.103950   20.6  \n",
       "..        ...       ...       ...       ...       ...       ...    ...  \n",
       "349  1.540405 -0.655970 -0.995552 -0.785082  0.406736 -0.443939   20.5  \n",
       "350  1.784629 -0.882409 -0.488210 -2.724695  0.439622 -1.193608   33.3  \n",
       "351 -1.019575  1.608422  1.499860  0.785082  0.396971  1.025972    8.5  \n",
       "352 -0.938051 -0.542751 -0.051661 -1.754888 -0.211137 -0.994630   27.0  \n",
       "353 -0.787258  1.608422  1.499860  0.785082  0.258806 -0.337444   20.8  \n",
       "\n",
       "[354 rows x 14 columns]"
      ]
     },
     "execution_count": 17,
     "metadata": {},
     "output_type": "execute_result"
    }
   ],
   "source": [
    "X_train_scaled_df['price'] = y_train\n",
    "X_train_scaled_df"
   ]
  },
  {
   "cell_type": "code",
   "execution_count": 21,
   "metadata": {},
   "outputs": [
    {
     "data": {
      "text/html": [
       "<div>\n",
       "<style scoped>\n",
       "    .dataframe tbody tr th:only-of-type {\n",
       "        vertical-align: middle;\n",
       "    }\n",
       "\n",
       "    .dataframe tbody tr th {\n",
       "        vertical-align: top;\n",
       "    }\n",
       "\n",
       "    .dataframe thead th {\n",
       "        text-align: right;\n",
       "    }\n",
       "</style>\n",
       "<table border=\"1\" class=\"dataframe\">\n",
       "  <thead>\n",
       "    <tr style=\"text-align: right;\">\n",
       "      <th></th>\n",
       "      <th>CRIM</th>\n",
       "      <th>ZN</th>\n",
       "      <th>INDUS</th>\n",
       "      <th>CHAS</th>\n",
       "      <th>NOX</th>\n",
       "      <th>RM</th>\n",
       "      <th>AGE</th>\n",
       "      <th>DIS</th>\n",
       "      <th>RAD</th>\n",
       "      <th>TAX</th>\n",
       "      <th>PTRATIO</th>\n",
       "      <th>B</th>\n",
       "      <th>LSTAT</th>\n",
       "      <th>price</th>\n",
       "    </tr>\n",
       "  </thead>\n",
       "  <tbody>\n",
       "    <tr>\n",
       "      <th>count</th>\n",
       "      <td>3.540000e+02</td>\n",
       "      <td>3.540000e+02</td>\n",
       "      <td>3.540000e+02</td>\n",
       "      <td>3.540000e+02</td>\n",
       "      <td>3.540000e+02</td>\n",
       "      <td>3.540000e+02</td>\n",
       "      <td>3.540000e+02</td>\n",
       "      <td>3.540000e+02</td>\n",
       "      <td>3.540000e+02</td>\n",
       "      <td>3.540000e+02</td>\n",
       "      <td>3.540000e+02</td>\n",
       "      <td>3.540000e+02</td>\n",
       "      <td>3.540000e+02</td>\n",
       "      <td>354.000000</td>\n",
       "    </tr>\n",
       "    <tr>\n",
       "      <th>mean</th>\n",
       "      <td>3.010774e-17</td>\n",
       "      <td>5.017957e-18</td>\n",
       "      <td>4.918853e-15</td>\n",
       "      <td>5.519753e-17</td>\n",
       "      <td>-1.319723e-15</td>\n",
       "      <td>1.915605e-15</td>\n",
       "      <td>1.630836e-15</td>\n",
       "      <td>1.249471e-15</td>\n",
       "      <td>-1.756285e-17</td>\n",
       "      <td>-1.354848e-16</td>\n",
       "      <td>2.280160e-14</td>\n",
       "      <td>4.057018e-15</td>\n",
       "      <td>-2.960595e-16</td>\n",
       "      <td>22.607345</td>\n",
       "    </tr>\n",
       "    <tr>\n",
       "      <th>std</th>\n",
       "      <td>1.001415e+00</td>\n",
       "      <td>1.001415e+00</td>\n",
       "      <td>1.001415e+00</td>\n",
       "      <td>1.001415e+00</td>\n",
       "      <td>1.001415e+00</td>\n",
       "      <td>1.001415e+00</td>\n",
       "      <td>1.001415e+00</td>\n",
       "      <td>1.001415e+00</td>\n",
       "      <td>1.001415e+00</td>\n",
       "      <td>1.001415e+00</td>\n",
       "      <td>1.001415e+00</td>\n",
       "      <td>1.001415e+00</td>\n",
       "      <td>1.001415e+00</td>\n",
       "      <td>9.351596</td>\n",
       "    </tr>\n",
       "    <tr>\n",
       "      <th>min</th>\n",
       "      <td>-4.153277e-01</td>\n",
       "      <td>-4.694903e-01</td>\n",
       "      <td>-1.590759e+00</td>\n",
       "      <td>-2.756589e-01</td>\n",
       "      <td>-1.495457e+00</td>\n",
       "      <td>-3.723851e+00</td>\n",
       "      <td>-2.281351e+00</td>\n",
       "      <td>-1.268492e+00</td>\n",
       "      <td>-9.956290e-01</td>\n",
       "      <td>-1.325914e+00</td>\n",
       "      <td>-2.724695e+00</td>\n",
       "      <td>-4.011536e+00</td>\n",
       "      <td>-1.522901e+00</td>\n",
       "      <td>5.000000</td>\n",
       "    </tr>\n",
       "    <tr>\n",
       "      <th>25%</th>\n",
       "      <td>-4.070419e-01</td>\n",
       "      <td>-4.694903e-01</td>\n",
       "      <td>-8.836207e-01</td>\n",
       "      <td>-2.756589e-01</td>\n",
       "      <td>-8.699889e-01</td>\n",
       "      <td>-5.327262e-01</td>\n",
       "      <td>-8.533198e-01</td>\n",
       "      <td>-8.100227e-01</td>\n",
       "      <td>-6.559701e-01</td>\n",
       "      <td>-7.831762e-01</td>\n",
       "      <td>-5.079940e-01</td>\n",
       "      <td>2.042577e-01</td>\n",
       "      <td>-7.953023e-01</td>\n",
       "      <td>16.525000</td>\n",
       "    </tr>\n",
       "    <tr>\n",
       "      <th>50%</th>\n",
       "      <td>-3.791308e-01</td>\n",
       "      <td>-4.694903e-01</td>\n",
       "      <td>-2.275924e-01</td>\n",
       "      <td>-2.756589e-01</td>\n",
       "      <td>-1.845447e-01</td>\n",
       "      <td>-9.696407e-02</td>\n",
       "      <td>3.701942e-01</td>\n",
       "      <td>-2.377910e-01</td>\n",
       "      <td>-5.427505e-01</td>\n",
       "      <td>-4.469150e-01</td>\n",
       "      <td>2.770876e-01</td>\n",
       "      <td>3.787326e-01</td>\n",
       "      <td>-1.636889e-01</td>\n",
       "      <td>21.000000</td>\n",
       "    </tr>\n",
       "    <tr>\n",
       "      <th>75%</th>\n",
       "      <td>5.611717e-02</td>\n",
       "      <td>-4.013760e-02</td>\n",
       "      <td>9.851655e-01</td>\n",
       "      <td>-2.756589e-01</td>\n",
       "      <td>6.122842e-01</td>\n",
       "      <td>4.682561e-01</td>\n",
       "      <td>9.003239e-01</td>\n",
       "      <td>6.146584e-01</td>\n",
       "      <td>1.608422e+00</td>\n",
       "      <td>1.499860e+00</td>\n",
       "      <td>7.850816e-01</td>\n",
       "      <td>4.325230e-01</td>\n",
       "      <td>6.241638e-01</td>\n",
       "      <td>26.475000</td>\n",
       "    </tr>\n",
       "    <tr>\n",
       "      <th>max</th>\n",
       "      <td>9.607653e+00</td>\n",
       "      <td>4.110272e+00</td>\n",
       "      <td>2.392870e+00</td>\n",
       "      <td>3.627671e+00</td>\n",
       "      <td>2.668617e+00</td>\n",
       "      <td>3.444762e+00</td>\n",
       "      <td>1.091386e+00</td>\n",
       "      <td>4.164861e+00</td>\n",
       "      <td>1.608422e+00</td>\n",
       "      <td>1.765329e+00</td>\n",
       "      <td>1.616345e+00</td>\n",
       "      <td>4.396221e-01</td>\n",
       "      <td>3.555228e+00</td>\n",
       "      <td>50.000000</td>\n",
       "    </tr>\n",
       "  </tbody>\n",
       "</table>\n",
       "</div>"
      ],
      "text/plain": [
       "               CRIM            ZN         INDUS          CHAS           NOX  \\\n",
       "count  3.540000e+02  3.540000e+02  3.540000e+02  3.540000e+02  3.540000e+02   \n",
       "mean   3.010774e-17  5.017957e-18  4.918853e-15  5.519753e-17 -1.319723e-15   \n",
       "std    1.001415e+00  1.001415e+00  1.001415e+00  1.001415e+00  1.001415e+00   \n",
       "min   -4.153277e-01 -4.694903e-01 -1.590759e+00 -2.756589e-01 -1.495457e+00   \n",
       "25%   -4.070419e-01 -4.694903e-01 -8.836207e-01 -2.756589e-01 -8.699889e-01   \n",
       "50%   -3.791308e-01 -4.694903e-01 -2.275924e-01 -2.756589e-01 -1.845447e-01   \n",
       "75%    5.611717e-02 -4.013760e-02  9.851655e-01 -2.756589e-01  6.122842e-01   \n",
       "max    9.607653e+00  4.110272e+00  2.392870e+00  3.627671e+00  2.668617e+00   \n",
       "\n",
       "                 RM           AGE           DIS           RAD           TAX  \\\n",
       "count  3.540000e+02  3.540000e+02  3.540000e+02  3.540000e+02  3.540000e+02   \n",
       "mean   1.915605e-15  1.630836e-15  1.249471e-15 -1.756285e-17 -1.354848e-16   \n",
       "std    1.001415e+00  1.001415e+00  1.001415e+00  1.001415e+00  1.001415e+00   \n",
       "min   -3.723851e+00 -2.281351e+00 -1.268492e+00 -9.956290e-01 -1.325914e+00   \n",
       "25%   -5.327262e-01 -8.533198e-01 -8.100227e-01 -6.559701e-01 -7.831762e-01   \n",
       "50%   -9.696407e-02  3.701942e-01 -2.377910e-01 -5.427505e-01 -4.469150e-01   \n",
       "75%    4.682561e-01  9.003239e-01  6.146584e-01  1.608422e+00  1.499860e+00   \n",
       "max    3.444762e+00  1.091386e+00  4.164861e+00  1.608422e+00  1.765329e+00   \n",
       "\n",
       "            PTRATIO             B         LSTAT       price  \n",
       "count  3.540000e+02  3.540000e+02  3.540000e+02  354.000000  \n",
       "mean   2.280160e-14  4.057018e-15 -2.960595e-16   22.607345  \n",
       "std    1.001415e+00  1.001415e+00  1.001415e+00    9.351596  \n",
       "min   -2.724695e+00 -4.011536e+00 -1.522901e+00    5.000000  \n",
       "25%   -5.079940e-01  2.042577e-01 -7.953023e-01   16.525000  \n",
       "50%    2.770876e-01  3.787326e-01 -1.636889e-01   21.000000  \n",
       "75%    7.850816e-01  4.325230e-01  6.241638e-01   26.475000  \n",
       "max    1.616345e+00  4.396221e-01  3.555228e+00   50.000000  "
      ]
     },
     "execution_count": 21,
     "metadata": {},
     "output_type": "execute_result"
    }
   ],
   "source": [
    "X_train_scaled_df.describe()"
   ]
  },
  {
   "cell_type": "code",
   "execution_count": 43,
   "metadata": {},
   "outputs": [],
   "source": [
    "#new_bosto_df = boston_df[boston_df['home_price']<10]\n",
    "\n",
    "#plt.scatter(y=new_bosto_df['price'], x=new_bosto_df['home_price'])"
   ]
  },
  {
   "cell_type": "code",
   "execution_count": 23,
   "metadata": {},
   "outputs": [
    {
     "data": {
      "text/html": [
       "<div>\n",
       "<style scoped>\n",
       "    .dataframe tbody tr th:only-of-type {\n",
       "        vertical-align: middle;\n",
       "    }\n",
       "\n",
       "    .dataframe tbody tr th {\n",
       "        vertical-align: top;\n",
       "    }\n",
       "\n",
       "    .dataframe thead th {\n",
       "        text-align: right;\n",
       "    }\n",
       "</style>\n",
       "<table border=\"1\" class=\"dataframe\">\n",
       "  <thead>\n",
       "    <tr style=\"text-align: right;\">\n",
       "      <th></th>\n",
       "      <th>CRIM</th>\n",
       "      <th>ZN</th>\n",
       "      <th>INDUS</th>\n",
       "      <th>CHAS</th>\n",
       "      <th>NOX</th>\n",
       "      <th>RM</th>\n",
       "      <th>AGE</th>\n",
       "      <th>DIS</th>\n",
       "      <th>RAD</th>\n",
       "      <th>TAX</th>\n",
       "      <th>PTRATIO</th>\n",
       "      <th>B</th>\n",
       "      <th>LSTAT</th>\n",
       "      <th>home_price</th>\n",
       "    </tr>\n",
       "  </thead>\n",
       "  <tbody>\n",
       "    <tr>\n",
       "      <th>count</th>\n",
       "      <td>506.000000</td>\n",
       "      <td>506.000000</td>\n",
       "      <td>506.000000</td>\n",
       "      <td>506.000000</td>\n",
       "      <td>506.000000</td>\n",
       "      <td>506.000000</td>\n",
       "      <td>506.000000</td>\n",
       "      <td>506.000000</td>\n",
       "      <td>506.000000</td>\n",
       "      <td>506.000000</td>\n",
       "      <td>506.000000</td>\n",
       "      <td>506.000000</td>\n",
       "      <td>506.000000</td>\n",
       "      <td>506.000000</td>\n",
       "    </tr>\n",
       "    <tr>\n",
       "      <th>mean</th>\n",
       "      <td>3.613524</td>\n",
       "      <td>11.363636</td>\n",
       "      <td>11.136779</td>\n",
       "      <td>0.069170</td>\n",
       "      <td>0.554695</td>\n",
       "      <td>6.284634</td>\n",
       "      <td>68.574901</td>\n",
       "      <td>3.795043</td>\n",
       "      <td>9.549407</td>\n",
       "      <td>408.237154</td>\n",
       "      <td>18.455534</td>\n",
       "      <td>356.674032</td>\n",
       "      <td>12.653063</td>\n",
       "      <td>22.532806</td>\n",
       "    </tr>\n",
       "    <tr>\n",
       "      <th>std</th>\n",
       "      <td>8.601545</td>\n",
       "      <td>23.322453</td>\n",
       "      <td>6.860353</td>\n",
       "      <td>0.253994</td>\n",
       "      <td>0.115878</td>\n",
       "      <td>0.702617</td>\n",
       "      <td>28.148861</td>\n",
       "      <td>2.105710</td>\n",
       "      <td>8.707259</td>\n",
       "      <td>168.537116</td>\n",
       "      <td>2.164946</td>\n",
       "      <td>91.294864</td>\n",
       "      <td>7.141062</td>\n",
       "      <td>9.197104</td>\n",
       "    </tr>\n",
       "    <tr>\n",
       "      <th>min</th>\n",
       "      <td>0.006320</td>\n",
       "      <td>0.000000</td>\n",
       "      <td>0.460000</td>\n",
       "      <td>0.000000</td>\n",
       "      <td>0.385000</td>\n",
       "      <td>3.561000</td>\n",
       "      <td>2.900000</td>\n",
       "      <td>1.129600</td>\n",
       "      <td>1.000000</td>\n",
       "      <td>187.000000</td>\n",
       "      <td>12.600000</td>\n",
       "      <td>0.320000</td>\n",
       "      <td>1.730000</td>\n",
       "      <td>5.000000</td>\n",
       "    </tr>\n",
       "    <tr>\n",
       "      <th>25%</th>\n",
       "      <td>0.082045</td>\n",
       "      <td>0.000000</td>\n",
       "      <td>5.190000</td>\n",
       "      <td>0.000000</td>\n",
       "      <td>0.449000</td>\n",
       "      <td>5.885500</td>\n",
       "      <td>45.025000</td>\n",
       "      <td>2.100175</td>\n",
       "      <td>4.000000</td>\n",
       "      <td>279.000000</td>\n",
       "      <td>17.400000</td>\n",
       "      <td>375.377500</td>\n",
       "      <td>6.950000</td>\n",
       "      <td>17.025000</td>\n",
       "    </tr>\n",
       "    <tr>\n",
       "      <th>50%</th>\n",
       "      <td>0.256510</td>\n",
       "      <td>0.000000</td>\n",
       "      <td>9.690000</td>\n",
       "      <td>0.000000</td>\n",
       "      <td>0.538000</td>\n",
       "      <td>6.208500</td>\n",
       "      <td>77.500000</td>\n",
       "      <td>3.207450</td>\n",
       "      <td>5.000000</td>\n",
       "      <td>330.000000</td>\n",
       "      <td>19.050000</td>\n",
       "      <td>391.440000</td>\n",
       "      <td>11.360000</td>\n",
       "      <td>21.200000</td>\n",
       "    </tr>\n",
       "    <tr>\n",
       "      <th>75%</th>\n",
       "      <td>3.677083</td>\n",
       "      <td>12.500000</td>\n",
       "      <td>18.100000</td>\n",
       "      <td>0.000000</td>\n",
       "      <td>0.624000</td>\n",
       "      <td>6.623500</td>\n",
       "      <td>94.075000</td>\n",
       "      <td>5.188425</td>\n",
       "      <td>24.000000</td>\n",
       "      <td>666.000000</td>\n",
       "      <td>20.200000</td>\n",
       "      <td>396.225000</td>\n",
       "      <td>16.955000</td>\n",
       "      <td>25.000000</td>\n",
       "    </tr>\n",
       "    <tr>\n",
       "      <th>max</th>\n",
       "      <td>88.976200</td>\n",
       "      <td>100.000000</td>\n",
       "      <td>27.740000</td>\n",
       "      <td>1.000000</td>\n",
       "      <td>0.871000</td>\n",
       "      <td>8.780000</td>\n",
       "      <td>100.000000</td>\n",
       "      <td>12.126500</td>\n",
       "      <td>24.000000</td>\n",
       "      <td>711.000000</td>\n",
       "      <td>22.000000</td>\n",
       "      <td>396.900000</td>\n",
       "      <td>37.970000</td>\n",
       "      <td>50.000000</td>\n",
       "    </tr>\n",
       "  </tbody>\n",
       "</table>\n",
       "</div>"
      ],
      "text/plain": [
       "             CRIM          ZN       INDUS        CHAS         NOX          RM  \\\n",
       "count  506.000000  506.000000  506.000000  506.000000  506.000000  506.000000   \n",
       "mean     3.613524   11.363636   11.136779    0.069170    0.554695    6.284634   \n",
       "std      8.601545   23.322453    6.860353    0.253994    0.115878    0.702617   \n",
       "min      0.006320    0.000000    0.460000    0.000000    0.385000    3.561000   \n",
       "25%      0.082045    0.000000    5.190000    0.000000    0.449000    5.885500   \n",
       "50%      0.256510    0.000000    9.690000    0.000000    0.538000    6.208500   \n",
       "75%      3.677083   12.500000   18.100000    0.000000    0.624000    6.623500   \n",
       "max     88.976200  100.000000   27.740000    1.000000    0.871000    8.780000   \n",
       "\n",
       "              AGE         DIS         RAD         TAX     PTRATIO           B  \\\n",
       "count  506.000000  506.000000  506.000000  506.000000  506.000000  506.000000   \n",
       "mean    68.574901    3.795043    9.549407  408.237154   18.455534  356.674032   \n",
       "std     28.148861    2.105710    8.707259  168.537116    2.164946   91.294864   \n",
       "min      2.900000    1.129600    1.000000  187.000000   12.600000    0.320000   \n",
       "25%     45.025000    2.100175    4.000000  279.000000   17.400000  375.377500   \n",
       "50%     77.500000    3.207450    5.000000  330.000000   19.050000  391.440000   \n",
       "75%     94.075000    5.188425   24.000000  666.000000   20.200000  396.225000   \n",
       "max    100.000000   12.126500   24.000000  711.000000   22.000000  396.900000   \n",
       "\n",
       "            LSTAT  home_price  \n",
       "count  506.000000  506.000000  \n",
       "mean    12.653063   22.532806  \n",
       "std      7.141062    9.197104  \n",
       "min      1.730000    5.000000  \n",
       "25%      6.950000   17.025000  \n",
       "50%     11.360000   21.200000  \n",
       "75%     16.955000   25.000000  \n",
       "max     37.970000   50.000000  "
      ]
     },
     "execution_count": 23,
     "metadata": {},
     "output_type": "execute_result"
    }
   ],
   "source": [
    "boston_df.describe()"
   ]
  },
  {
   "cell_type": "code",
   "execution_count": 33,
   "metadata": {},
   "outputs": [
    {
     "data": {
      "text/plain": [
       "<AxesSubplot:xlabel='ZN', ylabel='Count'>"
      ]
     },
     "execution_count": 33,
     "metadata": {},
     "output_type": "execute_result"
    },
    {
     "data": {
      "image/png": "[encoded data removed]",
      "text/plain": [
       "<Figure size 432x288 with 1 Axes>"
      ]
     },
     "metadata": {
      "needs_background": "light"
     },
     "output_type": "display_data"
    }
   ],
   "source": [
    "sns.histplot(boston_df[\"ZN\"])"
   ]
  },
  {
   "cell_type": "code",
   "execution_count": 36,
   "metadata": {},
   "outputs": [
    {
     "data": {
      "text/html": [
       "<div>\n",
       "<style scoped>\n",
       "    .dataframe tbody tr th:only-of-type {\n",
       "        vertical-align: middle;\n",
       "    }\n",
       "\n",
       "    .dataframe tbody tr th {\n",
       "        vertical-align: top;\n",
       "    }\n",
       "\n",
       "    .dataframe thead th {\n",
       "        text-align: right;\n",
       "    }\n",
       "</style>\n",
       "<table border=\"1\" class=\"dataframe\">\n",
       "  <thead>\n",
       "    <tr style=\"text-align: right;\">\n",
       "      <th></th>\n",
       "      <th>CRIM</th>\n",
       "      <th>ZN</th>\n",
       "      <th>INDUS</th>\n",
       "      <th>CHAS</th>\n",
       "      <th>NOX</th>\n",
       "      <th>RM</th>\n",
       "      <th>AGE</th>\n",
       "      <th>DIS</th>\n",
       "      <th>RAD</th>\n",
       "      <th>TAX</th>\n",
       "      <th>PTRATIO</th>\n",
       "      <th>B</th>\n",
       "      <th>LSTAT</th>\n",
       "      <th>home_price</th>\n",
       "    </tr>\n",
       "  </thead>\n",
       "  <tbody>\n",
       "    <tr>\n",
       "      <th>count</th>\n",
       "      <td>448.000000</td>\n",
       "      <td>448.000000</td>\n",
       "      <td>448.000000</td>\n",
       "      <td>448.000000</td>\n",
       "      <td>448.000000</td>\n",
       "      <td>448.000000</td>\n",
       "      <td>448.000000</td>\n",
       "      <td>448.000000</td>\n",
       "      <td>448.000000</td>\n",
       "      <td>448.000000</td>\n",
       "      <td>448.000000</td>\n",
       "      <td>448.000000</td>\n",
       "      <td>448.000000</td>\n",
       "      <td>448.000000</td>\n",
       "    </tr>\n",
       "    <tr>\n",
       "      <th>mean</th>\n",
       "      <td>4.075619</td>\n",
       "      <td>3.878348</td>\n",
       "      <td>12.181183</td>\n",
       "      <td>0.069196</td>\n",
       "      <td>0.572499</td>\n",
       "      <td>6.222415</td>\n",
       "      <td>73.600893</td>\n",
       "      <td>3.378602</td>\n",
       "      <td>10.330357</td>\n",
       "      <td>420.633929</td>\n",
       "      <td>18.689509</td>\n",
       "      <td>352.441585</td>\n",
       "      <td>13.550558</td>\n",
       "      <td>21.575223</td>\n",
       "    </tr>\n",
       "    <tr>\n",
       "      <th>std</th>\n",
       "      <td>9.039882</td>\n",
       "      <td>8.969139</td>\n",
       "      <td>6.581231</td>\n",
       "      <td>0.254072</td>\n",
       "      <td>0.111096</td>\n",
       "      <td>0.697683</td>\n",
       "      <td>25.711239</td>\n",
       "      <td>1.741958</td>\n",
       "      <td>8.945661</td>\n",
       "      <td>173.818504</td>\n",
       "      <td>2.063283</td>\n",
       "      <td>96.145710</td>\n",
       "      <td>7.058026</td>\n",
       "      <td>8.907664</td>\n",
       "    </tr>\n",
       "    <tr>\n",
       "      <th>min</th>\n",
       "      <td>0.006320</td>\n",
       "      <td>0.000000</td>\n",
       "      <td>1.380000</td>\n",
       "      <td>0.000000</td>\n",
       "      <td>0.409000</td>\n",
       "      <td>3.561000</td>\n",
       "      <td>2.900000</td>\n",
       "      <td>1.129600</td>\n",
       "      <td>1.000000</td>\n",
       "      <td>188.000000</td>\n",
       "      <td>13.000000</td>\n",
       "      <td>0.320000</td>\n",
       "      <td>1.730000</td>\n",
       "      <td>5.000000</td>\n",
       "    </tr>\n",
       "    <tr>\n",
       "      <th>25%</th>\n",
       "      <td>0.114303</td>\n",
       "      <td>0.000000</td>\n",
       "      <td>6.200000</td>\n",
       "      <td>0.000000</td>\n",
       "      <td>0.489000</td>\n",
       "      <td>5.869750</td>\n",
       "      <td>56.650000</td>\n",
       "      <td>2.001350</td>\n",
       "      <td>4.000000</td>\n",
       "      <td>284.000000</td>\n",
       "      <td>17.800000</td>\n",
       "      <td>372.890000</td>\n",
       "      <td>8.087500</td>\n",
       "      <td>16.100000</td>\n",
       "    </tr>\n",
       "    <tr>\n",
       "      <th>50%</th>\n",
       "      <td>0.372490</td>\n",
       "      <td>0.000000</td>\n",
       "      <td>10.590000</td>\n",
       "      <td>0.000000</td>\n",
       "      <td>0.544000</td>\n",
       "      <td>6.151500</td>\n",
       "      <td>83.000000</td>\n",
       "      <td>2.826350</td>\n",
       "      <td>5.000000</td>\n",
       "      <td>345.000000</td>\n",
       "      <td>19.200000</td>\n",
       "      <td>391.065000</td>\n",
       "      <td>12.465000</td>\n",
       "      <td>20.400000</td>\n",
       "    </tr>\n",
       "    <tr>\n",
       "      <th>75%</th>\n",
       "      <td>4.652375</td>\n",
       "      <td>0.000000</td>\n",
       "      <td>18.100000</td>\n",
       "      <td>0.000000</td>\n",
       "      <td>0.647000</td>\n",
       "      <td>6.495000</td>\n",
       "      <td>95.000000</td>\n",
       "      <td>4.374775</td>\n",
       "      <td>24.000000</td>\n",
       "      <td>666.000000</td>\n",
       "      <td>20.200000</td>\n",
       "      <td>396.157500</td>\n",
       "      <td>17.585000</td>\n",
       "      <td>24.125000</td>\n",
       "    </tr>\n",
       "    <tr>\n",
       "      <th>max</th>\n",
       "      <td>88.976200</td>\n",
       "      <td>35.000000</td>\n",
       "      <td>27.740000</td>\n",
       "      <td>1.000000</td>\n",
       "      <td>0.871000</td>\n",
       "      <td>8.780000</td>\n",
       "      <td>100.000000</td>\n",
       "      <td>9.222900</td>\n",
       "      <td>24.000000</td>\n",
       "      <td>711.000000</td>\n",
       "      <td>21.200000</td>\n",
       "      <td>396.900000</td>\n",
       "      <td>37.970000</td>\n",
       "      <td>50.000000</td>\n",
       "    </tr>\n",
       "  </tbody>\n",
       "</table>\n",
       "</div>"
      ],
      "text/plain": [
       "             CRIM          ZN       INDUS        CHAS         NOX          RM  \\\n",
       "count  448.000000  448.000000  448.000000  448.000000  448.000000  448.000000   \n",
       "mean     4.075619    3.878348   12.181183    0.069196    0.572499    6.222415   \n",
       "std      9.039882    8.969139    6.581231    0.254072    0.111096    0.697683   \n",
       "min      0.006320    0.000000    1.380000    0.000000    0.409000    3.561000   \n",
       "25%      0.114303    0.000000    6.200000    0.000000    0.489000    5.869750   \n",
       "50%      0.372490    0.000000   10.590000    0.000000    0.544000    6.151500   \n",
       "75%      4.652375    0.000000   18.100000    0.000000    0.647000    6.495000   \n",
       "max     88.976200   35.000000   27.740000    1.000000    0.871000    8.780000   \n",
       "\n",
       "              AGE         DIS         RAD         TAX     PTRATIO           B  \\\n",
       "count  448.000000  448.000000  448.000000  448.000000  448.000000  448.000000   \n",
       "mean    73.600893    3.378602   10.330357  420.633929   18.689509  352.441585   \n",
       "std     25.711239    1.741958    8.945661  173.818504    2.063283   96.145710   \n",
       "min      2.900000    1.129600    1.000000  188.000000   13.000000    0.320000   \n",
       "25%     56.650000    2.001350    4.000000  284.000000   17.800000  372.890000   \n",
       "50%     83.000000    2.826350    5.000000  345.000000   19.200000  391.065000   \n",
       "75%     95.000000    4.374775   24.000000  666.000000   20.200000  396.157500   \n",
       "max    100.000000    9.222900   24.000000  711.000000   21.200000  396.900000   \n",
       "\n",
       "            LSTAT  home_price  \n",
       "count  448.000000  448.000000  \n",
       "mean    13.550558   21.575223  \n",
       "std      7.058026    8.907664  \n",
       "min      1.730000    5.000000  \n",
       "25%      8.087500   16.100000  \n",
       "50%     12.465000   20.400000  \n",
       "75%     17.585000   24.125000  \n",
       "max     37.970000   50.000000  "
      ]
     },
     "execution_count": 36,
     "metadata": {},
     "output_type": "execute_result"
    }
   ],
   "source": [
    "filtered_boston_df = boston_df[boston_df[\"ZN\"] < 40]\n",
    "filtered_boston_df.describe()"
   ]
  },
  {
   "cell_type": "markdown",
   "metadata": {},
   "source": [
    "## 2- Data Visualization"
   ]
  },
  {
   "cell_type": "code",
   "execution_count": null,
   "metadata": {},
   "outputs": [],
   "source": [
    "sns.pairplot(boston_df)"
   ]
  },
  {
   "cell_type": "code",
   "execution_count": null,
   "metadata": {},
   "outputs": [],
   "source": [
    "sns.distplot(boston_df['price'])"
   ]
  },
  {
   "cell_type": "code",
   "execution_count": null,
   "metadata": {},
   "outputs": [],
   "source": [
    "boston_data_corr = boston_df.corr()"
   ]
  },
  {
   "cell_type": "code",
   "execution_count": null,
   "metadata": {},
   "outputs": [],
   "source": [
    "sns.heatmap(boston_data_corr, cmap='BuGn')"
   ]
  },
  {
   "cell_type": "markdown",
   "metadata": {},
   "source": [
    "## 3- Trainig Section"
   ]
  },
  {
   "cell_type": "code",
   "execution_count": 15,
   "metadata": {},
   "outputs": [
    {
     "name": "stdout",
     "output_type": "stream",
     "text": [
      "Linear Regression intercept boston:  22.6073446327684\n",
      "Linear Regression coef boston:  [-0.87463533  1.09850088  0.09492089  0.51820668 -2.7256652   2.18139301\n",
      "  0.98763247 -3.17175916  3.08111997 -2.18587526 -2.23040688  0.75233175\n",
      " -4.50334868]\n"
     ]
    }
   ],
   "source": [
    "from sklearn.linear_model import LinearRegression, Ridge, SGDRegressor\n",
    "lr_model = LinearRegression()\n",
    "lr_model.fit(X_train_scaled, y_train)\n",
    "print(\"Linear Regression intercept boston: \", lr_model.intercept_)\n",
    "print(\"Linear Regression coef boston: \", lr_model.coef_)\n",
    "# rb_model = Ridge(alpha=0.5)\n",
    "# rb_model.fit(X_train_scaled, y_train)\n",
    "# print(\"Ridge intercept boston: \", rb_model.intercept_)\n",
    "# print(\"Ridge coef boston: \", rb_model.coef_)"
   ]
  },
  {
   "cell_type": "code",
   "execution_count": 16,
   "metadata": {},
   "outputs": [
    {
     "name": "stdout",
     "output_type": "stream",
     "text": [
      "Ridge intercept boston:  22.6073446327684\n",
      "Ridge coef boston:  [-0.86575099  1.07879897  0.06186244  0.52442336 -2.68031531  2.20163715\n",
      "  0.96241328 -3.14179122  2.97057876 -2.08341304 -2.21552424  0.75413214\n",
      " -4.47327939]\n"
     ]
    }
   ],
   "source": [
    "rb_model_bs = Ridge(alpha=0.9)\n",
    "rb_model_bs.fit(X_train_scaled, y_train)\n",
    "print(\"Ridge intercept boston: \", rb_model_bs.intercept_)\n",
    "print(\"Ridge coef boston: \", rb_model_bs.coef_)"
   ]
  },
  {
   "cell_type": "code",
   "execution_count": 17,
   "metadata": {},
   "outputs": [
    {
     "name": "stdout",
     "output_type": "stream",
     "text": [
      "SGD intercept boston:  [22.61034491]\n",
      "SGD coef boston:  [-0.83568662  1.00913234 -0.20066118  0.56183701 -2.57370073  2.27455094\n",
      "  0.86166905 -3.15852444  2.25395706 -1.2899685  -2.16947188  0.7631933\n",
      " -4.41550244]\n",
      "iterations boston:  43\n"
     ]
    }
   ],
   "source": [
    "from sklearn.pipeline import make_pipeline\n",
    "sgr_model = make_pipeline(preprocessing.StandardScaler(), SGDRegressor(max_iter=1000, tol=1e-3))\n",
    "sgr_model.fit(X_train, y_train)\n",
    "print(\"SGD intercept boston: \", sgr_model[1].intercept_)\n",
    "print(\"SGD coef boston: \", sgr_model[1].coef_)\n",
    "print(\"iterations boston: \", sgr_model[1].n_iter_)"
   ]
  },
  {
   "cell_type": "code",
   "execution_count": 18,
   "metadata": {},
   "outputs": [
    {
     "name": "stdout",
     "output_type": "stream",
     "text": [
      "before:  (354, 13)\n",
      "after:  (354, 104)\n"
     ]
    }
   ],
   "source": [
    "from sklearn.preprocessing import PolynomialFeatures\n",
    "print(\"before: \", X_train.shape)\n",
    "polyRegressor = PolynomialFeatures(degree=2, include_bias=False)\n",
    "X_train_poly = polyRegressor.fit_transform(X_train)\n",
    "print(\"after: \", X_train_poly.shape)\n",
    "X_test_poly = polyRegressor.fit_transform(X_test)\n",
    "poly = LinearRegression()\n",
    "poly.fit(X_train_poly, y_train)\n",
    "prediction_plr = poly.predict(X_test_poly)"
   ]
  },
  {
   "cell_type": "code",
   "execution_count": 19,
   "metadata": {},
   "outputs": [],
   "source": [
    "#  TODO dataframe with column name COEFF and index's name features and value of coef per row"
   ]
  },
  {
   "cell_type": "markdown",
   "metadata": {},
   "source": [
    "## 4- Prediction and Evaluation"
   ]
  },
  {
   "cell_type": "code",
   "execution_count": 20,
   "metadata": {},
   "outputs": [],
   "source": [
    "y_predict_lr= lr_model.predict(X_test_scaled)"
   ]
  },
  {
   "cell_type": "code",
   "execution_count": 21,
   "metadata": {},
   "outputs": [
    {
     "data": {
      "text/plain": [
       "<AxesSubplot:ylabel='Count'>"
      ]
     },
     "execution_count": 21,
     "metadata": {},
     "output_type": "execute_result"
    },
    {
     "data": {
      "image/png": "[encoded data removed]",
      "text/plain": [
       "<Figure size 432x288 with 1 Axes>"
      ]
     },
     "metadata": {
      "needs_background": "light"
     },
     "output_type": "display_data"
    }
   ],
   "source": [
    "sns.histplot(y_test - y_predict_lr, kde=True)"
   ]
  },
  {
   "cell_type": "code",
   "execution_count": 22,
   "metadata": {},
   "outputs": [
    {
     "name": "stderr",
     "output_type": "stream",
     "text": [
      "/home/ashkan/Documents/ML2/venv/lib/python3.8/site-packages/seaborn/_decorators.py:36: FutureWarning: Pass the following variables as keyword args: x, y. From version 0.12, the only valid positional argument will be `data`, and passing other arguments without an explicit keyword will result in an error or misinterpretation.\n",
      "  warnings.warn(\n"
     ]
    },
    {
     "data": {
      "text/plain": [
       "<AxesSubplot:>"
      ]
     },
     "execution_count": 22,
     "metadata": {},
     "output_type": "execute_result"
    },
    {
     "data": {
      "image/png": "[encoded data removed]",
      "text/plain": [
       "<Figure size 432x288 with 1 Axes>"
      ]
     },
     "metadata": {
      "needs_background": "light"
     },
     "output_type": "display_data"
    }
   ],
   "source": [
    "sns.scatterplot(y_test, y_predict_lr)"
   ]
  },
  {
   "cell_type": "code",
   "execution_count": 23,
   "metadata": {},
   "outputs": [
    {
     "name": "stdout",
     "output_type": "stream",
     "text": [
      "MSE LinearRegression:  19.640981886598453\n",
      "R2_SCORE LinearRegression:  0.7478323908278409\n",
      "MAPE LinearRegression:  0.1571125499737501\n"
     ]
    },
    {
     "data": {
      "text/plain": [
       "0.19668276893278225"
      ]
     },
     "execution_count": 23,
     "metadata": {},
     "output_type": "execute_result"
    }
   ],
   "source": [
    "from sklearn import metrics\n",
    "import math\n",
    "\n",
    "print(\"MSE LinearRegression: \", metrics.mean_squared_error(y_test, y_predict_lr))\n",
    "print(\"R2_SCORE LinearRegression: \", metrics.r2_score(y_test, y_predict_lr))\n",
    "print(\"MAPE LinearRegression: \", metrics.mean_absolute_percentage_error(y_test, y_predict_lr))\n",
    "math.sqrt(metrics.mean_squared_error(y_test, y_predict_lr)) / boston_df[\"home_price\"].mean()"
   ]
  },
  {
   "cell_type": "code",
   "execution_count": 24,
   "metadata": {},
   "outputs": [
    {
     "name": "stdout",
     "output_type": "stream",
     "text": [
      "MSE RidgeRegression:  19.514362111055345\n",
      "R2_SCORE RidgeRegression:  0.7494580430613684\n",
      "MAPE RidgeRegression:  0.1566815108358227\n"
     ]
    },
    {
     "data": {
      "text/plain": [
       "0.19604776516313135"
      ]
     },
     "execution_count": 24,
     "metadata": {},
     "output_type": "execute_result"
    }
   ],
   "source": [
    "y_predict_rr= rb_model_bs.predict(X_test_scaled)\n",
    "\n",
    "print(\"MSE RidgeRegression: \", metrics.mean_squared_error(y_test, y_predict_rr))\n",
    "print(\"R2_SCORE RidgeRegression: \", metrics.r2_score(y_test, y_predict_rr))\n",
    "print(\"MAPE RidgeRegression: \", metrics.mean_absolute_percentage_error(y_test, y_predict_rr))\n",
    "math.sqrt(metrics.mean_squared_error(y_test, y_predict_rr)) / boston_df[\"home_price\"].mean()"
   ]
  },
  {
   "cell_type": "code",
   "execution_count": 41,
   "metadata": {},
   "outputs": [
    {
     "data": {
      "text/plain": [
       "<AxesSubplot:ylabel='Count'>"
      ]
     },
     "execution_count": 41,
     "metadata": {},
     "output_type": "execute_result"
    },
    {
     "data": {
      "image/png": "[encoded data removed]",
      "text/plain": [
       "<Figure size 432x288 with 1 Axes>"
      ]
     },
     "metadata": {
      "needs_background": "light"
     },
     "output_type": "display_data"
    }
   ],
   "source": [
    "sns.histplot(y_test - y_predict_rr, kde=True)"
   ]
  },
  {
   "cell_type": "code",
   "execution_count": 26,
   "metadata": {},
   "outputs": [
    {
     "name": "stdout",
     "output_type": "stream",
     "text": [
      "MSE SGDRegression:  19.256758297019072\n",
      "R2_SCORE SGDRegression:  0.7527653796433281\n",
      "MAPE SGDRegression:  0.15778676686215504\n"
     ]
    },
    {
     "data": {
      "text/plain": [
       "0.19474947959934508"
      ]
     },
     "execution_count": 26,
     "metadata": {},
     "output_type": "execute_result"
    }
   ],
   "source": [
    "y_predict_sgr= sgr_model.predict(X_test)\n",
    "\n",
    "print(\"MSE SGDRegression: \", metrics.mean_squared_error(y_test, y_predict_sgr))\n",
    "print(\"R2_SCORE SGDRegression: \", metrics.r2_score(y_test, y_predict_sgr))\n",
    "print(\"MAPE SGDRegression: \", metrics.mean_absolute_percentage_error(y_test, y_predict_sgr))\n",
    "math.sqrt(metrics.mean_squared_error(y_test, y_predict_sgr)) / boston_df[\"home_price\"].mean()\n"
   ]
  },
  {
   "cell_type": "code",
   "execution_count": 27,
   "metadata": {},
   "outputs": [
    {
     "name": "stdout",
     "output_type": "stream",
     "text": [
      "MSE PolynomialRegression:  15.717434306518188\n",
      "R2_SCORE PolynomialRegression:  0.7982062274544679\n",
      "MAPE PolynomialRegression:  0.15482840808490506\n"
     ]
    },
    {
     "data": {
      "text/plain": [
       "0.17594443829150846"
      ]
     },
     "execution_count": 27,
     "metadata": {},
     "output_type": "execute_result"
    }
   ],
   "source": [
    "print(\"MSE PolynomialRegression: \", metrics.mean_squared_error(y_test, prediction_plr))\n",
    "print(\"R2_SCORE PolynomialRegression: \", metrics.r2_score(y_test, prediction_plr))\n",
    "print(\"MAPE PolynomialRegression: \", metrics.mean_absolute_percentage_error(y_test, prediction_plr))\n",
    "math.sqrt(metrics.mean_squared_error(y_test, prediction_plr)) / boston_df[\"home_price\"].mean()"
   ]
  },
  {
   "cell_type": "markdown",
   "metadata": {},
   "source": [
    "### Ridge + Polynomial "
   ]
  },
  {
   "cell_type": "code",
   "execution_count": 39,
   "metadata": {},
   "outputs": [],
   "source": [
    "ridge_poly_model = make_pipeline(preprocessing.StandardScaler(), \n",
    "              preprocessing.PolynomialFeatures(degree=2, include_bias=False), \n",
    "              Ridge(alpha=10))\n",
    "ridge_poly_model.fit(X_train, y_train)\n",
    "y_predict_ridge_poly = ridge_poly_model.predict(X_test)"
   ]
  },
  {
   "cell_type": "code",
   "execution_count": 40,
   "metadata": {},
   "outputs": [
    {
     "name": "stdout",
     "output_type": "stream",
     "text": [
      "MSE (Ridge + Polynomial):  9.147452814236214\n",
      "R2_SCORE (Ridge + Polynomial):  0.9225723275460475\n",
      "MAPE (Ridge + Polynomial):  0.11054538564215496\n"
     ]
    },
    {
     "data": {
      "text/plain": [
       "0.13422543037123166"
      ]
     },
     "execution_count": 40,
     "metadata": {},
     "output_type": "execute_result"
    }
   ],
   "source": [
    "print(\"MSE (Ridge + Polynomial): \", metrics.mean_squared_error(y_test, y_predict_ridge_poly))\n",
    "print(\"R2_SCORE (Ridge + Polynomial): \", metrics.r2_score(y_test, y_predict_ridge_poly))\n",
    "print(\"MAPE (Ridge + Polynomial): \", metrics.mean_absolute_percentage_error(y_test, y_predict_ridge_poly))\n",
    "math.sqrt(metrics.mean_squared_error(y_test, y_predict_ridge_poly)) / boston_df[\"home_price\"].mean()"
   ]
  },
  {
   "cell_type": "code",
   "execution_count": 37,
   "metadata": {},
   "outputs": [],
   "source": [
    "X = filtered_boston_df.iloc[:, :-1].values\n",
    "y = filtered_boston_df.iloc[:,-1].values\n",
    "\n",
    "X_train, X_test, y_train, y_test = train_test_split(X, y, test_size=0.2)\n",
    "\n",
    "ridge_poly_model = make_pipeline(preprocessing.StandardScaler(), \n",
    "              preprocessing.PolynomialFeatures(degree=2, include_bias=False), \n",
    "              Ridge(alpha=10))\n",
    "ridge_poly_model.fit(X_train, y_train)\n",
    "y_predict_ridge_poly = ridge_poly_model.predict(X_test)"
   ]
  },
  {
   "cell_type": "code",
   "execution_count": 38,
   "metadata": {},
   "outputs": [
    {
     "name": "stdout",
     "output_type": "stream",
     "text": [
      "MSE (Ridge + Polynomial):  9.147452814236214\n",
      "R2_SCORE (Ridge + Polynomial):  0.9225723275460475\n",
      "MAPE (Ridge + Polynomial):  0.11054538564215496\n"
     ]
    },
    {
     "data": {
      "text/plain": [
       "0.13422543037123166"
      ]
     },
     "execution_count": 38,
     "metadata": {},
     "output_type": "execute_result"
    }
   ],
   "source": [
    "print(\"MSE (Ridge + Polynomial): \", metrics.mean_squared_error(y_test, y_predict_ridge_poly))\n",
    "print(\"R2_SCORE (Ridge + Polynomial): \", metrics.r2_score(y_test, y_predict_ridge_poly))\n",
    "print(\"MAPE (Ridge + Polynomial): \", metrics.mean_absolute_percentage_error(y_test, y_predict_ridge_poly))\n",
    "math.sqrt(metrics.mean_squared_error(y_test, y_predict_ridge_poly)) / boston_df[\"home_price\"].mean()"
   ]
  },
  {
   "cell_type": "code",
   "execution_count": 39,
   "metadata": {},
   "outputs": [
    {
     "data": {
      "text/plain": [
       "<AxesSubplot:ylabel='Count'>"
      ]
     },
     "execution_count": 39,
     "metadata": {},
     "output_type": "execute_result"
    },
    {
     "data": {
      "image/png": "[encoded data removed]",
      "text/plain": [
       "<Figure size 432x288 with 1 Axes>"
      ]
     },
     "metadata": {
      "needs_background": "light"
     },
     "output_type": "display_data"
    }
   ],
   "source": [
    "sns.histplot(y_test - y_predict_ridge_poly, kde=True)"
   ]
  },
  {
   "cell_type": "code",
   "execution_count": 40,
   "metadata": {},
   "outputs": [],
   "source": [
    "from sklearn.model_selection import cross_val_score as cvs"
   ]
  },
  {
   "cell_type": "code",
   "execution_count": 41,
   "metadata": {},
   "outputs": [
    {
     "name": "stdout",
     "output_type": "stream",
     "text": [
      "cross val mean LR: 0.6779893285170996\n",
      "cross val mean Ridge: 0.676579677406288\n",
      "cross val mean SGD: 0.6745559794986379\n"
     ]
    }
   ],
   "source": [
    "accuracy_lr = cvs(LinearRegression(), X_train, y_train, scoring='r2', cv=10)\n",
    "accuracy_rb = cvs(Ridge(), X_train, y_train, scoring='r2', cv=10)\n",
    "accuracy_sgd = cvs(SGDRegressor(), X_train_scaled, y_train, scoring='r2', cv=6)\n",
    "print(\"cross val mean LR:\", accuracy_lr.mean())\n",
    "print(\"cross val mean Ridge:\", accuracy_rb.mean())\n",
    "print(\"cross val mean SGD:\", accuracy_sgd.mean())\n"
   ]
  }
 ],
 "metadata": {
  "kernelspec": {
   "display_name": "Python 3 (ipykernel)",
   "language": "python",
   "name": "python3"
  },
  "language_info": {
   "codemirror_mode": {
    "name": "ipython",
    "version": 3
   },
   "file_extension": ".py",
   "mimetype": "text/x-python",
   "name": "python",
   "nbconvert_exporter": "python",
   "pygments_lexer": "ipython3",
   "version": "3.8.10"
  }
 },
 "nbformat": 4,
 "nbformat_minor": 4
}
