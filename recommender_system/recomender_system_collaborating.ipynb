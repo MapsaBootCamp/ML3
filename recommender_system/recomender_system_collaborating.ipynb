{
  "cells": [
    {
      "cell_type": "code",
      "execution_count": null,
      "metadata": {
        "id": "uIyLP6B7dy6Q"
      },
      "outputs": [],
      "source": [
        "from google.colab import drive\n",
        "drive.mount(\"/content/ml/\")"
      ]
    },
    {
      "cell_type": "code",
      "execution_count": null,
      "metadata": {
        "id": "EFP-XqCHlwuI"
      },
      "outputs": [],
      "source": [
        "import pandas as pd\n",
        "import numpy as np\n",
        "import matplotlib.pyplot as plt\n",
        "import seaborn as sns\n",
        "from scipy.sparse import csr_matrix"
      ]
    },
    {
      "cell_type": "code",
      "execution_count": null,
      "metadata": {
        "id": "wfkX3aRhmnP6"
      },
      "outputs": [],
      "source": [
        "user_song_listened = pd.read_csv('/content/ml/MyDrive/datasets/10000.txt',sep='\\t',\n",
        "                                  header=None)\n",
        "user_song_listened.columns=['user_id', 'song_id', 'listen_count']\n",
        "\n",
        "#song information metadata\n",
        "song_information_data = pd.read_csv('/content/ml/MyDrive/datasets/song_data.csv')"
      ]
    },
    {
      "cell_type": "code",
      "source": [
        "song_information_data.shape"
      ],
      "metadata": {
        "id": "6DiD5xCkNPlX"
      },
      "execution_count": null,
      "outputs": []
    },
    {
      "cell_type": "code",
      "source": [
        "song_information_data.head()"
      ],
      "metadata": {
        "id": "LAQE55hrPde_"
      },
      "execution_count": null,
      "outputs": []
    },
    {
      "cell_type": "code",
      "source": [
        "song_information_data.drop_duplicates(['song_id'], inplace=True)\n",
        "song_information_data.shape"
      ],
      "metadata": {
        "id": "qjhXgyGuNe5y"
      },
      "execution_count": null,
      "outputs": []
    },
    {
      "cell_type": "code",
      "source": [
        "user_song_listened.shape"
      ],
      "metadata": {
        "id": "39C-H-DqnoAM"
      },
      "execution_count": null,
      "outputs": []
    },
    {
      "cell_type": "code",
      "source": [
        "user_song_listened.head()"
      ],
      "metadata": {
        "id": "luFBoe1GXcOa"
      },
      "execution_count": null,
      "outputs": []
    },
    {
      "cell_type": "markdown",
      "source": [
        "Unique Users"
      ],
      "metadata": {
        "id": "8KJizOZFMjax"
      }
    },
    {
      "cell_type": "code",
      "source": [
        "unique_users = user_song_listened['user_id'].unique()\n",
        "unique_users.shape[0]"
      ],
      "metadata": {
        "id": "30nxMSHhn98j"
      },
      "execution_count": null,
      "outputs": []
    },
    {
      "cell_type": "markdown",
      "source": [
        "Unique *Songs*"
      ],
      "metadata": {
        "id": "fYZW6CN5PCHW"
      }
    },
    {
      "cell_type": "code",
      "source": [
        "unique_songs = user_song_listened['song_id'].unique()\n",
        "unique_songs.shape[0]"
      ],
      "metadata": {
        "id": "42BUmqAHMqc1"
      },
      "execution_count": null,
      "outputs": []
    },
    {
      "cell_type": "markdown",
      "source": [
        "Unique **Artists**"
      ],
      "metadata": {
        "id": "crO6IKvkPpxf"
      }
    },
    {
      "cell_type": "code",
      "source": [
        "unique_artists = song_information_data['artist_name'].unique()\n",
        "unique_artists.shape[0]"
      ],
      "metadata": {
        "id": "8aCY-rCoPQkB"
      },
      "execution_count": null,
      "outputs": []
    },
    {
      "cell_type": "markdown",
      "source": [
        "Merge Tables"
      ],
      "metadata": {
        "id": "GfWadPuLSLj3"
      }
    },
    {
      "cell_type": "code",
      "source": [
        "songs = pd.merge(user_song_listened, song_information_data, on=\"song_id\", how=\"left\")"
      ],
      "metadata": {
        "id": "F_ZKLVZjmN2s"
      },
      "execution_count": null,
      "outputs": []
    },
    {
      "cell_type": "code",
      "source": [
        "songs.describe()"
      ],
      "metadata": {
        "id": "0ghqtNO8YUpW"
      },
      "execution_count": null,
      "outputs": []
    },
    {
      "cell_type": "code",
      "source": [
        "songs.head()"
      ],
      "metadata": {
        "id": "71fSh9F_QmSM"
      },
      "execution_count": null,
      "outputs": []
    },
    {
      "cell_type": "markdown",
      "source": [
        "Popular **Songs**"
      ],
      "metadata": {
        "id": "c-imDDCmSIa_"
      }
    },
    {
      "cell_type": "code",
      "source": [
        "popular_songs = songs.groupby('title')['listen_count'].count()"
      ],
      "metadata": {
        "id": "3rMP3NwrREMM"
      },
      "execution_count": null,
      "outputs": []
    },
    {
      "cell_type": "code",
      "source": [
        "popular_songs.reset_index().sort_values(\"listen_count\", ascending=False)"
      ],
      "metadata": {
        "id": "jsDwWVHjRPdc"
      },
      "execution_count": null,
      "outputs": []
    },
    {
      "cell_type": "markdown",
      "source": [
        "Popular **Artists**"
      ],
      "metadata": {
        "id": "rIABuIT5TCas"
      }
    },
    {
      "cell_type": "code",
      "source": [
        "popular_artists = songs.groupby('artist_name')['listen_count'].count()"
      ],
      "metadata": {
        "id": "ToSS8z5kRTAC"
      },
      "execution_count": null,
      "outputs": []
    },
    {
      "cell_type": "code",
      "source": [
        "popular_artists.reset_index().sort_values(\"listen_count\", ascending=False)"
      ],
      "metadata": {
        "id": "mWqnn-PgTJ2y"
      },
      "execution_count": null,
      "outputs": []
    },
    {
      "cell_type": "code",
      "source": [
        "user_song_count = songs.groupby(\"user_id\")[\"song_id\"].count().reset_index()\n",
        "more_than_10_user_id = user_song_count[user_song_count[\"song_id\"] > 10][\"user_id\"].to_list()\n",
        "more_than_10_user_id[:10]"
      ],
      "metadata": {
        "id": "HHAgM9rsw-_q"
      },
      "execution_count": null,
      "outputs": []
    },
    {
      "cell_type": "code",
      "source": [
        "songs_more_ten_user_listened = songs[songs['user_id'].isin(more_than_10_user_id)].reset_index(drop=True)\n",
        "songs_more_ten_user_listened"
      ],
      "metadata": {
        "id": "TZTiETf6xDux"
      },
      "execution_count": null,
      "outputs": []
    },
    {
      "cell_type": "code",
      "source": [
        "matrix_songs_users_listen_count = songs_more_ten_user_listened.pivot(index='song_id', columns='user_id', values='listen_count').fillna(0)"
      ],
      "metadata": {
        "id": "WweEwgZ6TRq2"
      },
      "execution_count": null,
      "outputs": []
    },
    {
      "cell_type": "code",
      "source": [
        "sparse_songs_users_listen_count = csr_matrix(matrix_songs_users_listen_count.values)"
      ],
      "metadata": {
        "id": "D1CO9ezIx96Q"
      },
      "execution_count": null,
      "outputs": []
    },
    {
      "cell_type": "code",
      "source": [
        "print(sparse_songs_users_listen_count)"
      ],
      "metadata": {
        "id": "pbsY6FiqypKE"
      },
      "execution_count": null,
      "outputs": []
    }
  ],
  "metadata": {
    "colab": {
      "provenance": []
    },
    "gpuClass": "standard",
    "kernelspec": {
      "display_name": "Python 3",
      "name": "python3"
    },
    "language_info": {
      "name": "python"
    }
  },
  "nbformat": 4,
  "nbformat_minor": 0
}