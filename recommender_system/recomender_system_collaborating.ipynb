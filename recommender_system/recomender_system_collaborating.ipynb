{
 "cells": [
  {
   "cell_type": "code",
   "execution_count": null,
   "metadata": {
    "id": "uIyLP6B7dy6Q"
   },
   "outputs": [],
   "source": [
    "from google.colab import drive\n",
    "drive.mount(\"/content/ml/\")"
   ]
  },
  {
   "cell_type": "code",
   "execution_count": null,
   "metadata": {
    "id": "EFP-XqCHlwuI"
   },
   "outputs": [],
   "source": [
    "import pandas as pd\n",
    "import numpy as np\n",
    "import matplotlib.pyplot as plt\n",
    "import seaborn as sns\n",
    "from scipy.sparse import csr_matrix"
   ]
  },
  {
   "cell_type": "code",
   "execution_count": null,
   "metadata": {
    "id": "wfkX3aRhmnP6"
   },
   "outputs": [],
   "source": [
    "user_song_listened = pd.read_csv('/content/ml/MyDrive/datasets/10000.txt',sep='\\t',\n",
    "                                  header=None)\n",
    "user_song_listened.columns=['user_id', 'song_id', 'listen_count']\n",
    "\n",
    "#song information metadata\n",
    "song_information_data = pd.read_csv('/content/ml/MyDrive/datasets/song_data.csv')"
   ]
  },
  {
   "cell_type": "code",
   "execution_count": null,
   "metadata": {
    "id": "6DiD5xCkNPlX"
   },
   "outputs": [],
   "source": [
    "song_information_data.shape"
   ]
  },
  {
   "cell_type": "code",
   "execution_count": null,
   "metadata": {
    "id": "LAQE55hrPde_"
   },
   "outputs": [],
   "source": [
    "song_information_data.head()"
   ]
  },
  {
   "cell_type": "code",
   "execution_count": null,
   "metadata": {
    "id": "qjhXgyGuNe5y"
   },
   "outputs": [],
   "source": [
    "song_information_data.drop_duplicates(['song_id'], inplace=True)\n",
    "song_information_data.shape"
   ]
  },
  {
   "cell_type": "code",
   "execution_count": null,
   "metadata": {
    "id": "39C-H-DqnoAM"
   },
   "outputs": [],
   "source": [
    "user_song_listened.shape"
   ]
  },
  {
   "cell_type": "code",
   "execution_count": null,
   "metadata": {
    "id": "luFBoe1GXcOa"
   },
   "outputs": [],
   "source": [
    "user_song_listened.head()"
   ]
  },
  {
   "cell_type": "markdown",
   "metadata": {
    "id": "8KJizOZFMjax"
   },
   "source": [
    "Unique Users"
   ]
  },
  {
   "cell_type": "code",
   "execution_count": null,
   "metadata": {
    "id": "30nxMSHhn98j"
   },
   "outputs": [],
   "source": [
    "unique_users = user_song_listened['user_id'].unique()\n",
    "unique_users.shape[0]"
   ]
  },
  {
   "cell_type": "markdown",
   "metadata": {
    "id": "fYZW6CN5PCHW"
   },
   "source": [
    "Unique *Songs*"
   ]
  },
  {
   "cell_type": "code",
   "execution_count": null,
   "metadata": {
    "id": "42BUmqAHMqc1"
   },
   "outputs": [],
   "source": [
    "unique_songs = user_song_listened['song_id'].unique()\n",
    "unique_songs.shape[0]"
   ]
  },
  {
   "cell_type": "markdown",
   "metadata": {
    "id": "crO6IKvkPpxf"
   },
   "source": [
    "Unique **Artists**"
   ]
  },
  {
   "cell_type": "code",
   "execution_count": null,
   "metadata": {
    "id": "8aCY-rCoPQkB"
   },
   "outputs": [],
   "source": [
    "unique_artists = song_information_data['artist_name'].unique()\n",
    "unique_artists.shape[0]"
   ]
  },
  {
   "cell_type": "markdown",
   "metadata": {
    "id": "GfWadPuLSLj3"
   },
   "source": [
    "Merge Tables"
   ]
  },
  {
   "cell_type": "code",
   "execution_count": null,
   "metadata": {
    "id": "F_ZKLVZjmN2s"
   },
   "outputs": [],
   "source": [
    "songs = pd.merge(user_song_listened, song_information_data, on=\"song_id\", how=\"left\")"
   ]
  },
  {
   "cell_type": "code",
   "execution_count": null,
   "metadata": {
    "id": "0ghqtNO8YUpW"
   },
   "outputs": [],
   "source": [
    "songs.describe()"
   ]
  },
  {
   "cell_type": "code",
   "execution_count": null,
   "metadata": {
    "id": "71fSh9F_QmSM"
   },
   "outputs": [],
   "source": [
    "songs.head()"
   ]
  },
  {
   "cell_type": "markdown",
   "metadata": {
    "id": "c-imDDCmSIa_"
   },
   "source": [
    "Popular **Songs**"
   ]
  },
  {
   "cell_type": "code",
   "execution_count": null,
   "metadata": {
    "id": "3rMP3NwrREMM"
   },
   "outputs": [],
   "source": [
    "popular_songs = songs.groupby('title')['listen_count'].count()"
   ]
  },
  {
   "cell_type": "code",
   "execution_count": null,
   "metadata": {
    "id": "jsDwWVHjRPdc"
   },
   "outputs": [],
   "source": [
    "popular_songs.reset_index().sort_values(\"listen_count\", ascending=False)"
   ]
  },
  {
   "cell_type": "markdown",
   "metadata": {
    "id": "rIABuIT5TCas"
   },
   "source": [
    "Popular **Artists**"
   ]
  },
  {
   "cell_type": "code",
   "execution_count": null,
   "metadata": {
    "id": "ToSS8z5kRTAC"
   },
   "outputs": [],
   "source": [
    "popular_artists = songs.groupby('artist_name')['listen_count'].count()"
   ]
  },
  {
   "cell_type": "code",
   "execution_count": null,
   "metadata": {
    "id": "mWqnn-PgTJ2y"
   },
   "outputs": [],
   "source": [
    "popular_artists.reset_index().sort_values(\"listen_count\", ascending=False)"
   ]
  },
  {
   "cell_type": "code",
   "execution_count": null,
   "metadata": {
    "id": "HHAgM9rsw-_q"
   },
   "outputs": [],
   "source": [
    "user_song_count = songs.groupby(\"user_id\")[\"song_id\"].count().reset_index()\n",
    "more_than_10_user_id = user_song_count[user_song_count[\"song_id\"] > 10][\"user_id\"].to_list()\n",
    "more_than_10_user_id[:10]"
   ]
  },
  {
   "cell_type": "code",
   "execution_count": null,
   "metadata": {
    "id": "TZTiETf6xDux"
   },
   "outputs": [],
   "source": [
    "songs_more_ten_user_listened = songs[songs['user_id'].isin(more_than_10_user_id)].reset_index(drop=True)\n",
    "songs_more_ten_user_listened"
   ]
  },
  {
   "cell_type": "code",
   "execution_count": null,
   "metadata": {
    "id": "WweEwgZ6TRq2"
   },
   "outputs": [],
   "source": [
    "matrix_songs_users_listen_count = songs_more_ten_user_listened.pivot(index='song_id', columns='user_id', values='listen_count').fillna(0)"
   ]
  },
  {
   "cell_type": "code",
   "execution_count": null,
   "metadata": {
    "id": "D1CO9ezIx96Q"
   },
   "outputs": [],
   "source": [
    "sparse_songs_users_listen_count = csr_matrix(matrix_songs_users_listen_count.values)"
   ]
  },
  {
   "cell_type": "code",
   "execution_count": null,
   "metadata": {
    "id": "pbsY6FiqypKE"
   },
   "outputs": [],
   "source": [
    "print(sparse_songs_users_listen_count)"
   ]
  }
 ],
 "metadata": {
  "colab": {
   "provenance": []
  },
  "gpuClass": "standard",
  "kernelspec": {
   "display_name": "Python 3 (ipykernel)",
   "language": "python",
   "name": "python3"
  },
  "language_info": {
   "codemirror_mode": {
    "name": "ipython",
    "version": 3
   },
   "file_extension": ".py",
   "mimetype": "text/x-python",
   "name": "python",
   "nbconvert_exporter": "python",
   "pygments_lexer": "ipython3",
   "version": "3.8.10"
  }
 },
 "nbformat": 4,
 "nbformat_minor": 4
}
