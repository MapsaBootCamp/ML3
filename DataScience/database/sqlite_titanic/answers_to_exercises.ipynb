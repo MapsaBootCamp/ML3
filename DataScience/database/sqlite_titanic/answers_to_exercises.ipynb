{
 "cells": [
  {
   "cell_type": "code",
   "execution_count": 34,
   "metadata": {},
   "outputs": [
    {
     "name": "stdout",
     "output_type": "stream",
     "text": [
      "Collecting pandas\n",
      "  Downloading pandas-1.5.2-cp38-cp38-manylinux_2_17_x86_64.manylinux2014_x86_64.whl (12.2 MB)\n",
      "\u001b[2K     \u001b[38;2;114;156;31m━━━━━━━━━━━━━━━━━━━━━━━━━━━━━━━━━━━━━━━━\u001b[0m \u001b[32m12.2/12.2 MB\u001b[0m \u001b[31m3.4 MB/s\u001b[0m eta \u001b[36m0:00:00\u001b[0mm eta \u001b[36m0:00:01\u001b[0m[36m0:00:01\u001b[0m\n",
      "\u001b[?25hCollecting pytz>=2020.1\n",
      "  Using cached pytz-2022.6-py2.py3-none-any.whl (498 kB)\n",
      "Collecting numpy>=1.20.3\n",
      "  Downloading numpy-1.23.5-cp38-cp38-manylinux_2_17_x86_64.manylinux2014_x86_64.whl (17.1 MB)\n",
      "\u001b[2K     \u001b[38;2;114;156;31m━━━━━━━━━━━━━━━━━━━━━━━━━━━━━━━━━━━━━━━━\u001b[0m \u001b[32m17.1/17.1 MB\u001b[0m \u001b[31m3.3 MB/s\u001b[0m eta \u001b[36m0:00:00\u001b[0mm eta \u001b[36m0:00:01\u001b[0m[36m0:00:01\u001b[0m\n",
      "\u001b[?25hRequirement already satisfied: python-dateutil>=2.8.1 in ./venv/lib/python3.8/site-packages (from pandas) (2.8.2)\n",
      "Requirement already satisfied: six>=1.5 in ./venv/lib/python3.8/site-packages (from python-dateutil>=2.8.1->pandas) (1.16.0)\n",
      "Installing collected packages: pytz, numpy, pandas\n",
      "Successfully installed numpy-1.23.5 pandas-1.5.2 pytz-2022.6\n"
     ]
    }
   ],
   "source": [
    "!pip install pandas"
   ]
  },
  {
   "cell_type": "code",
   "execution_count": 35,
   "metadata": {},
   "outputs": [],
   "source": [
    "import sqlite3\n",
    "import pandas as pd"
   ]
  },
  {
   "cell_type": "code",
   "execution_count": 2,
   "metadata": {},
   "outputs": [],
   "source": [
    "conn = sqlite3.connect(\"titanic.db\")"
   ]
  },
  {
   "cell_type": "code",
   "execution_count": 3,
   "metadata": {},
   "outputs": [],
   "source": [
    "cursor = conn.cursor()"
   ]
  },
  {
   "cell_type": "code",
   "execution_count": 32,
   "metadata": {},
   "outputs": [
    {
     "data": {
      "text/plain": [
       "{'Pclass': '1', 'avg(fare)': 44.47981783439487, 'Sex': 'female'}"
      ]
     },
     "execution_count": 32,
     "metadata": {},
     "output_type": "execute_result"
    }
   ],
   "source": [
    "cursor.execute(\"select PClass, avg(fare), Sex from titanic group by Sex;\")\n",
    "dict(cursor.fetchone())"
   ]
  },
  {
   "cell_type": "code",
   "execution_count": 9,
   "metadata": {},
   "outputs": [],
   "source": [
    "cursor.row_factory =  sqlite3.Row"
   ]
  },
  {
   "cell_type": "code",
   "execution_count": 40,
   "metadata": {},
   "outputs": [
    {
     "data": {
      "text/plain": [
       "pandas.core.frame.DataFrame"
      ]
     },
     "execution_count": 40,
     "metadata": {},
     "output_type": "execute_result"
    }
   ],
   "source": [
    "data = pd.read_sql_query('Select * from titanic;', conn)\n",
    "type(data)"
   ]
  },
  {
   "cell_type": "code",
   "execution_count": null,
   "metadata": {},
   "outputs": [],
   "source": [
    "DELETE FROM titanic WHERE Embarked is NULL\n",
    "`\n",
    "UPDATE titanic SET Cabin = '¯\\(ツ)/¯' WHERE Cabin is NULL\n",
    "\n",
    "ALTER TABLE titanic ADD COLUMN FamilyCount REAL;\n",
    "UPDATE titanic SET FamilyCount = SibSp+1\n",
    "\n",
    "ALTER TABLE titanic ADD COLUMN isReverend REAL;\n",
    "UPDATE titanic SET IsReverend = 1 WHERE Name like '%Rev%'\n",
    "UPDATE titanic SET IsReverend = 0 WHERE isReverend is NULL\n",
    "\n",
    "ALTER TABLE titanic ADD COLUMN Embarked_C REAL\n",
    "ALTER TABLE titanic ADD COLUMN Embarked_Q REAL\n",
    "ALTER TABLE titanic ADD COLUMN Embarked_S REAL\n",
    "UPDATE titanic SET Embarked_C = 1 WHERE Embarked = 'C'\n",
    "UPDATE titanic SET Embarked_S = 1 WHERE Embarked = 'S'\n",
    "UPDATE titanic SET Embarked_Q = 1 WHERE Embarked = 'Q'\n",
    "UPDATE titanic SET Embarked_C = 0 WHERE Embarked_C is NULL\n",
    "UPDATE titanic SET Embarked_S = 0 WHERE Embarked_S is NULL\n",
    "UPDATE titanic SET Embarked_Q = 0 WHERE Embarked_Q is NULL\n",
    "\n",
    "ALTER TABLE titanic ADD COLUMN M REAL\n",
    "ALTER TABLE titanic ADD COLUMN F REAL\n",
    "UPDATE titanic SET M = 1 WHERE Sex = 'male'\n",
    "UPDATE titanic SET F = 1 WHERE Sex = 'female'\n",
    "UPDATE titanic SET M = 0 WHERE M is NULL\n",
    "UPDATE titanic SET F = 0 WHERE F is NULL\n",
    "\n",
    "\n",
    "\n",
    "\n"
   ]
  },
  {
   "cell_type": "code",
   "execution_count": null,
   "metadata": {},
   "outputs": [],
   "source": []
  }
 ],
 "metadata": {
  "kernelspec": {
   "display_name": "Python 3 (ipykernel)",
   "language": "python",
   "name": "python3"
  },
  "language_info": {
   "codemirror_mode": {
    "name": "ipython",
    "version": 3
   },
   "file_extension": ".py",
   "mimetype": "text/x-python",
   "name": "python",
   "nbconvert_exporter": "python",
   "pygments_lexer": "ipython3",
   "version": "3.8.10"
  }
 },
 "nbformat": 4,
 "nbformat_minor": 2
}
